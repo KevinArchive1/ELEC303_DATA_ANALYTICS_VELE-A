{
 "cells": [
  {
   "cell_type": "markdown",
   "id": "0a6df63a-fcce-42c0-9d8c-bbbcfb60dceb",
   "metadata": {},
   "source": [
    "# Name: Veleña, Harold V."
   ]
  },
  {
   "cell_type": "markdown",
   "id": "9663219d-7c7c-4e7d-96f7-de5a6ac17254",
   "metadata": {},
   "source": [
    "<hr>Analyst: Harold V. Veleña</hr>"
   ]
  },
  {
   "cell_type": "code",
   "execution_count": 1,
   "id": "c68fcab3-e3f8-44c0-8857-765d7e6f92d2",
   "metadata": {},
   "outputs": [
    {
     "name": "stdout",
     "output_type": "stream",
     "text": [
      "Requirement already satisfied: plotly in c:\\users\\harold velena\\appdata\\local\\programs\\python\\python311\\lib\\site-packages (6.2.0)\n",
      "Requirement already satisfied: narwhals>=1.15.1 in c:\\users\\harold velena\\appdata\\local\\programs\\python\\python311\\lib\\site-packages (from plotly) (2.0.1)\n",
      "Requirement already satisfied: packaging in c:\\users\\harold velena\\appdata\\local\\programs\\python\\python311\\lib\\site-packages (from plotly) (23.2)\n",
      "Note: you may need to restart the kernel to use updated packages.\n"
     ]
    },
    {
     "name": "stderr",
     "output_type": "stream",
     "text": [
      "\n",
      "[notice] A new release of pip is available: 24.3.1 -> 25.2\n",
      "[notice] To update, run: python.exe -m pip install --upgrade pip\n"
     ]
    }
   ],
   "source": [
    "pip install plotly"
   ]
  },
  {
   "cell_type": "code",
   "execution_count": 31,
   "id": "228f6185-3c24-456a-9e0b-40ef8f55c56a",
   "metadata": {},
   "outputs": [],
   "source": [
    "import numpy as np\n",
    "import pandas as pd\n",
    "import matplotlib.pyplot as plt\n",
    "import seaborn as sns"
   ]
  },
  {
   "cell_type": "markdown",
   "id": "2a9b4dad-c57b-4b08-a766-bbdf6cc45d65",
   "metadata": {},
   "source": [
    "<p>Importing dataset to Jupyter notebook</p>\n",
    "<p></p>"
   ]
  },
  {
   "cell_type": "code",
   "execution_count": 32,
   "id": "f5ac296f-5f4b-4a7a-9cdc-176897363ae7",
   "metadata": {},
   "outputs": [
    {
     "data": {
      "text/plain": [
       "dtype('float64')"
      ]
     },
     "execution_count": 32,
     "metadata": {},
     "output_type": "execute_result"
    }
   ],
   "source": [
    "a = np.array([2.2, 3, 4])\n",
    "a.dtype\n"
   ]
  },
  {
   "cell_type": "markdown",
   "id": "fe49fbba-3602-4dbb-937f-d49f19aba2aa",
   "metadata": {},
   "source": [
    "# Getting the penguins data"
   ]
  },
  {
   "cell_type": "code",
   "execution_count": 33,
   "id": "f3fc479b-3538-4933-9312-8153cf555d3c",
   "metadata": {},
   "outputs": [
    {
     "data": {
      "text/html": [
       "<div>\n",
       "<style scoped>\n",
       "    .dataframe tbody tr th:only-of-type {\n",
       "        vertical-align: middle;\n",
       "    }\n",
       "\n",
       "    .dataframe tbody tr th {\n",
       "        vertical-align: top;\n",
       "    }\n",
       "\n",
       "    .dataframe thead th {\n",
       "        text-align: right;\n",
       "    }\n",
       "</style>\n",
       "<table border=\"1\" class=\"dataframe\">\n",
       "  <thead>\n",
       "    <tr style=\"text-align: right;\">\n",
       "      <th></th>\n",
       "      <th>species</th>\n",
       "      <th>island</th>\n",
       "      <th>bill_length_mm</th>\n",
       "      <th>bill_depth_mm</th>\n",
       "      <th>flipper_length_mm</th>\n",
       "      <th>body_mass_g</th>\n",
       "      <th>sex</th>\n",
       "      <th>year</th>\n",
       "    </tr>\n",
       "  </thead>\n",
       "  <tbody>\n",
       "    <tr>\n",
       "      <th>0</th>\n",
       "      <td>Adelie</td>\n",
       "      <td>Torgersen</td>\n",
       "      <td>39.1</td>\n",
       "      <td>18.7</td>\n",
       "      <td>181.0</td>\n",
       "      <td>3750.0</td>\n",
       "      <td>male</td>\n",
       "      <td>2007</td>\n",
       "    </tr>\n",
       "    <tr>\n",
       "      <th>1</th>\n",
       "      <td>Adelie</td>\n",
       "      <td>Torgersen</td>\n",
       "      <td>39.5</td>\n",
       "      <td>17.4</td>\n",
       "      <td>186.0</td>\n",
       "      <td>3800.0</td>\n",
       "      <td>female</td>\n",
       "      <td>2007</td>\n",
       "    </tr>\n",
       "    <tr>\n",
       "      <th>2</th>\n",
       "      <td>Adelie</td>\n",
       "      <td>Torgersen</td>\n",
       "      <td>40.3</td>\n",
       "      <td>18.0</td>\n",
       "      <td>195.0</td>\n",
       "      <td>3250.0</td>\n",
       "      <td>female</td>\n",
       "      <td>2007</td>\n",
       "    </tr>\n",
       "    <tr>\n",
       "      <th>3</th>\n",
       "      <td>Adelie</td>\n",
       "      <td>Torgersen</td>\n",
       "      <td>NaN</td>\n",
       "      <td>NaN</td>\n",
       "      <td>NaN</td>\n",
       "      <td>NaN</td>\n",
       "      <td>NaN</td>\n",
       "      <td>2007</td>\n",
       "    </tr>\n",
       "    <tr>\n",
       "      <th>4</th>\n",
       "      <td>Adelie</td>\n",
       "      <td>Torgersen</td>\n",
       "      <td>36.7</td>\n",
       "      <td>19.3</td>\n",
       "      <td>193.0</td>\n",
       "      <td>3450.0</td>\n",
       "      <td>female</td>\n",
       "      <td>2007</td>\n",
       "    </tr>\n",
       "    <tr>\n",
       "      <th>...</th>\n",
       "      <td>...</td>\n",
       "      <td>...</td>\n",
       "      <td>...</td>\n",
       "      <td>...</td>\n",
       "      <td>...</td>\n",
       "      <td>...</td>\n",
       "      <td>...</td>\n",
       "      <td>...</td>\n",
       "    </tr>\n",
       "    <tr>\n",
       "      <th>339</th>\n",
       "      <td>Chinstrap</td>\n",
       "      <td>Dream</td>\n",
       "      <td>55.8</td>\n",
       "      <td>19.8</td>\n",
       "      <td>207.0</td>\n",
       "      <td>4000.0</td>\n",
       "      <td>male</td>\n",
       "      <td>2009</td>\n",
       "    </tr>\n",
       "    <tr>\n",
       "      <th>340</th>\n",
       "      <td>Chinstrap</td>\n",
       "      <td>Dream</td>\n",
       "      <td>43.5</td>\n",
       "      <td>18.1</td>\n",
       "      <td>202.0</td>\n",
       "      <td>3400.0</td>\n",
       "      <td>female</td>\n",
       "      <td>2009</td>\n",
       "    </tr>\n",
       "    <tr>\n",
       "      <th>341</th>\n",
       "      <td>Chinstrap</td>\n",
       "      <td>Dream</td>\n",
       "      <td>49.6</td>\n",
       "      <td>18.2</td>\n",
       "      <td>193.0</td>\n",
       "      <td>3775.0</td>\n",
       "      <td>male</td>\n",
       "      <td>2009</td>\n",
       "    </tr>\n",
       "    <tr>\n",
       "      <th>342</th>\n",
       "      <td>Chinstrap</td>\n",
       "      <td>Dream</td>\n",
       "      <td>50.8</td>\n",
       "      <td>19.0</td>\n",
       "      <td>210.0</td>\n",
       "      <td>4100.0</td>\n",
       "      <td>male</td>\n",
       "      <td>2009</td>\n",
       "    </tr>\n",
       "    <tr>\n",
       "      <th>343</th>\n",
       "      <td>Chinstrap</td>\n",
       "      <td>Dream</td>\n",
       "      <td>50.2</td>\n",
       "      <td>18.7</td>\n",
       "      <td>198.0</td>\n",
       "      <td>3775.0</td>\n",
       "      <td>female</td>\n",
       "      <td>2009</td>\n",
       "    </tr>\n",
       "  </tbody>\n",
       "</table>\n",
       "<p>344 rows × 8 columns</p>\n",
       "</div>"
      ],
      "text/plain": [
       "       species     island  bill_length_mm  bill_depth_mm  flipper_length_mm  \\\n",
       "0       Adelie  Torgersen            39.1           18.7              181.0   \n",
       "1       Adelie  Torgersen            39.5           17.4              186.0   \n",
       "2       Adelie  Torgersen            40.3           18.0              195.0   \n",
       "3       Adelie  Torgersen             NaN            NaN                NaN   \n",
       "4       Adelie  Torgersen            36.7           19.3              193.0   \n",
       "..         ...        ...             ...            ...                ...   \n",
       "339  Chinstrap      Dream            55.8           19.8              207.0   \n",
       "340  Chinstrap      Dream            43.5           18.1              202.0   \n",
       "341  Chinstrap      Dream            49.6           18.2              193.0   \n",
       "342  Chinstrap      Dream            50.8           19.0              210.0   \n",
       "343  Chinstrap      Dream            50.2           18.7              198.0   \n",
       "\n",
       "     body_mass_g     sex  year  \n",
       "0         3750.0    male  2007  \n",
       "1         3800.0  female  2007  \n",
       "2         3250.0  female  2007  \n",
       "3            NaN     NaN  2007  \n",
       "4         3450.0  female  2007  \n",
       "..           ...     ...   ...  \n",
       "339       4000.0    male  2009  \n",
       "340       3400.0  female  2009  \n",
       "341       3775.0    male  2009  \n",
       "342       4100.0    male  2009  \n",
       "343       3775.0  female  2009  \n",
       "\n",
       "[344 rows x 8 columns]"
      ]
     },
     "execution_count": 33,
     "metadata": {},
     "output_type": "execute_result"
    }
   ],
   "source": [
    "penguins = pd.read_csv('penguins.csv')\n",
    "\n",
    "penguins"
   ]
  },
  {
   "cell_type": "markdown",
   "id": "efd88513-3b26-4ca6-a20b-2c64fbb8a412",
   "metadata": {},
   "source": [
    "# How to create a Column"
   ]
  },
  {
   "cell_type": "code",
   "execution_count": 34,
   "id": "ff321428-1383-4089-978d-8fef190a28d7",
   "metadata": {},
   "outputs": [
    {
     "data": {
      "text/html": [
       "<div>\n",
       "<style scoped>\n",
       "    .dataframe tbody tr th:only-of-type {\n",
       "        vertical-align: middle;\n",
       "    }\n",
       "\n",
       "    .dataframe tbody tr th {\n",
       "        vertical-align: top;\n",
       "    }\n",
       "\n",
       "    .dataframe thead th {\n",
       "        text-align: right;\n",
       "    }\n",
       "</style>\n",
       "<table border=\"1\" class=\"dataframe\">\n",
       "  <thead>\n",
       "    <tr style=\"text-align: right;\">\n",
       "      <th></th>\n",
       "      <th>species</th>\n",
       "      <th>island</th>\n",
       "      <th>bill_length_mm</th>\n",
       "      <th>bill_depth_mm</th>\n",
       "      <th>flipper_length_mm</th>\n",
       "      <th>body_mass_g</th>\n",
       "      <th>sex</th>\n",
       "      <th>year</th>\n",
       "      <th>mass_kg</th>\n",
       "    </tr>\n",
       "  </thead>\n",
       "  <tbody>\n",
       "    <tr>\n",
       "      <th>0</th>\n",
       "      <td>Adelie</td>\n",
       "      <td>Torgersen</td>\n",
       "      <td>39.1</td>\n",
       "      <td>18.7</td>\n",
       "      <td>181.0</td>\n",
       "      <td>3750.0</td>\n",
       "      <td>male</td>\n",
       "      <td>2007</td>\n",
       "      <td>3.8</td>\n",
       "    </tr>\n",
       "    <tr>\n",
       "      <th>1</th>\n",
       "      <td>Adelie</td>\n",
       "      <td>Torgersen</td>\n",
       "      <td>39.5</td>\n",
       "      <td>17.4</td>\n",
       "      <td>186.0</td>\n",
       "      <td>3800.0</td>\n",
       "      <td>female</td>\n",
       "      <td>2007</td>\n",
       "      <td>3.8</td>\n",
       "    </tr>\n",
       "    <tr>\n",
       "      <th>2</th>\n",
       "      <td>Adelie</td>\n",
       "      <td>Torgersen</td>\n",
       "      <td>40.3</td>\n",
       "      <td>18.0</td>\n",
       "      <td>195.0</td>\n",
       "      <td>3250.0</td>\n",
       "      <td>female</td>\n",
       "      <td>2007</td>\n",
       "      <td>3.2</td>\n",
       "    </tr>\n",
       "    <tr>\n",
       "      <th>3</th>\n",
       "      <td>Adelie</td>\n",
       "      <td>Torgersen</td>\n",
       "      <td>NaN</td>\n",
       "      <td>NaN</td>\n",
       "      <td>NaN</td>\n",
       "      <td>NaN</td>\n",
       "      <td>NaN</td>\n",
       "      <td>2007</td>\n",
       "      <td>NaN</td>\n",
       "    </tr>\n",
       "    <tr>\n",
       "      <th>4</th>\n",
       "      <td>Adelie</td>\n",
       "      <td>Torgersen</td>\n",
       "      <td>36.7</td>\n",
       "      <td>19.3</td>\n",
       "      <td>193.0</td>\n",
       "      <td>3450.0</td>\n",
       "      <td>female</td>\n",
       "      <td>2007</td>\n",
       "      <td>3.4</td>\n",
       "    </tr>\n",
       "    <tr>\n",
       "      <th>...</th>\n",
       "      <td>...</td>\n",
       "      <td>...</td>\n",
       "      <td>...</td>\n",
       "      <td>...</td>\n",
       "      <td>...</td>\n",
       "      <td>...</td>\n",
       "      <td>...</td>\n",
       "      <td>...</td>\n",
       "      <td>...</td>\n",
       "    </tr>\n",
       "    <tr>\n",
       "      <th>339</th>\n",
       "      <td>Chinstrap</td>\n",
       "      <td>Dream</td>\n",
       "      <td>55.8</td>\n",
       "      <td>19.8</td>\n",
       "      <td>207.0</td>\n",
       "      <td>4000.0</td>\n",
       "      <td>male</td>\n",
       "      <td>2009</td>\n",
       "      <td>4.0</td>\n",
       "    </tr>\n",
       "    <tr>\n",
       "      <th>340</th>\n",
       "      <td>Chinstrap</td>\n",
       "      <td>Dream</td>\n",
       "      <td>43.5</td>\n",
       "      <td>18.1</td>\n",
       "      <td>202.0</td>\n",
       "      <td>3400.0</td>\n",
       "      <td>female</td>\n",
       "      <td>2009</td>\n",
       "      <td>3.4</td>\n",
       "    </tr>\n",
       "    <tr>\n",
       "      <th>341</th>\n",
       "      <td>Chinstrap</td>\n",
       "      <td>Dream</td>\n",
       "      <td>49.6</td>\n",
       "      <td>18.2</td>\n",
       "      <td>193.0</td>\n",
       "      <td>3775.0</td>\n",
       "      <td>male</td>\n",
       "      <td>2009</td>\n",
       "      <td>3.8</td>\n",
       "    </tr>\n",
       "    <tr>\n",
       "      <th>342</th>\n",
       "      <td>Chinstrap</td>\n",
       "      <td>Dream</td>\n",
       "      <td>50.8</td>\n",
       "      <td>19.0</td>\n",
       "      <td>210.0</td>\n",
       "      <td>4100.0</td>\n",
       "      <td>male</td>\n",
       "      <td>2009</td>\n",
       "      <td>4.1</td>\n",
       "    </tr>\n",
       "    <tr>\n",
       "      <th>343</th>\n",
       "      <td>Chinstrap</td>\n",
       "      <td>Dream</td>\n",
       "      <td>50.2</td>\n",
       "      <td>18.7</td>\n",
       "      <td>198.0</td>\n",
       "      <td>3775.0</td>\n",
       "      <td>female</td>\n",
       "      <td>2009</td>\n",
       "      <td>3.8</td>\n",
       "    </tr>\n",
       "  </tbody>\n",
       "</table>\n",
       "<p>344 rows × 9 columns</p>\n",
       "</div>"
      ],
      "text/plain": [
       "       species     island  bill_length_mm  bill_depth_mm  flipper_length_mm  \\\n",
       "0       Adelie  Torgersen            39.1           18.7              181.0   \n",
       "1       Adelie  Torgersen            39.5           17.4              186.0   \n",
       "2       Adelie  Torgersen            40.3           18.0              195.0   \n",
       "3       Adelie  Torgersen             NaN            NaN                NaN   \n",
       "4       Adelie  Torgersen            36.7           19.3              193.0   \n",
       "..         ...        ...             ...            ...                ...   \n",
       "339  Chinstrap      Dream            55.8           19.8              207.0   \n",
       "340  Chinstrap      Dream            43.5           18.1              202.0   \n",
       "341  Chinstrap      Dream            49.6           18.2              193.0   \n",
       "342  Chinstrap      Dream            50.8           19.0              210.0   \n",
       "343  Chinstrap      Dream            50.2           18.7              198.0   \n",
       "\n",
       "     body_mass_g     sex  year  mass_kg  \n",
       "0         3750.0    male  2007      3.8  \n",
       "1         3800.0  female  2007      3.8  \n",
       "2         3250.0  female  2007      3.2  \n",
       "3            NaN     NaN  2007      NaN  \n",
       "4         3450.0  female  2007      3.4  \n",
       "..           ...     ...   ...      ...  \n",
       "339       4000.0    male  2009      4.0  \n",
       "340       3400.0  female  2009      3.4  \n",
       "341       3775.0    male  2009      3.8  \n",
       "342       4100.0    male  2009      4.1  \n",
       "343       3775.0  female  2009      3.8  \n",
       "\n",
       "[344 rows x 9 columns]"
      ]
     },
     "execution_count": 34,
     "metadata": {},
     "output_type": "execute_result"
    }
   ],
   "source": [
    "penguins[\"mass_kg\"] = round(penguins[\"body_mass_g\"] / 1000,1)\n",
    "penguins"
   ]
  },
  {
   "cell_type": "markdown",
   "id": "5afb82f5-399c-4f90-841e-af45f400a0ac",
   "metadata": {},
   "source": [
    "# Descriptive Analysis"
   ]
  },
  {
   "cell_type": "markdown",
   "id": "6a840d4b-e83b-40d5-9e5f-4ced4ce98518",
   "metadata": {},
   "source": [
    "<h2>Getting the Top 5</h2>"
   ]
  },
  {
   "cell_type": "code",
   "execution_count": 35,
   "id": "13655c24-4bd8-41d5-ba1e-4d958baec549",
   "metadata": {},
   "outputs": [
    {
     "data": {
      "text/html": [
       "<div>\n",
       "<style scoped>\n",
       "    .dataframe tbody tr th:only-of-type {\n",
       "        vertical-align: middle;\n",
       "    }\n",
       "\n",
       "    .dataframe tbody tr th {\n",
       "        vertical-align: top;\n",
       "    }\n",
       "\n",
       "    .dataframe thead th {\n",
       "        text-align: right;\n",
       "    }\n",
       "</style>\n",
       "<table border=\"1\" class=\"dataframe\">\n",
       "  <thead>\n",
       "    <tr style=\"text-align: right;\">\n",
       "      <th></th>\n",
       "      <th>species</th>\n",
       "      <th>island</th>\n",
       "      <th>bill_length_mm</th>\n",
       "      <th>bill_depth_mm</th>\n",
       "      <th>flipper_length_mm</th>\n",
       "      <th>body_mass_g</th>\n",
       "      <th>sex</th>\n",
       "      <th>year</th>\n",
       "      <th>mass_kg</th>\n",
       "    </tr>\n",
       "  </thead>\n",
       "  <tbody>\n",
       "    <tr>\n",
       "      <th>0</th>\n",
       "      <td>Adelie</td>\n",
       "      <td>Torgersen</td>\n",
       "      <td>39.1</td>\n",
       "      <td>18.7</td>\n",
       "      <td>181.0</td>\n",
       "      <td>3750.0</td>\n",
       "      <td>male</td>\n",
       "      <td>2007</td>\n",
       "      <td>3.8</td>\n",
       "    </tr>\n",
       "    <tr>\n",
       "      <th>1</th>\n",
       "      <td>Adelie</td>\n",
       "      <td>Torgersen</td>\n",
       "      <td>39.5</td>\n",
       "      <td>17.4</td>\n",
       "      <td>186.0</td>\n",
       "      <td>3800.0</td>\n",
       "      <td>female</td>\n",
       "      <td>2007</td>\n",
       "      <td>3.8</td>\n",
       "    </tr>\n",
       "    <tr>\n",
       "      <th>2</th>\n",
       "      <td>Adelie</td>\n",
       "      <td>Torgersen</td>\n",
       "      <td>40.3</td>\n",
       "      <td>18.0</td>\n",
       "      <td>195.0</td>\n",
       "      <td>3250.0</td>\n",
       "      <td>female</td>\n",
       "      <td>2007</td>\n",
       "      <td>3.2</td>\n",
       "    </tr>\n",
       "    <tr>\n",
       "      <th>3</th>\n",
       "      <td>Adelie</td>\n",
       "      <td>Torgersen</td>\n",
       "      <td>NaN</td>\n",
       "      <td>NaN</td>\n",
       "      <td>NaN</td>\n",
       "      <td>NaN</td>\n",
       "      <td>NaN</td>\n",
       "      <td>2007</td>\n",
       "      <td>NaN</td>\n",
       "    </tr>\n",
       "    <tr>\n",
       "      <th>4</th>\n",
       "      <td>Adelie</td>\n",
       "      <td>Torgersen</td>\n",
       "      <td>36.7</td>\n",
       "      <td>19.3</td>\n",
       "      <td>193.0</td>\n",
       "      <td>3450.0</td>\n",
       "      <td>female</td>\n",
       "      <td>2007</td>\n",
       "      <td>3.4</td>\n",
       "    </tr>\n",
       "  </tbody>\n",
       "</table>\n",
       "</div>"
      ],
      "text/plain": [
       "  species     island  bill_length_mm  bill_depth_mm  flipper_length_mm  \\\n",
       "0  Adelie  Torgersen            39.1           18.7              181.0   \n",
       "1  Adelie  Torgersen            39.5           17.4              186.0   \n",
       "2  Adelie  Torgersen            40.3           18.0              195.0   \n",
       "3  Adelie  Torgersen             NaN            NaN                NaN   \n",
       "4  Adelie  Torgersen            36.7           19.3              193.0   \n",
       "\n",
       "   body_mass_g     sex  year  mass_kg  \n",
       "0       3750.0    male  2007      3.8  \n",
       "1       3800.0  female  2007      3.8  \n",
       "2       3250.0  female  2007      3.2  \n",
       "3          NaN     NaN  2007      NaN  \n",
       "4       3450.0  female  2007      3.4  "
      ]
     },
     "execution_count": 35,
     "metadata": {},
     "output_type": "execute_result"
    }
   ],
   "source": [
    "penguins.head()"
   ]
  },
  {
   "cell_type": "code",
   "execution_count": 36,
   "id": "54a4a30e-558b-46fa-a520-b84eb692379c",
   "metadata": {},
   "outputs": [
    {
     "name": "stdout",
     "output_type": "stream",
     "text": [
      "<class 'pandas.core.frame.DataFrame'>\n",
      "RangeIndex: 344 entries, 0 to 343\n",
      "Data columns (total 9 columns):\n",
      " #   Column             Non-Null Count  Dtype  \n",
      "---  ------             --------------  -----  \n",
      " 0   species            344 non-null    object \n",
      " 1   island             344 non-null    object \n",
      " 2   bill_length_mm     342 non-null    float64\n",
      " 3   bill_depth_mm      342 non-null    float64\n",
      " 4   flipper_length_mm  342 non-null    float64\n",
      " 5   body_mass_g        342 non-null    float64\n",
      " 6   sex                333 non-null    object \n",
      " 7   year               344 non-null    int64  \n",
      " 8   mass_kg            342 non-null    float64\n",
      "dtypes: float64(5), int64(1), object(3)\n",
      "memory usage: 24.3+ KB\n"
     ]
    }
   ],
   "source": [
    "penguins.info()"
   ]
  },
  {
   "cell_type": "code",
   "execution_count": 37,
   "id": "a801855c-09c9-4d9f-9a34-9ff736845b1f",
   "metadata": {},
   "outputs": [
    {
     "data": {
      "text/html": [
       "<div>\n",
       "<style scoped>\n",
       "    .dataframe tbody tr th:only-of-type {\n",
       "        vertical-align: middle;\n",
       "    }\n",
       "\n",
       "    .dataframe tbody tr th {\n",
       "        vertical-align: top;\n",
       "    }\n",
       "\n",
       "    .dataframe thead th {\n",
       "        text-align: right;\n",
       "    }\n",
       "</style>\n",
       "<table border=\"1\" class=\"dataframe\">\n",
       "  <thead>\n",
       "    <tr style=\"text-align: right;\">\n",
       "      <th></th>\n",
       "      <th>bill_length_mm</th>\n",
       "      <th>bill_depth_mm</th>\n",
       "      <th>flipper_length_mm</th>\n",
       "      <th>body_mass_g</th>\n",
       "      <th>year</th>\n",
       "      <th>mass_kg</th>\n",
       "    </tr>\n",
       "  </thead>\n",
       "  <tbody>\n",
       "    <tr>\n",
       "      <th>count</th>\n",
       "      <td>342.000000</td>\n",
       "      <td>342.000000</td>\n",
       "      <td>342.000000</td>\n",
       "      <td>342.000000</td>\n",
       "      <td>344.000000</td>\n",
       "      <td>342.000000</td>\n",
       "    </tr>\n",
       "    <tr>\n",
       "      <th>mean</th>\n",
       "      <td>43.921930</td>\n",
       "      <td>17.151170</td>\n",
       "      <td>200.915205</td>\n",
       "      <td>4201.754386</td>\n",
       "      <td>2008.029070</td>\n",
       "      <td>4.202047</td>\n",
       "    </tr>\n",
       "    <tr>\n",
       "      <th>std</th>\n",
       "      <td>5.459584</td>\n",
       "      <td>1.974793</td>\n",
       "      <td>14.061714</td>\n",
       "      <td>801.954536</td>\n",
       "      <td>0.818356</td>\n",
       "      <td>0.803089</td>\n",
       "    </tr>\n",
       "    <tr>\n",
       "      <th>min</th>\n",
       "      <td>32.100000</td>\n",
       "      <td>13.100000</td>\n",
       "      <td>172.000000</td>\n",
       "      <td>2700.000000</td>\n",
       "      <td>2007.000000</td>\n",
       "      <td>2.700000</td>\n",
       "    </tr>\n",
       "    <tr>\n",
       "      <th>25%</th>\n",
       "      <td>39.225000</td>\n",
       "      <td>15.600000</td>\n",
       "      <td>190.000000</td>\n",
       "      <td>3550.000000</td>\n",
       "      <td>2007.000000</td>\n",
       "      <td>3.600000</td>\n",
       "    </tr>\n",
       "    <tr>\n",
       "      <th>50%</th>\n",
       "      <td>44.450000</td>\n",
       "      <td>17.300000</td>\n",
       "      <td>197.000000</td>\n",
       "      <td>4050.000000</td>\n",
       "      <td>2008.000000</td>\n",
       "      <td>4.000000</td>\n",
       "    </tr>\n",
       "    <tr>\n",
       "      <th>75%</th>\n",
       "      <td>48.500000</td>\n",
       "      <td>18.700000</td>\n",
       "      <td>213.000000</td>\n",
       "      <td>4750.000000</td>\n",
       "      <td>2009.000000</td>\n",
       "      <td>4.800000</td>\n",
       "    </tr>\n",
       "    <tr>\n",
       "      <th>max</th>\n",
       "      <td>59.600000</td>\n",
       "      <td>21.500000</td>\n",
       "      <td>231.000000</td>\n",
       "      <td>6300.000000</td>\n",
       "      <td>2009.000000</td>\n",
       "      <td>6.300000</td>\n",
       "    </tr>\n",
       "  </tbody>\n",
       "</table>\n",
       "</div>"
      ],
      "text/plain": [
       "       bill_length_mm  bill_depth_mm  flipper_length_mm  body_mass_g  \\\n",
       "count      342.000000     342.000000         342.000000   342.000000   \n",
       "mean        43.921930      17.151170         200.915205  4201.754386   \n",
       "std          5.459584       1.974793          14.061714   801.954536   \n",
       "min         32.100000      13.100000         172.000000  2700.000000   \n",
       "25%         39.225000      15.600000         190.000000  3550.000000   \n",
       "50%         44.450000      17.300000         197.000000  4050.000000   \n",
       "75%         48.500000      18.700000         213.000000  4750.000000   \n",
       "max         59.600000      21.500000         231.000000  6300.000000   \n",
       "\n",
       "              year     mass_kg  \n",
       "count   344.000000  342.000000  \n",
       "mean   2008.029070    4.202047  \n",
       "std       0.818356    0.803089  \n",
       "min    2007.000000    2.700000  \n",
       "25%    2007.000000    3.600000  \n",
       "50%    2008.000000    4.000000  \n",
       "75%    2009.000000    4.800000  \n",
       "max    2009.000000    6.300000  "
      ]
     },
     "execution_count": 37,
     "metadata": {},
     "output_type": "execute_result"
    }
   ],
   "source": [
    "penguins.describe()"
   ]
  },
  {
   "cell_type": "code",
   "execution_count": 38,
   "id": "59e3618d-7909-4c28-acf7-0797c619fe26",
   "metadata": {},
   "outputs": [
    {
     "data": {
      "text/plain": [
       "species               0\n",
       "island                0\n",
       "bill_length_mm        2\n",
       "bill_depth_mm         2\n",
       "flipper_length_mm     2\n",
       "body_mass_g           2\n",
       "sex                  11\n",
       "year                  0\n",
       "mass_kg               2\n",
       "dtype: int64"
      ]
     },
     "execution_count": 38,
     "metadata": {},
     "output_type": "execute_result"
    }
   ],
   "source": [
    "penguins.isnull().sum()"
   ]
  },
  {
   "cell_type": "code",
   "execution_count": 39,
   "id": "40b80e20-aceb-4671-b6f9-d06c6e5375de",
   "metadata": {},
   "outputs": [
    {
     "data": {
      "text/html": [
       "<div>\n",
       "<style scoped>\n",
       "    .dataframe tbody tr th:only-of-type {\n",
       "        vertical-align: middle;\n",
       "    }\n",
       "\n",
       "    .dataframe tbody tr th {\n",
       "        vertical-align: top;\n",
       "    }\n",
       "\n",
       "    .dataframe thead th {\n",
       "        text-align: right;\n",
       "    }\n",
       "</style>\n",
       "<table border=\"1\" class=\"dataframe\">\n",
       "  <thead>\n",
       "    <tr style=\"text-align: right;\">\n",
       "      <th></th>\n",
       "      <th>species</th>\n",
       "      <th>island</th>\n",
       "      <th>bill_length_mm</th>\n",
       "      <th>bill_depth_mm</th>\n",
       "      <th>flipper_length_mm</th>\n",
       "      <th>body_mass_g</th>\n",
       "      <th>sex</th>\n",
       "      <th>year</th>\n",
       "      <th>mass_kg</th>\n",
       "    </tr>\n",
       "  </thead>\n",
       "  <tbody>\n",
       "    <tr>\n",
       "      <th>30</th>\n",
       "      <td>Adelie</td>\n",
       "      <td>Dream</td>\n",
       "      <td>39.5</td>\n",
       "      <td>16.7</td>\n",
       "      <td>178.0</td>\n",
       "      <td>3250.0</td>\n",
       "      <td>female</td>\n",
       "      <td>2007</td>\n",
       "      <td>3.2</td>\n",
       "    </tr>\n",
       "    <tr>\n",
       "      <th>31</th>\n",
       "      <td>Adelie</td>\n",
       "      <td>Dream</td>\n",
       "      <td>37.2</td>\n",
       "      <td>18.1</td>\n",
       "      <td>178.0</td>\n",
       "      <td>3900.0</td>\n",
       "      <td>male</td>\n",
       "      <td>2007</td>\n",
       "      <td>3.9</td>\n",
       "    </tr>\n",
       "    <tr>\n",
       "      <th>32</th>\n",
       "      <td>Adelie</td>\n",
       "      <td>Dream</td>\n",
       "      <td>39.5</td>\n",
       "      <td>17.8</td>\n",
       "      <td>188.0</td>\n",
       "      <td>3300.0</td>\n",
       "      <td>female</td>\n",
       "      <td>2007</td>\n",
       "      <td>3.3</td>\n",
       "    </tr>\n",
       "    <tr>\n",
       "      <th>33</th>\n",
       "      <td>Adelie</td>\n",
       "      <td>Dream</td>\n",
       "      <td>40.9</td>\n",
       "      <td>18.9</td>\n",
       "      <td>184.0</td>\n",
       "      <td>3900.0</td>\n",
       "      <td>male</td>\n",
       "      <td>2007</td>\n",
       "      <td>3.9</td>\n",
       "    </tr>\n",
       "    <tr>\n",
       "      <th>34</th>\n",
       "      <td>Adelie</td>\n",
       "      <td>Dream</td>\n",
       "      <td>36.4</td>\n",
       "      <td>17.0</td>\n",
       "      <td>195.0</td>\n",
       "      <td>3325.0</td>\n",
       "      <td>female</td>\n",
       "      <td>2007</td>\n",
       "      <td>3.3</td>\n",
       "    </tr>\n",
       "    <tr>\n",
       "      <th>...</th>\n",
       "      <td>...</td>\n",
       "      <td>...</td>\n",
       "      <td>...</td>\n",
       "      <td>...</td>\n",
       "      <td>...</td>\n",
       "      <td>...</td>\n",
       "      <td>...</td>\n",
       "      <td>...</td>\n",
       "      <td>...</td>\n",
       "    </tr>\n",
       "    <tr>\n",
       "      <th>339</th>\n",
       "      <td>Chinstrap</td>\n",
       "      <td>Dream</td>\n",
       "      <td>55.8</td>\n",
       "      <td>19.8</td>\n",
       "      <td>207.0</td>\n",
       "      <td>4000.0</td>\n",
       "      <td>male</td>\n",
       "      <td>2009</td>\n",
       "      <td>4.0</td>\n",
       "    </tr>\n",
       "    <tr>\n",
       "      <th>340</th>\n",
       "      <td>Chinstrap</td>\n",
       "      <td>Dream</td>\n",
       "      <td>43.5</td>\n",
       "      <td>18.1</td>\n",
       "      <td>202.0</td>\n",
       "      <td>3400.0</td>\n",
       "      <td>female</td>\n",
       "      <td>2009</td>\n",
       "      <td>3.4</td>\n",
       "    </tr>\n",
       "    <tr>\n",
       "      <th>341</th>\n",
       "      <td>Chinstrap</td>\n",
       "      <td>Dream</td>\n",
       "      <td>49.6</td>\n",
       "      <td>18.2</td>\n",
       "      <td>193.0</td>\n",
       "      <td>3775.0</td>\n",
       "      <td>male</td>\n",
       "      <td>2009</td>\n",
       "      <td>3.8</td>\n",
       "    </tr>\n",
       "    <tr>\n",
       "      <th>342</th>\n",
       "      <td>Chinstrap</td>\n",
       "      <td>Dream</td>\n",
       "      <td>50.8</td>\n",
       "      <td>19.0</td>\n",
       "      <td>210.0</td>\n",
       "      <td>4100.0</td>\n",
       "      <td>male</td>\n",
       "      <td>2009</td>\n",
       "      <td>4.1</td>\n",
       "    </tr>\n",
       "    <tr>\n",
       "      <th>343</th>\n",
       "      <td>Chinstrap</td>\n",
       "      <td>Dream</td>\n",
       "      <td>50.2</td>\n",
       "      <td>18.7</td>\n",
       "      <td>198.0</td>\n",
       "      <td>3775.0</td>\n",
       "      <td>female</td>\n",
       "      <td>2009</td>\n",
       "      <td>3.8</td>\n",
       "    </tr>\n",
       "  </tbody>\n",
       "</table>\n",
       "<p>124 rows × 9 columns</p>\n",
       "</div>"
      ],
      "text/plain": [
       "       species island  bill_length_mm  bill_depth_mm  flipper_length_mm  \\\n",
       "30      Adelie  Dream            39.5           16.7              178.0   \n",
       "31      Adelie  Dream            37.2           18.1              178.0   \n",
       "32      Adelie  Dream            39.5           17.8              188.0   \n",
       "33      Adelie  Dream            40.9           18.9              184.0   \n",
       "34      Adelie  Dream            36.4           17.0              195.0   \n",
       "..         ...    ...             ...            ...                ...   \n",
       "339  Chinstrap  Dream            55.8           19.8              207.0   \n",
       "340  Chinstrap  Dream            43.5           18.1              202.0   \n",
       "341  Chinstrap  Dream            49.6           18.2              193.0   \n",
       "342  Chinstrap  Dream            50.8           19.0              210.0   \n",
       "343  Chinstrap  Dream            50.2           18.7              198.0   \n",
       "\n",
       "     body_mass_g     sex  year  mass_kg  \n",
       "30        3250.0  female  2007      3.2  \n",
       "31        3900.0    male  2007      3.9  \n",
       "32        3300.0  female  2007      3.3  \n",
       "33        3900.0    male  2007      3.9  \n",
       "34        3325.0  female  2007      3.3  \n",
       "..           ...     ...   ...      ...  \n",
       "339       4000.0    male  2009      4.0  \n",
       "340       3400.0  female  2009      3.4  \n",
       "341       3775.0    male  2009      3.8  \n",
       "342       4100.0    male  2009      4.1  \n",
       "343       3775.0  female  2009      3.8  \n",
       "\n",
       "[124 rows x 9 columns]"
      ]
     },
     "execution_count": 39,
     "metadata": {},
     "output_type": "execute_result"
    }
   ],
   "source": [
    "penguins[penguins[\"island\"] == 'Dream']"
   ]
  },
  {
   "cell_type": "code",
   "execution_count": 40,
   "id": "7a171a60-eab4-4451-910c-979c4020be04",
   "metadata": {},
   "outputs": [
    {
     "data": {
      "text/plain": [
       "0      False\n",
       "1      False\n",
       "2      False\n",
       "3       True\n",
       "4      False\n",
       "       ...  \n",
       "339    False\n",
       "340    False\n",
       "341    False\n",
       "342    False\n",
       "343    False\n",
       "Name: bill_length_mm, Length: 344, dtype: bool"
      ]
     },
     "execution_count": 40,
     "metadata": {},
     "output_type": "execute_result"
    }
   ],
   "source": [
    "penguins[\"bill_length_mm\"].isnull()"
   ]
  },
  {
   "cell_type": "code",
   "execution_count": 41,
   "id": "ad998639-b70f-426a-b9b6-34a215cfa87f",
   "metadata": {},
   "outputs": [
    {
     "data": {
      "text/plain": [
       "species\n",
       "Adelie       152\n",
       "Gentoo       124\n",
       "Chinstrap     68\n",
       "Name: count, dtype: int64"
      ]
     },
     "execution_count": 41,
     "metadata": {},
     "output_type": "execute_result"
    }
   ],
   "source": [
    "penguins[\"species\"].value_counts()"
   ]
  },
  {
   "cell_type": "code",
   "execution_count": 42,
   "id": "bce1b3d0-ce86-4198-a408-c305b56647f0",
   "metadata": {},
   "outputs": [],
   "source": [
    "Adelie_pd = penguins[penguins[\"species\"] == 'Adelie']\n",
    "Gentoo_pd = penguins[penguins[\"species\"] == 'Gentoo']\n",
    "Crinstrap_pd = penguins[penguins[\"species\"] == 'Chinstrap']"
   ]
  },
  {
   "cell_type": "code",
   "execution_count": 43,
   "id": "a6d4a581-1359-48f3-86a4-c250721397b0",
   "metadata": {},
   "outputs": [
    {
     "data": {
      "text/html": [
       "<div>\n",
       "<style scoped>\n",
       "    .dataframe tbody tr th:only-of-type {\n",
       "        vertical-align: middle;\n",
       "    }\n",
       "\n",
       "    .dataframe tbody tr th {\n",
       "        vertical-align: top;\n",
       "    }\n",
       "\n",
       "    .dataframe thead th {\n",
       "        text-align: right;\n",
       "    }\n",
       "</style>\n",
       "<table border=\"1\" class=\"dataframe\">\n",
       "  <thead>\n",
       "    <tr style=\"text-align: right;\">\n",
       "      <th></th>\n",
       "      <th>species</th>\n",
       "      <th>island</th>\n",
       "      <th>bill_length_mm</th>\n",
       "      <th>bill_depth_mm</th>\n",
       "      <th>flipper_length_mm</th>\n",
       "      <th>body_mass_g</th>\n",
       "      <th>sex</th>\n",
       "      <th>year</th>\n",
       "      <th>mass_kg</th>\n",
       "    </tr>\n",
       "  </thead>\n",
       "  <tbody>\n",
       "    <tr>\n",
       "      <th>0</th>\n",
       "      <td>Adelie</td>\n",
       "      <td>Torgersen</td>\n",
       "      <td>39.1</td>\n",
       "      <td>18.7</td>\n",
       "      <td>181.0</td>\n",
       "      <td>3750.0</td>\n",
       "      <td>male</td>\n",
       "      <td>2007</td>\n",
       "      <td>3.8</td>\n",
       "    </tr>\n",
       "    <tr>\n",
       "      <th>1</th>\n",
       "      <td>Adelie</td>\n",
       "      <td>Torgersen</td>\n",
       "      <td>39.5</td>\n",
       "      <td>17.4</td>\n",
       "      <td>186.0</td>\n",
       "      <td>3800.0</td>\n",
       "      <td>female</td>\n",
       "      <td>2007</td>\n",
       "      <td>3.8</td>\n",
       "    </tr>\n",
       "    <tr>\n",
       "      <th>2</th>\n",
       "      <td>Adelie</td>\n",
       "      <td>Torgersen</td>\n",
       "      <td>40.3</td>\n",
       "      <td>18.0</td>\n",
       "      <td>195.0</td>\n",
       "      <td>3250.0</td>\n",
       "      <td>female</td>\n",
       "      <td>2007</td>\n",
       "      <td>3.2</td>\n",
       "    </tr>\n",
       "    <tr>\n",
       "      <th>3</th>\n",
       "      <td>Adelie</td>\n",
       "      <td>Torgersen</td>\n",
       "      <td>NaN</td>\n",
       "      <td>NaN</td>\n",
       "      <td>NaN</td>\n",
       "      <td>NaN</td>\n",
       "      <td>NaN</td>\n",
       "      <td>2007</td>\n",
       "      <td>NaN</td>\n",
       "    </tr>\n",
       "    <tr>\n",
       "      <th>4</th>\n",
       "      <td>Adelie</td>\n",
       "      <td>Torgersen</td>\n",
       "      <td>36.7</td>\n",
       "      <td>19.3</td>\n",
       "      <td>193.0</td>\n",
       "      <td>3450.0</td>\n",
       "      <td>female</td>\n",
       "      <td>2007</td>\n",
       "      <td>3.4</td>\n",
       "    </tr>\n",
       "    <tr>\n",
       "      <th>...</th>\n",
       "      <td>...</td>\n",
       "      <td>...</td>\n",
       "      <td>...</td>\n",
       "      <td>...</td>\n",
       "      <td>...</td>\n",
       "      <td>...</td>\n",
       "      <td>...</td>\n",
       "      <td>...</td>\n",
       "      <td>...</td>\n",
       "    </tr>\n",
       "    <tr>\n",
       "      <th>147</th>\n",
       "      <td>Adelie</td>\n",
       "      <td>Dream</td>\n",
       "      <td>36.6</td>\n",
       "      <td>18.4</td>\n",
       "      <td>184.0</td>\n",
       "      <td>3475.0</td>\n",
       "      <td>female</td>\n",
       "      <td>2009</td>\n",
       "      <td>3.5</td>\n",
       "    </tr>\n",
       "    <tr>\n",
       "      <th>148</th>\n",
       "      <td>Adelie</td>\n",
       "      <td>Dream</td>\n",
       "      <td>36.0</td>\n",
       "      <td>17.8</td>\n",
       "      <td>195.0</td>\n",
       "      <td>3450.0</td>\n",
       "      <td>female</td>\n",
       "      <td>2009</td>\n",
       "      <td>3.4</td>\n",
       "    </tr>\n",
       "    <tr>\n",
       "      <th>149</th>\n",
       "      <td>Adelie</td>\n",
       "      <td>Dream</td>\n",
       "      <td>37.8</td>\n",
       "      <td>18.1</td>\n",
       "      <td>193.0</td>\n",
       "      <td>3750.0</td>\n",
       "      <td>male</td>\n",
       "      <td>2009</td>\n",
       "      <td>3.8</td>\n",
       "    </tr>\n",
       "    <tr>\n",
       "      <th>150</th>\n",
       "      <td>Adelie</td>\n",
       "      <td>Dream</td>\n",
       "      <td>36.0</td>\n",
       "      <td>17.1</td>\n",
       "      <td>187.0</td>\n",
       "      <td>3700.0</td>\n",
       "      <td>female</td>\n",
       "      <td>2009</td>\n",
       "      <td>3.7</td>\n",
       "    </tr>\n",
       "    <tr>\n",
       "      <th>151</th>\n",
       "      <td>Adelie</td>\n",
       "      <td>Dream</td>\n",
       "      <td>41.5</td>\n",
       "      <td>18.5</td>\n",
       "      <td>201.0</td>\n",
       "      <td>4000.0</td>\n",
       "      <td>male</td>\n",
       "      <td>2009</td>\n",
       "      <td>4.0</td>\n",
       "    </tr>\n",
       "  </tbody>\n",
       "</table>\n",
       "<p>152 rows × 9 columns</p>\n",
       "</div>"
      ],
      "text/plain": [
       "    species     island  bill_length_mm  bill_depth_mm  flipper_length_mm  \\\n",
       "0    Adelie  Torgersen            39.1           18.7              181.0   \n",
       "1    Adelie  Torgersen            39.5           17.4              186.0   \n",
       "2    Adelie  Torgersen            40.3           18.0              195.0   \n",
       "3    Adelie  Torgersen             NaN            NaN                NaN   \n",
       "4    Adelie  Torgersen            36.7           19.3              193.0   \n",
       "..      ...        ...             ...            ...                ...   \n",
       "147  Adelie      Dream            36.6           18.4              184.0   \n",
       "148  Adelie      Dream            36.0           17.8              195.0   \n",
       "149  Adelie      Dream            37.8           18.1              193.0   \n",
       "150  Adelie      Dream            36.0           17.1              187.0   \n",
       "151  Adelie      Dream            41.5           18.5              201.0   \n",
       "\n",
       "     body_mass_g     sex  year  mass_kg  \n",
       "0         3750.0    male  2007      3.8  \n",
       "1         3800.0  female  2007      3.8  \n",
       "2         3250.0  female  2007      3.2  \n",
       "3            NaN     NaN  2007      NaN  \n",
       "4         3450.0  female  2007      3.4  \n",
       "..           ...     ...   ...      ...  \n",
       "147       3475.0  female  2009      3.5  \n",
       "148       3450.0  female  2009      3.4  \n",
       "149       3750.0    male  2009      3.8  \n",
       "150       3700.0  female  2009      3.7  \n",
       "151       4000.0    male  2009      4.0  \n",
       "\n",
       "[152 rows x 9 columns]"
      ]
     },
     "execution_count": 43,
     "metadata": {},
     "output_type": "execute_result"
    }
   ],
   "source": [
    "Adelie_pd"
   ]
  },
  {
   "cell_type": "code",
   "execution_count": 44,
   "id": "81997631-1423-4cbd-bd42-994d38b41537",
   "metadata": {},
   "outputs": [
    {
     "data": {
      "text/html": [
       "<div>\n",
       "<style scoped>\n",
       "    .dataframe tbody tr th:only-of-type {\n",
       "        vertical-align: middle;\n",
       "    }\n",
       "\n",
       "    .dataframe tbody tr th {\n",
       "        vertical-align: top;\n",
       "    }\n",
       "\n",
       "    .dataframe thead th {\n",
       "        text-align: right;\n",
       "    }\n",
       "</style>\n",
       "<table border=\"1\" class=\"dataframe\">\n",
       "  <thead>\n",
       "    <tr style=\"text-align: right;\">\n",
       "      <th></th>\n",
       "      <th>species</th>\n",
       "      <th>island</th>\n",
       "      <th>bill_length_mm</th>\n",
       "      <th>bill_depth_mm</th>\n",
       "      <th>flipper_length_mm</th>\n",
       "      <th>body_mass_g</th>\n",
       "      <th>sex</th>\n",
       "      <th>year</th>\n",
       "      <th>mass_kg</th>\n",
       "    </tr>\n",
       "  </thead>\n",
       "  <tbody>\n",
       "    <tr>\n",
       "      <th>152</th>\n",
       "      <td>Gentoo</td>\n",
       "      <td>Biscoe</td>\n",
       "      <td>46.1</td>\n",
       "      <td>13.2</td>\n",
       "      <td>211.0</td>\n",
       "      <td>4500.0</td>\n",
       "      <td>female</td>\n",
       "      <td>2007</td>\n",
       "      <td>4.5</td>\n",
       "    </tr>\n",
       "    <tr>\n",
       "      <th>153</th>\n",
       "      <td>Gentoo</td>\n",
       "      <td>Biscoe</td>\n",
       "      <td>50.0</td>\n",
       "      <td>16.3</td>\n",
       "      <td>230.0</td>\n",
       "      <td>5700.0</td>\n",
       "      <td>male</td>\n",
       "      <td>2007</td>\n",
       "      <td>5.7</td>\n",
       "    </tr>\n",
       "    <tr>\n",
       "      <th>154</th>\n",
       "      <td>Gentoo</td>\n",
       "      <td>Biscoe</td>\n",
       "      <td>48.7</td>\n",
       "      <td>14.1</td>\n",
       "      <td>210.0</td>\n",
       "      <td>4450.0</td>\n",
       "      <td>female</td>\n",
       "      <td>2007</td>\n",
       "      <td>4.4</td>\n",
       "    </tr>\n",
       "    <tr>\n",
       "      <th>155</th>\n",
       "      <td>Gentoo</td>\n",
       "      <td>Biscoe</td>\n",
       "      <td>50.0</td>\n",
       "      <td>15.2</td>\n",
       "      <td>218.0</td>\n",
       "      <td>5700.0</td>\n",
       "      <td>male</td>\n",
       "      <td>2007</td>\n",
       "      <td>5.7</td>\n",
       "    </tr>\n",
       "    <tr>\n",
       "      <th>156</th>\n",
       "      <td>Gentoo</td>\n",
       "      <td>Biscoe</td>\n",
       "      <td>47.6</td>\n",
       "      <td>14.5</td>\n",
       "      <td>215.0</td>\n",
       "      <td>5400.0</td>\n",
       "      <td>male</td>\n",
       "      <td>2007</td>\n",
       "      <td>5.4</td>\n",
       "    </tr>\n",
       "    <tr>\n",
       "      <th>...</th>\n",
       "      <td>...</td>\n",
       "      <td>...</td>\n",
       "      <td>...</td>\n",
       "      <td>...</td>\n",
       "      <td>...</td>\n",
       "      <td>...</td>\n",
       "      <td>...</td>\n",
       "      <td>...</td>\n",
       "      <td>...</td>\n",
       "    </tr>\n",
       "    <tr>\n",
       "      <th>271</th>\n",
       "      <td>Gentoo</td>\n",
       "      <td>Biscoe</td>\n",
       "      <td>NaN</td>\n",
       "      <td>NaN</td>\n",
       "      <td>NaN</td>\n",
       "      <td>NaN</td>\n",
       "      <td>NaN</td>\n",
       "      <td>2009</td>\n",
       "      <td>NaN</td>\n",
       "    </tr>\n",
       "    <tr>\n",
       "      <th>272</th>\n",
       "      <td>Gentoo</td>\n",
       "      <td>Biscoe</td>\n",
       "      <td>46.8</td>\n",
       "      <td>14.3</td>\n",
       "      <td>215.0</td>\n",
       "      <td>4850.0</td>\n",
       "      <td>female</td>\n",
       "      <td>2009</td>\n",
       "      <td>4.8</td>\n",
       "    </tr>\n",
       "    <tr>\n",
       "      <th>273</th>\n",
       "      <td>Gentoo</td>\n",
       "      <td>Biscoe</td>\n",
       "      <td>50.4</td>\n",
       "      <td>15.7</td>\n",
       "      <td>222.0</td>\n",
       "      <td>5750.0</td>\n",
       "      <td>male</td>\n",
       "      <td>2009</td>\n",
       "      <td>5.8</td>\n",
       "    </tr>\n",
       "    <tr>\n",
       "      <th>274</th>\n",
       "      <td>Gentoo</td>\n",
       "      <td>Biscoe</td>\n",
       "      <td>45.2</td>\n",
       "      <td>14.8</td>\n",
       "      <td>212.0</td>\n",
       "      <td>5200.0</td>\n",
       "      <td>female</td>\n",
       "      <td>2009</td>\n",
       "      <td>5.2</td>\n",
       "    </tr>\n",
       "    <tr>\n",
       "      <th>275</th>\n",
       "      <td>Gentoo</td>\n",
       "      <td>Biscoe</td>\n",
       "      <td>49.9</td>\n",
       "      <td>16.1</td>\n",
       "      <td>213.0</td>\n",
       "      <td>5400.0</td>\n",
       "      <td>male</td>\n",
       "      <td>2009</td>\n",
       "      <td>5.4</td>\n",
       "    </tr>\n",
       "  </tbody>\n",
       "</table>\n",
       "<p>124 rows × 9 columns</p>\n",
       "</div>"
      ],
      "text/plain": [
       "    species  island  bill_length_mm  bill_depth_mm  flipper_length_mm  \\\n",
       "152  Gentoo  Biscoe            46.1           13.2              211.0   \n",
       "153  Gentoo  Biscoe            50.0           16.3              230.0   \n",
       "154  Gentoo  Biscoe            48.7           14.1              210.0   \n",
       "155  Gentoo  Biscoe            50.0           15.2              218.0   \n",
       "156  Gentoo  Biscoe            47.6           14.5              215.0   \n",
       "..      ...     ...             ...            ...                ...   \n",
       "271  Gentoo  Biscoe             NaN            NaN                NaN   \n",
       "272  Gentoo  Biscoe            46.8           14.3              215.0   \n",
       "273  Gentoo  Biscoe            50.4           15.7              222.0   \n",
       "274  Gentoo  Biscoe            45.2           14.8              212.0   \n",
       "275  Gentoo  Biscoe            49.9           16.1              213.0   \n",
       "\n",
       "     body_mass_g     sex  year  mass_kg  \n",
       "152       4500.0  female  2007      4.5  \n",
       "153       5700.0    male  2007      5.7  \n",
       "154       4450.0  female  2007      4.4  \n",
       "155       5700.0    male  2007      5.7  \n",
       "156       5400.0    male  2007      5.4  \n",
       "..           ...     ...   ...      ...  \n",
       "271          NaN     NaN  2009      NaN  \n",
       "272       4850.0  female  2009      4.8  \n",
       "273       5750.0    male  2009      5.8  \n",
       "274       5200.0  female  2009      5.2  \n",
       "275       5400.0    male  2009      5.4  \n",
       "\n",
       "[124 rows x 9 columns]"
      ]
     },
     "execution_count": 44,
     "metadata": {},
     "output_type": "execute_result"
    }
   ],
   "source": [
    "Gentoo_pd"
   ]
  },
  {
   "cell_type": "code",
   "execution_count": 45,
   "id": "4b5a00d2-dfd0-4808-9b53-22d2e77f9052",
   "metadata": {},
   "outputs": [
    {
     "data": {
      "text/html": [
       "<div>\n",
       "<style scoped>\n",
       "    .dataframe tbody tr th:only-of-type {\n",
       "        vertical-align: middle;\n",
       "    }\n",
       "\n",
       "    .dataframe tbody tr th {\n",
       "        vertical-align: top;\n",
       "    }\n",
       "\n",
       "    .dataframe thead th {\n",
       "        text-align: right;\n",
       "    }\n",
       "</style>\n",
       "<table border=\"1\" class=\"dataframe\">\n",
       "  <thead>\n",
       "    <tr style=\"text-align: right;\">\n",
       "      <th></th>\n",
       "      <th>species</th>\n",
       "      <th>island</th>\n",
       "      <th>bill_length_mm</th>\n",
       "      <th>bill_depth_mm</th>\n",
       "      <th>flipper_length_mm</th>\n",
       "      <th>body_mass_g</th>\n",
       "      <th>sex</th>\n",
       "      <th>year</th>\n",
       "      <th>mass_kg</th>\n",
       "    </tr>\n",
       "  </thead>\n",
       "  <tbody>\n",
       "    <tr>\n",
       "      <th>276</th>\n",
       "      <td>Chinstrap</td>\n",
       "      <td>Dream</td>\n",
       "      <td>46.5</td>\n",
       "      <td>17.9</td>\n",
       "      <td>192.0</td>\n",
       "      <td>3500.0</td>\n",
       "      <td>female</td>\n",
       "      <td>2007</td>\n",
       "      <td>3.5</td>\n",
       "    </tr>\n",
       "    <tr>\n",
       "      <th>277</th>\n",
       "      <td>Chinstrap</td>\n",
       "      <td>Dream</td>\n",
       "      <td>50.0</td>\n",
       "      <td>19.5</td>\n",
       "      <td>196.0</td>\n",
       "      <td>3900.0</td>\n",
       "      <td>male</td>\n",
       "      <td>2007</td>\n",
       "      <td>3.9</td>\n",
       "    </tr>\n",
       "    <tr>\n",
       "      <th>278</th>\n",
       "      <td>Chinstrap</td>\n",
       "      <td>Dream</td>\n",
       "      <td>51.3</td>\n",
       "      <td>19.2</td>\n",
       "      <td>193.0</td>\n",
       "      <td>3650.0</td>\n",
       "      <td>male</td>\n",
       "      <td>2007</td>\n",
       "      <td>3.6</td>\n",
       "    </tr>\n",
       "    <tr>\n",
       "      <th>279</th>\n",
       "      <td>Chinstrap</td>\n",
       "      <td>Dream</td>\n",
       "      <td>45.4</td>\n",
       "      <td>18.7</td>\n",
       "      <td>188.0</td>\n",
       "      <td>3525.0</td>\n",
       "      <td>female</td>\n",
       "      <td>2007</td>\n",
       "      <td>3.5</td>\n",
       "    </tr>\n",
       "    <tr>\n",
       "      <th>280</th>\n",
       "      <td>Chinstrap</td>\n",
       "      <td>Dream</td>\n",
       "      <td>52.7</td>\n",
       "      <td>19.8</td>\n",
       "      <td>197.0</td>\n",
       "      <td>3725.0</td>\n",
       "      <td>male</td>\n",
       "      <td>2007</td>\n",
       "      <td>3.7</td>\n",
       "    </tr>\n",
       "    <tr>\n",
       "      <th>...</th>\n",
       "      <td>...</td>\n",
       "      <td>...</td>\n",
       "      <td>...</td>\n",
       "      <td>...</td>\n",
       "      <td>...</td>\n",
       "      <td>...</td>\n",
       "      <td>...</td>\n",
       "      <td>...</td>\n",
       "      <td>...</td>\n",
       "    </tr>\n",
       "    <tr>\n",
       "      <th>339</th>\n",
       "      <td>Chinstrap</td>\n",
       "      <td>Dream</td>\n",
       "      <td>55.8</td>\n",
       "      <td>19.8</td>\n",
       "      <td>207.0</td>\n",
       "      <td>4000.0</td>\n",
       "      <td>male</td>\n",
       "      <td>2009</td>\n",
       "      <td>4.0</td>\n",
       "    </tr>\n",
       "    <tr>\n",
       "      <th>340</th>\n",
       "      <td>Chinstrap</td>\n",
       "      <td>Dream</td>\n",
       "      <td>43.5</td>\n",
       "      <td>18.1</td>\n",
       "      <td>202.0</td>\n",
       "      <td>3400.0</td>\n",
       "      <td>female</td>\n",
       "      <td>2009</td>\n",
       "      <td>3.4</td>\n",
       "    </tr>\n",
       "    <tr>\n",
       "      <th>341</th>\n",
       "      <td>Chinstrap</td>\n",
       "      <td>Dream</td>\n",
       "      <td>49.6</td>\n",
       "      <td>18.2</td>\n",
       "      <td>193.0</td>\n",
       "      <td>3775.0</td>\n",
       "      <td>male</td>\n",
       "      <td>2009</td>\n",
       "      <td>3.8</td>\n",
       "    </tr>\n",
       "    <tr>\n",
       "      <th>342</th>\n",
       "      <td>Chinstrap</td>\n",
       "      <td>Dream</td>\n",
       "      <td>50.8</td>\n",
       "      <td>19.0</td>\n",
       "      <td>210.0</td>\n",
       "      <td>4100.0</td>\n",
       "      <td>male</td>\n",
       "      <td>2009</td>\n",
       "      <td>4.1</td>\n",
       "    </tr>\n",
       "    <tr>\n",
       "      <th>343</th>\n",
       "      <td>Chinstrap</td>\n",
       "      <td>Dream</td>\n",
       "      <td>50.2</td>\n",
       "      <td>18.7</td>\n",
       "      <td>198.0</td>\n",
       "      <td>3775.0</td>\n",
       "      <td>female</td>\n",
       "      <td>2009</td>\n",
       "      <td>3.8</td>\n",
       "    </tr>\n",
       "  </tbody>\n",
       "</table>\n",
       "<p>68 rows × 9 columns</p>\n",
       "</div>"
      ],
      "text/plain": [
       "       species island  bill_length_mm  bill_depth_mm  flipper_length_mm  \\\n",
       "276  Chinstrap  Dream            46.5           17.9              192.0   \n",
       "277  Chinstrap  Dream            50.0           19.5              196.0   \n",
       "278  Chinstrap  Dream            51.3           19.2              193.0   \n",
       "279  Chinstrap  Dream            45.4           18.7              188.0   \n",
       "280  Chinstrap  Dream            52.7           19.8              197.0   \n",
       "..         ...    ...             ...            ...                ...   \n",
       "339  Chinstrap  Dream            55.8           19.8              207.0   \n",
       "340  Chinstrap  Dream            43.5           18.1              202.0   \n",
       "341  Chinstrap  Dream            49.6           18.2              193.0   \n",
       "342  Chinstrap  Dream            50.8           19.0              210.0   \n",
       "343  Chinstrap  Dream            50.2           18.7              198.0   \n",
       "\n",
       "     body_mass_g     sex  year  mass_kg  \n",
       "276       3500.0  female  2007      3.5  \n",
       "277       3900.0    male  2007      3.9  \n",
       "278       3650.0    male  2007      3.6  \n",
       "279       3525.0  female  2007      3.5  \n",
       "280       3725.0    male  2007      3.7  \n",
       "..           ...     ...   ...      ...  \n",
       "339       4000.0    male  2009      4.0  \n",
       "340       3400.0  female  2009      3.4  \n",
       "341       3775.0    male  2009      3.8  \n",
       "342       4100.0    male  2009      4.1  \n",
       "343       3775.0  female  2009      3.8  \n",
       "\n",
       "[68 rows x 9 columns]"
      ]
     },
     "execution_count": 45,
     "metadata": {},
     "output_type": "execute_result"
    }
   ],
   "source": [
    "Crinstrap_pd"
   ]
  },
  {
   "cell_type": "code",
   "execution_count": 46,
   "id": "414fd946-9943-41ec-889e-a48db83c16c9",
   "metadata": {},
   "outputs": [
    {
     "data": {
      "text/html": [
       "<div>\n",
       "<style scoped>\n",
       "    .dataframe tbody tr th:only-of-type {\n",
       "        vertical-align: middle;\n",
       "    }\n",
       "\n",
       "    .dataframe tbody tr th {\n",
       "        vertical-align: top;\n",
       "    }\n",
       "\n",
       "    .dataframe thead th {\n",
       "        text-align: right;\n",
       "    }\n",
       "</style>\n",
       "<table border=\"1\" class=\"dataframe\">\n",
       "  <thead>\n",
       "    <tr style=\"text-align: right;\">\n",
       "      <th></th>\n",
       "      <th>species</th>\n",
       "      <th>island</th>\n",
       "      <th>bill_length_mm</th>\n",
       "      <th>bill_depth_mm</th>\n",
       "      <th>flipper_length_mm</th>\n",
       "      <th>body_mass_g</th>\n",
       "      <th>sex</th>\n",
       "      <th>year</th>\n",
       "      <th>mass_kg</th>\n",
       "    </tr>\n",
       "  </thead>\n",
       "  <tbody>\n",
       "    <tr>\n",
       "      <th>284</th>\n",
       "      <td>Chinstrap</td>\n",
       "      <td>Dream</td>\n",
       "      <td>46.0</td>\n",
       "      <td>18.9</td>\n",
       "      <td>195.0</td>\n",
       "      <td>4150.0</td>\n",
       "      <td>female</td>\n",
       "      <td>2007</td>\n",
       "      <td>4.2</td>\n",
       "    </tr>\n",
       "    <tr>\n",
       "      <th>289</th>\n",
       "      <td>Chinstrap</td>\n",
       "      <td>Dream</td>\n",
       "      <td>52.0</td>\n",
       "      <td>18.1</td>\n",
       "      <td>201.0</td>\n",
       "      <td>4050.0</td>\n",
       "      <td>male</td>\n",
       "      <td>2007</td>\n",
       "      <td>4.0</td>\n",
       "    </tr>\n",
       "    <tr>\n",
       "      <th>291</th>\n",
       "      <td>Chinstrap</td>\n",
       "      <td>Dream</td>\n",
       "      <td>50.5</td>\n",
       "      <td>19.6</td>\n",
       "      <td>201.0</td>\n",
       "      <td>4050.0</td>\n",
       "      <td>male</td>\n",
       "      <td>2007</td>\n",
       "      <td>4.0</td>\n",
       "    </tr>\n",
       "    <tr>\n",
       "      <th>295</th>\n",
       "      <td>Chinstrap</td>\n",
       "      <td>Dream</td>\n",
       "      <td>49.2</td>\n",
       "      <td>18.2</td>\n",
       "      <td>195.0</td>\n",
       "      <td>4400.0</td>\n",
       "      <td>male</td>\n",
       "      <td>2007</td>\n",
       "      <td>4.4</td>\n",
       "    </tr>\n",
       "    <tr>\n",
       "      <th>301</th>\n",
       "      <td>Chinstrap</td>\n",
       "      <td>Dream</td>\n",
       "      <td>52.0</td>\n",
       "      <td>19.0</td>\n",
       "      <td>197.0</td>\n",
       "      <td>4150.0</td>\n",
       "      <td>male</td>\n",
       "      <td>2007</td>\n",
       "      <td>4.2</td>\n",
       "    </tr>\n",
       "    <tr>\n",
       "      <th>305</th>\n",
       "      <td>Chinstrap</td>\n",
       "      <td>Dream</td>\n",
       "      <td>52.8</td>\n",
       "      <td>20.0</td>\n",
       "      <td>205.0</td>\n",
       "      <td>4550.0</td>\n",
       "      <td>male</td>\n",
       "      <td>2008</td>\n",
       "      <td>4.6</td>\n",
       "    </tr>\n",
       "    <tr>\n",
       "      <th>307</th>\n",
       "      <td>Chinstrap</td>\n",
       "      <td>Dream</td>\n",
       "      <td>54.2</td>\n",
       "      <td>20.8</td>\n",
       "      <td>201.0</td>\n",
       "      <td>4300.0</td>\n",
       "      <td>male</td>\n",
       "      <td>2008</td>\n",
       "      <td>4.3</td>\n",
       "    </tr>\n",
       "    <tr>\n",
       "      <th>309</th>\n",
       "      <td>Chinstrap</td>\n",
       "      <td>Dream</td>\n",
       "      <td>51.0</td>\n",
       "      <td>18.8</td>\n",
       "      <td>203.0</td>\n",
       "      <td>4100.0</td>\n",
       "      <td>male</td>\n",
       "      <td>2008</td>\n",
       "      <td>4.1</td>\n",
       "    </tr>\n",
       "    <tr>\n",
       "      <th>313</th>\n",
       "      <td>Chinstrap</td>\n",
       "      <td>Dream</td>\n",
       "      <td>52.0</td>\n",
       "      <td>20.7</td>\n",
       "      <td>210.0</td>\n",
       "      <td>4800.0</td>\n",
       "      <td>male</td>\n",
       "      <td>2008</td>\n",
       "      <td>4.8</td>\n",
       "    </tr>\n",
       "    <tr>\n",
       "      <th>315</th>\n",
       "      <td>Chinstrap</td>\n",
       "      <td>Dream</td>\n",
       "      <td>53.5</td>\n",
       "      <td>19.9</td>\n",
       "      <td>205.0</td>\n",
       "      <td>4500.0</td>\n",
       "      <td>male</td>\n",
       "      <td>2008</td>\n",
       "      <td>4.5</td>\n",
       "    </tr>\n",
       "    <tr>\n",
       "      <th>321</th>\n",
       "      <td>Chinstrap</td>\n",
       "      <td>Dream</td>\n",
       "      <td>50.8</td>\n",
       "      <td>18.5</td>\n",
       "      <td>201.0</td>\n",
       "      <td>4450.0</td>\n",
       "      <td>male</td>\n",
       "      <td>2009</td>\n",
       "      <td>4.4</td>\n",
       "    </tr>\n",
       "    <tr>\n",
       "      <th>323</th>\n",
       "      <td>Chinstrap</td>\n",
       "      <td>Dream</td>\n",
       "      <td>49.0</td>\n",
       "      <td>19.6</td>\n",
       "      <td>212.0</td>\n",
       "      <td>4300.0</td>\n",
       "      <td>male</td>\n",
       "      <td>2009</td>\n",
       "      <td>4.3</td>\n",
       "    </tr>\n",
       "    <tr>\n",
       "      <th>329</th>\n",
       "      <td>Chinstrap</td>\n",
       "      <td>Dream</td>\n",
       "      <td>50.7</td>\n",
       "      <td>19.7</td>\n",
       "      <td>203.0</td>\n",
       "      <td>4050.0</td>\n",
       "      <td>male</td>\n",
       "      <td>2009</td>\n",
       "      <td>4.0</td>\n",
       "    </tr>\n",
       "    <tr>\n",
       "      <th>333</th>\n",
       "      <td>Chinstrap</td>\n",
       "      <td>Dream</td>\n",
       "      <td>49.3</td>\n",
       "      <td>19.9</td>\n",
       "      <td>203.0</td>\n",
       "      <td>4050.0</td>\n",
       "      <td>male</td>\n",
       "      <td>2009</td>\n",
       "      <td>4.0</td>\n",
       "    </tr>\n",
       "    <tr>\n",
       "      <th>339</th>\n",
       "      <td>Chinstrap</td>\n",
       "      <td>Dream</td>\n",
       "      <td>55.8</td>\n",
       "      <td>19.8</td>\n",
       "      <td>207.0</td>\n",
       "      <td>4000.0</td>\n",
       "      <td>male</td>\n",
       "      <td>2009</td>\n",
       "      <td>4.0</td>\n",
       "    </tr>\n",
       "    <tr>\n",
       "      <th>342</th>\n",
       "      <td>Chinstrap</td>\n",
       "      <td>Dream</td>\n",
       "      <td>50.8</td>\n",
       "      <td>19.0</td>\n",
       "      <td>210.0</td>\n",
       "      <td>4100.0</td>\n",
       "      <td>male</td>\n",
       "      <td>2009</td>\n",
       "      <td>4.1</td>\n",
       "    </tr>\n",
       "  </tbody>\n",
       "</table>\n",
       "</div>"
      ],
      "text/plain": [
       "       species island  bill_length_mm  bill_depth_mm  flipper_length_mm  \\\n",
       "284  Chinstrap  Dream            46.0           18.9              195.0   \n",
       "289  Chinstrap  Dream            52.0           18.1              201.0   \n",
       "291  Chinstrap  Dream            50.5           19.6              201.0   \n",
       "295  Chinstrap  Dream            49.2           18.2              195.0   \n",
       "301  Chinstrap  Dream            52.0           19.0              197.0   \n",
       "305  Chinstrap  Dream            52.8           20.0              205.0   \n",
       "307  Chinstrap  Dream            54.2           20.8              201.0   \n",
       "309  Chinstrap  Dream            51.0           18.8              203.0   \n",
       "313  Chinstrap  Dream            52.0           20.7              210.0   \n",
       "315  Chinstrap  Dream            53.5           19.9              205.0   \n",
       "321  Chinstrap  Dream            50.8           18.5              201.0   \n",
       "323  Chinstrap  Dream            49.0           19.6              212.0   \n",
       "329  Chinstrap  Dream            50.7           19.7              203.0   \n",
       "333  Chinstrap  Dream            49.3           19.9              203.0   \n",
       "339  Chinstrap  Dream            55.8           19.8              207.0   \n",
       "342  Chinstrap  Dream            50.8           19.0              210.0   \n",
       "\n",
       "     body_mass_g     sex  year  mass_kg  \n",
       "284       4150.0  female  2007      4.2  \n",
       "289       4050.0    male  2007      4.0  \n",
       "291       4050.0    male  2007      4.0  \n",
       "295       4400.0    male  2007      4.4  \n",
       "301       4150.0    male  2007      4.2  \n",
       "305       4550.0    male  2008      4.6  \n",
       "307       4300.0    male  2008      4.3  \n",
       "309       4100.0    male  2008      4.1  \n",
       "313       4800.0    male  2008      4.8  \n",
       "315       4500.0    male  2008      4.5  \n",
       "321       4450.0    male  2009      4.4  \n",
       "323       4300.0    male  2009      4.3  \n",
       "329       4050.0    male  2009      4.0  \n",
       "333       4050.0    male  2009      4.0  \n",
       "339       4000.0    male  2009      4.0  \n",
       "342       4100.0    male  2009      4.1  "
      ]
     },
     "execution_count": 46,
     "metadata": {},
     "output_type": "execute_result"
    }
   ],
   "source": [
    "penguins[(penguins[\"species\"] == 'Chinstrap') & (Crinstrap_pd[\"body_mass_g\"] >= 4000)]"
   ]
  },
  {
   "cell_type": "code",
   "execution_count": 47,
   "id": "8b3a50a8-a78a-48a5-9473-0e9a8d2d7b02",
   "metadata": {},
   "outputs": [
    {
     "data": {
      "text/plain": [
       "species               0\n",
       "island                0\n",
       "bill_length_mm        2\n",
       "bill_depth_mm         2\n",
       "flipper_length_mm     2\n",
       "body_mass_g           2\n",
       "sex                  11\n",
       "year                  0\n",
       "mass_kg               2\n",
       "dtype: int64"
      ]
     },
     "execution_count": 47,
     "metadata": {},
     "output_type": "execute_result"
    }
   ],
   "source": [
    "penguins.isnull().sum()"
   ]
  },
  {
   "cell_type": "markdown",
   "id": "b2961f8e-c58d-4f6a-84de-6e8c0a3f707c",
   "metadata": {},
   "source": [
    "# How to remove null values"
   ]
  },
  {
   "cell_type": "code",
   "execution_count": 48,
   "id": "b5503d9f-e340-4bb9-88a5-5e261d882b8c",
   "metadata": {},
   "outputs": [
    {
     "data": {
      "text/plain": [
       "np.float64(43.9219298245614)"
      ]
     },
     "execution_count": 48,
     "metadata": {},
     "output_type": "execute_result"
    }
   ],
   "source": [
    "penguins[\"bill_length_mm\"].mean()"
   ]
  },
  {
   "cell_type": "code",
   "execution_count": 49,
   "id": "8e46e18e-37b0-4ac1-897a-62ec4edbf695",
   "metadata": {},
   "outputs": [],
   "source": [
    "penguins[\"bill_length_mm\"] = penguins[\"bill_length_mm\"].fillna(penguins[\"bill_length_mm\"].mean())"
   ]
  },
  {
   "cell_type": "code",
   "execution_count": 50,
   "id": "01bd1c3b-b79e-4144-9c41-144c6a56c282",
   "metadata": {},
   "outputs": [
    {
     "data": {
      "text/plain": [
       "species               0\n",
       "island                0\n",
       "bill_length_mm        0\n",
       "bill_depth_mm         2\n",
       "flipper_length_mm     2\n",
       "body_mass_g           2\n",
       "sex                  11\n",
       "year                  0\n",
       "mass_kg               2\n",
       "dtype: int64"
      ]
     },
     "execution_count": 50,
     "metadata": {},
     "output_type": "execute_result"
    }
   ],
   "source": [
    "penguins.isnull().sum()"
   ]
  },
  {
   "cell_type": "markdown",
   "id": "1f96571b-5742-4993-a16d-2a2882b9c71f",
   "metadata": {},
   "source": [
    "# If the data is categorical we can use mode()"
   ]
  },
  {
   "cell_type": "code",
   "execution_count": 51,
   "id": "c6ec45c9-d1fa-4752-8e84-e53401643f45",
   "metadata": {},
   "outputs": [],
   "source": [
    "penguins[\"sex\"] = penguins[\"sex\"].fillna(penguins[\"sex\"].mode()[0])"
   ]
  },
  {
   "cell_type": "code",
   "execution_count": 52,
   "id": "d7e5362b-64b8-45a8-b736-b6aedc6c7737",
   "metadata": {},
   "outputs": [
    {
     "data": {
      "text/plain": [
       "species              0\n",
       "island               0\n",
       "bill_length_mm       0\n",
       "bill_depth_mm        2\n",
       "flipper_length_mm    2\n",
       "body_mass_g          2\n",
       "sex                  0\n",
       "year                 0\n",
       "mass_kg              2\n",
       "dtype: int64"
      ]
     },
     "execution_count": 52,
     "metadata": {},
     "output_type": "execute_result"
    }
   ],
   "source": [
    "penguins.isnull().sum()"
   ]
  },
  {
   "cell_type": "markdown",
   "id": "4322303a-fc4a-4c62-bca0-ab17dcc576ad",
   "metadata": {},
   "source": [
    "# Repeat the process of removing the null values to the other columns"
   ]
  },
  {
   "cell_type": "code",
   "execution_count": 64,
   "id": "45077e02-c5df-4fc6-a6ef-ec2513e3a388",
   "metadata": {},
   "outputs": [],
   "source": [
    "penguins[\"bill_depth_mm\"] = penguins[\"bill_depth_mm\"].fillna(penguins[\"bill_depth_mm\"].mean())\n",
    "penguins[\"flipper_length_mm\"] = penguins[\"flipper_length_mm\"].fillna(penguins[\"flipper_length_mm\"].mean())\n",
    "penguins[\"body_mass_g\"] = penguins[\"body_mass_g\"].fillna(penguins[\"body_mass_g\"].mean())\n",
    "penguins[\"mass_kg\"] = penguins[\"mass_kg\"].fillna(penguins[\"mass_kg\"].mean())"
   ]
  },
  {
   "cell_type": "markdown",
   "id": "c6097336-4258-44f9-b31b-1525f7969379",
   "metadata": {},
   "source": [
    "# All the null values have been removed"
   ]
  },
  {
   "cell_type": "code",
   "execution_count": 65,
   "id": "2a5e296b-72a6-4700-a13b-5276b645cadb",
   "metadata": {},
   "outputs": [
    {
     "data": {
      "text/plain": [
       "species              0\n",
       "island               0\n",
       "bill_length_mm       0\n",
       "bill_depth_mm        0\n",
       "flipper_length_mm    0\n",
       "body_mass_g          0\n",
       "sex                  0\n",
       "year                 0\n",
       "mass_kg              0\n",
       "dtype: int64"
      ]
     },
     "execution_count": 65,
     "metadata": {},
     "output_type": "execute_result"
    }
   ],
   "source": [
    "penguins.isnull().sum()"
   ]
  },
  {
   "cell_type": "markdown",
   "id": "de8081c9-fda1-4bac-a5b3-67e86cc9739b",
   "metadata": {},
   "source": [
    "# Changing the data type of the columns"
   ]
  },
  {
   "cell_type": "code",
   "execution_count": 55,
   "id": "beb5dca2-c981-4aaa-820f-807bfbd9af01",
   "metadata": {},
   "outputs": [],
   "source": [
    "penguins[\"species\"] = penguins[\"species\"].astype(\"category\")\n",
    "penguins[\"year\"] = penguins[\"year\"].astype(\"category\")\n",
    "penguins[\"island\"] = penguins[\"island\"].astype(\"category\")\n",
    "penguins[\"sex\"] = penguins[\"sex\"].astype(\"category\")"
   ]
  },
  {
   "cell_type": "code",
   "execution_count": 56,
   "id": "a6c97aeb-3ba4-4168-9e31-e859fe0b94d1",
   "metadata": {},
   "outputs": [
    {
     "name": "stdout",
     "output_type": "stream",
     "text": [
      "<class 'pandas.core.frame.DataFrame'>\n",
      "RangeIndex: 344 entries, 0 to 343\n",
      "Data columns (total 9 columns):\n",
      " #   Column             Non-Null Count  Dtype   \n",
      "---  ------             --------------  -----   \n",
      " 0   species            344 non-null    category\n",
      " 1   island             344 non-null    category\n",
      " 2   bill_length_mm     344 non-null    float64 \n",
      " 3   bill_depth_mm      344 non-null    float64 \n",
      " 4   flipper_length_mm  344 non-null    float64 \n",
      " 5   body_mass_g        344 non-null    float64 \n",
      " 6   sex                344 non-null    category\n",
      " 7   year               344 non-null    category\n",
      " 8   mass_kg            342 non-null    float64 \n",
      "dtypes: category(4), float64(5)\n",
      "memory usage: 15.4 KB\n"
     ]
    }
   ],
   "source": [
    "penguins.info()"
   ]
  },
  {
   "cell_type": "code",
   "execution_count": 57,
   "id": "5829444f-c2d5-405e-9792-0098272b17ca",
   "metadata": {},
   "outputs": [
    {
     "data": {
      "text/plain": [
       "Index(['species', 'island', 'bill_length_mm', 'bill_depth_mm',\n",
       "       'flipper_length_mm', 'body_mass_g', 'sex', 'year', 'mass_kg'],\n",
       "      dtype='object')"
      ]
     },
     "execution_count": 57,
     "metadata": {},
     "output_type": "execute_result"
    }
   ],
   "source": [
    "penguins.columns"
   ]
  },
  {
   "cell_type": "markdown",
   "id": "2fe99349-3d64-4fc6-844a-623cbf914533",
   "metadata": {},
   "source": [
    "# Exploration Data Analytics (EDA)"
   ]
  },
  {
   "cell_type": "markdown",
   "id": "225b806e-0fcc-4b71-8c96-015bce192665",
   "metadata": {},
   "source": [
    "<h2>1. Which species has the heviest body mass in kg</h2>"
   ]
  },
  {
   "cell_type": "code",
   "execution_count": 58,
   "id": "9b59c877-f3b9-4663-9093-cfe88458cb2f",
   "metadata": {},
   "outputs": [
    {
     "data": {
      "text/plain": [
       "np.float64(3733.0882352941176)"
      ]
     },
     "execution_count": 58,
     "metadata": {},
     "output_type": "execute_result"
    }
   ],
   "source": [
    "Crinstrap_pd[\"body_mass_g\"].mean()"
   ]
  },
  {
   "cell_type": "code",
   "execution_count": 59,
   "id": "40865b46-528c-408e-9d00-809197efa2f5",
   "metadata": {},
   "outputs": [
    {
     "data": {
      "text/plain": [
       "np.float64(3700.662251655629)"
      ]
     },
     "execution_count": 59,
     "metadata": {},
     "output_type": "execute_result"
    }
   ],
   "source": [
    "Adelie_pd[\"body_mass_g\"].mean()"
   ]
  },
  {
   "cell_type": "code",
   "execution_count": 60,
   "id": "2ade6737-e22e-4b1c-92e1-74986b3a6d9d",
   "metadata": {},
   "outputs": [
    {
     "data": {
      "text/plain": [
       "np.float64(5076.016260162602)"
      ]
     },
     "execution_count": 60,
     "metadata": {},
     "output_type": "execute_result"
    }
   ],
   "source": [
    "Gentoo_pd[\"body_mass_g\"].mean()"
   ]
  },
  {
   "cell_type": "markdown",
   "id": "0ce4da8c-e6e6-4906-9738-01f8dc9d130a",
   "metadata": {},
   "source": [
    "<h1>Insight #1</h1>\n",
    "<h1>The heaviest species from the dataset is the GENTOO species</h1>"
   ]
  },
  {
   "cell_type": "markdown",
   "id": "2d533a76-62b5-4571-9f24-3a8eb9ed1cef",
   "metadata": {},
   "source": [
    "# 7 Questions activity"
   ]
  },
  {
   "cell_type": "markdown",
   "id": "e2e5f207-e53d-485f-b456-b78575dcd2eb",
   "metadata": {},
   "source": [
    "<hr>"
   ]
  },
  {
   "cell_type": "markdown",
   "id": "bc0ca9dc-ff28-409b-985e-2e8e70f46ebe",
   "metadata": {},
   "source": [
    "# 1 What species has the highest population?"
   ]
  },
  {
   "cell_type": "code",
   "execution_count": 142,
   "id": "ec64c70c-4478-4cec-9644-fc2820c635c3",
   "metadata": {},
   "outputs": [
    {
     "data": {
      "text/plain": [
       "species\n",
       "Adelie       152\n",
       "Gentoo       124\n",
       "Chinstrap     68\n",
       "Name: count, dtype: int64"
      ]
     },
     "execution_count": 142,
     "metadata": {},
     "output_type": "execute_result"
    }
   ],
   "source": [
    "penguins[\"species\"].value_counts()"
   ]
  },
  {
   "cell_type": "markdown",
   "id": "d20efd4b-e1dd-45bc-a6ea-2d3f1c3844dd",
   "metadata": {},
   "source": [
    "<h2>Results:</h2>\n",
    "<li>Adelie has the highest population in compared to the rest</li>\n",
    "<li>Chinstrap has the lowest population</li>\n",
    "<hr>"
   ]
  },
  {
   "cell_type": "markdown",
   "id": "74aec599-c2d4-411a-b5b5-0be20c6eda79",
   "metadata": {},
   "source": [
    "# 2 What species occurs more often in every island?"
   ]
  },
  {
   "cell_type": "markdown",
   "id": "cd82194a-0768-467d-a324-c1ff0ca263d2",
   "metadata": {},
   "source": [
    "<h2>The Adelia species in each island</h2>"
   ]
  },
  {
   "cell_type": "code",
   "execution_count": 162,
   "id": "9bb05712-1bb6-4f54-8973-3ca18ad80ba5",
   "metadata": {},
   "outputs": [
    {
     "data": {
      "text/plain": [
       "island\n",
       "Dream        56\n",
       "Torgersen    52\n",
       "Biscoe       44\n",
       "Name: count, dtype: int64"
      ]
     },
     "execution_count": 162,
     "metadata": {},
     "output_type": "execute_result"
    }
   ],
   "source": [
    "Adelie = penguins[penguins[\"species\"] == \"Adelie\"]\n",
    "Adelie[\"island\"].value_counts()"
   ]
  },
  {
   "cell_type": "markdown",
   "id": "bba9dbdf-ab06-44f8-aff7-21c5c242504c",
   "metadata": {},
   "source": [
    "<h2>The Chinstrap species in each island</h2>"
   ]
  },
  {
   "cell_type": "code",
   "execution_count": 163,
   "id": "40e794f8-3e09-4464-9bf5-f79043ed0799",
   "metadata": {},
   "outputs": [
    {
     "data": {
      "text/plain": [
       "island\n",
       "Dream        68\n",
       "Biscoe        0\n",
       "Torgersen     0\n",
       "Name: count, dtype: int64"
      ]
     },
     "execution_count": 163,
     "metadata": {},
     "output_type": "execute_result"
    }
   ],
   "source": [
    "Chinstrap = penguins[penguins[\"species\"] == \"Chinstrap\"]\n",
    "Chinstrap[\"island\"].value_counts()"
   ]
  },
  {
   "cell_type": "markdown",
   "id": "3b04a89e-ecc5-46d0-886f-676a546b5c86",
   "metadata": {},
   "source": [
    "<h2>The Gentoo species in each island</h2>"
   ]
  },
  {
   "cell_type": "code",
   "execution_count": 161,
   "id": "59dbff3c-e0fa-4500-b511-ea03b0e63121",
   "metadata": {},
   "outputs": [
    {
     "data": {
      "text/plain": [
       "island\n",
       "Biscoe       124\n",
       "Dream          0\n",
       "Torgersen      0\n",
       "Name: count, dtype: int64"
      ]
     },
     "execution_count": 161,
     "metadata": {},
     "output_type": "execute_result"
    }
   ],
   "source": [
    "Gentoo = penguins[penguins[\"species\"] == \"Gentoo\"]\n",
    "Gentoo[\"island\"].value_counts()"
   ]
  },
  {
   "cell_type": "markdown",
   "id": "4ad99b05-6ddc-41c0-903b-07c80128aa2e",
   "metadata": {},
   "source": [
    "<h2>Results:</h2>\n",
    "<li>Adelie has the highest population in Dream island</li>\n",
    "<li>Chinstrap has the highest population in Dream island since it is the only species there</li>\n",
    "<li>Gentoo has the highest population in Biscoe island since it is the only species there</li>\n",
    "<hr>"
   ]
  },
  {
   "cell_type": "markdown",
   "id": "1834c4c6-0827-4e23-8361-c27a898b95af",
   "metadata": {},
   "source": [
    "# 3 What island has the most Crinstrap?"
   ]
  },
  {
   "cell_type": "code",
   "execution_count": 150,
   "id": "a9dcfcba-8dc9-40b9-9433-849392134e9b",
   "metadata": {},
   "outputs": [
    {
     "data": {
      "text/plain": [
       "np.int64(344)"
      ]
     },
     "execution_count": 150,
     "metadata": {},
     "output_type": "execute_result"
    }
   ],
   "source": [
    "penguins[\"island\"].value_counts().sum()"
   ]
  },
  {
   "cell_type": "markdown",
   "id": "c10a9ec5-c5ad-45fc-99d1-5c3e71a84c7b",
   "metadata": {},
   "source": [
    "<h2>Chinstrap in Dream island</h2>"
   ]
  },
  {
   "cell_type": "code",
   "execution_count": 121,
   "id": "10dc39af-80fe-404d-95fe-1ea976348a60",
   "metadata": {},
   "outputs": [
    {
     "data": {
      "text/plain": [
       "species\n",
       "Chinstrap    68\n",
       "Adelie        0\n",
       "Gentoo        0\n",
       "Name: count, dtype: int64"
      ]
     },
     "execution_count": 121,
     "metadata": {},
     "output_type": "execute_result"
    }
   ],
   "source": [
    "Chinstrap_1 = penguins[penguins[\"species\"] == \"Chinstrap\"]\n",
    "common_Chinstrap_1 = Chinstrap_1[Chinstrap_1[\"island\"] == \"Dream\"]  \n",
    "common_Chinstrap_1[\"species\"].value_counts()"
   ]
  },
  {
   "cell_type": "markdown",
   "id": "7d435172-c53c-4f6a-a1e4-71ef16bdb364",
   "metadata": {},
   "source": [
    "<h2>Chinstrap in Torgersen island</h2>"
   ]
  },
  {
   "cell_type": "code",
   "execution_count": 126,
   "id": "e75e3d0c-7b58-4b4e-9746-42ae6dc2ac2b",
   "metadata": {},
   "outputs": [
    {
     "data": {
      "text/plain": [
       "species\n",
       "Adelie       0\n",
       "Chinstrap    0\n",
       "Gentoo       0\n",
       "Name: count, dtype: int64"
      ]
     },
     "execution_count": 126,
     "metadata": {},
     "output_type": "execute_result"
    }
   ],
   "source": [
    "Chinstrap_2 = penguins[penguins[\"species\"] == \"Chinstrap\"]\n",
    "common_Chinstrap_2 = Chinstrap_2[Chinstrap_2[\"island\"] == \"Torgersen\"]  \n",
    "common_Chinstrap_2[\"species\"].value_counts()"
   ]
  },
  {
   "cell_type": "markdown",
   "id": "e1c116d5-cbf0-4fde-a158-3256fe0b3fc8",
   "metadata": {},
   "source": [
    "<h2>Chinstrap in Biscoe island</h2>"
   ]
  },
  {
   "cell_type": "code",
   "execution_count": 118,
   "id": "a336cac9-5b30-4f03-b065-d28b61c49b80",
   "metadata": {},
   "outputs": [
    {
     "data": {
      "text/plain": [
       "species\n",
       "Adelie       0\n",
       "Chinstrap    0\n",
       "Gentoo       0\n",
       "Name: count, dtype: int64"
      ]
     },
     "execution_count": 118,
     "metadata": {},
     "output_type": "execute_result"
    }
   ],
   "source": [
    "Chinstrap_3 = penguins[penguins[\"species\"] == \"Chinstrap\"]\n",
    "common_Chinstrap_3 = Chinstrap_3[Chinstrap_3[\"island\"] == \"Biscoe\"]  \n",
    "common_Chinstrap_3[\"species\"].value_counts()"
   ]
  },
  {
   "cell_type": "markdown",
   "id": "7b30f55d-19c1-4bd0-833c-bc0b9054c5b4",
   "metadata": {},
   "source": [
    "<h3>Results:</h3>\n",
    "<li>We found out that there are no Chinstrap in Torgersen and Biscoe island</li>\n",
    "<li>We found out that Chinstrap is abundant in Dream island</li>\n",
    "<hr>"
   ]
  },
  {
   "cell_type": "markdown",
   "id": "844f5bfb-2ce0-46d3-8227-1840dcfd94d4",
   "metadata": {},
   "source": [
    "# 4 What is the average size of flippers for all the species?"
   ]
  },
  {
   "cell_type": "code",
   "execution_count": 201,
   "id": "540e2b68-e080-4988-937e-df36ee72359a",
   "metadata": {},
   "outputs": [
    {
     "name": "stdout",
     "output_type": "stream",
     "text": [
      "The average flipper size of the Chinstrap species 195.8\n",
      "The average flipper size of the Adelie species 190.0\n",
      "The average flipper size of the Gentoo species 217.1\n"
     ]
    }
   ],
   "source": [
    "Chinstrap = penguins[penguins[\"species\"] == \"Chinstrap\"][\"flipper_length_mm\"].mean()\n",
    "Adelie = penguins[penguins[\"species\"] == \"Adelie\"][\"flipper_length_mm\"].mean()\n",
    "Gentoo = penguins[penguins[\"species\"] == \"Gentoo\"][\"flipper_length_mm\"].mean()\n",
    "\n",
    "print(\"The average flipper size of the Chinstrap species\", round(Chinstrap,1))\n",
    "print(\"The average flipper size of the Adelie species\", round(Adelie,1))\n",
    "print(\"The average flipper size of the Gentoo species\", round(Gentoo,1))"
   ]
  },
  {
   "cell_type": "markdown",
   "id": "7ccffb55-6506-4e94-8436-c94b0cf912f4",
   "metadata": {},
   "source": [
    "<h2>Results:</h2>\n",
    "<li>The average size of flippers for each species range from 190 to 217 in lenght</li>\n",
    "<li>Gentoo has the largest average size compare to the other species</li>\n",
    "<li>Adelie has the smallest average size compared to the other species</li>\n",
    "<hr>"
   ]
  },
  {
   "cell_type": "markdown",
   "id": "c655a4b4-6cfc-48a2-ac2a-6eca92a4cf12",
   "metadata": {},
   "source": [
    "# 5 What island has the most occuring penguin with the weight over 4.5 Kg above?"
   ]
  },
  {
   "cell_type": "markdown",
   "id": "3b2051f3-3403-4159-9392-05b19840c050",
   "metadata": {},
   "source": [
    "<h2>The weight of penguins above 4.5 Kg in Dream island</h2>"
   ]
  },
  {
   "cell_type": "code",
   "execution_count": 213,
   "id": "65097eef-d8c6-40ea-b2bd-ddc8278e7bd1",
   "metadata": {},
   "outputs": [
    {
     "data": {
      "text/plain": [
       "island\n",
       "Dream        6\n",
       "Biscoe       0\n",
       "Torgersen    0\n",
       "Name: count, dtype: int64"
      ]
     },
     "execution_count": 213,
     "metadata": {},
     "output_type": "execute_result"
    }
   ],
   "source": [
    "dream_mass = penguins[(penguins[\"island\"] == \"Dream\") & (penguins[\"mass_kg\"] >= 4.5)]\n",
    "dream_mass[\"island\"].value_counts()"
   ]
  },
  {
   "cell_type": "markdown",
   "id": "53000a0f-4c92-4928-934f-5be7f2c30614",
   "metadata": {},
   "source": [
    "<h2>The weight of penguins above 4.5 Kg in Torgersen island</h2>"
   ]
  },
  {
   "cell_type": "code",
   "execution_count": 220,
   "id": "23c69781-0139-4aa8-b6b4-177cdfb55404",
   "metadata": {},
   "outputs": [
    {
     "data": {
      "text/plain": [
       "island\n",
       "Torgersen    3\n",
       "Biscoe       0\n",
       "Dream        0\n",
       "Name: count, dtype: int64"
      ]
     },
     "execution_count": 220,
     "metadata": {},
     "output_type": "execute_result"
    }
   ],
   "source": [
    "Torgersen_mass = penguins[(penguins[\"island\"] == \"Torgersen\") & (penguins[\"mass_kg\"] >= 4.5)]\n",
    "Torgersen_mass[\"island\"].value_counts()"
   ]
  },
  {
   "cell_type": "markdown",
   "id": "0db45d22-4626-4102-8f01-d02130e6ac09",
   "metadata": {},
   "source": [
    "<h2>The weight of penguins above 4.5 Kg in Biscoe island</h2>"
   ]
  },
  {
   "cell_type": "code",
   "execution_count": 218,
   "id": "c5e7766b-3c64-4c16-9e47-c5dbc0bc82e2",
   "metadata": {},
   "outputs": [
    {
     "data": {
      "text/plain": [
       "island\n",
       "Biscoe       110\n",
       "Dream          0\n",
       "Torgersen      0\n",
       "Name: count, dtype: int64"
      ]
     },
     "execution_count": 218,
     "metadata": {},
     "output_type": "execute_result"
    }
   ],
   "source": [
    "Biscoe_mass = penguins[(penguins[\"island\"] == \"Biscoe\") & (penguins[\"mass_kg\"] >= 4.5)]\n",
    "Biscoe_mass[\"island\"].value_counts()"
   ]
  },
  {
   "cell_type": "markdown",
   "id": "9eceac89-ff78-41af-a054-88185a47f531",
   "metadata": {},
   "source": [
    "<h2>Results:</h2>\n",
    "<li>Biscoe island has the most amount of penguins above 4.5 Kg</li>\n",
    "<li>Torgersen has the lowest among the other islands</li>\n",
    "<hr>"
   ]
  },
  {
   "cell_type": "markdown",
   "id": "2e5e3a87-9e6b-44f7-81f5-7a7353c24d92",
   "metadata": {},
   "source": [
    "# 6 how many penguins are there in dream island?"
   ]
  },
  {
   "cell_type": "code",
   "execution_count": 141,
   "id": "e2b2879c-60c7-4ce2-9101-9b56941b2446",
   "metadata": {},
   "outputs": [
    {
     "name": "stdout",
     "output_type": "stream",
     "text": [
      "species\n",
      "Chinstrap    68\n",
      "Adelie       56\n",
      "Gentoo        0\n",
      "Name: count, dtype: int64\n",
      "Total penguins in Dream island 124\n"
     ]
    }
   ],
   "source": [
    "dream_penguins = penguins[penguins[\"island\"] == \"Dream\"]\n",
    "species = dream_penguins[\"species\"].value_counts()\n",
    "total = species.sum()\n",
    "\n",
    "print(species)\n",
    "print(\"Total penguins in Dream island\", total)"
   ]
  },
  {
   "cell_type": "markdown",
   "id": "6200a454-da74-4855-9b80-75f9478ceac0",
   "metadata": {},
   "source": [
    "<h2>Results:</h2>\n",
    "<li>There are no Gentoo in Dream island</li>\n",
    "<li>There are a total of 124 penguins in Dream island</li>\n",
    "<hr>"
   ]
  },
  {
   "cell_type": "markdown",
   "id": "ceadc4c4-22ad-45d8-8734-82fb82d7858e",
   "metadata": {},
   "source": [
    "# 7 What is the most common sex on each island??"
   ]
  },
  {
   "cell_type": "markdown",
   "id": "e93fc281-972f-4e60-8632-95e9b4b95901",
   "metadata": {},
   "source": [
    "<h2>Number of males and females on Dream Island</h2>"
   ]
  },
  {
   "cell_type": "code",
   "execution_count": 171,
   "id": "0f2dc131-2038-417e-b9eb-16b09c697fed",
   "metadata": {},
   "outputs": [
    {
     "data": {
      "text/plain": [
       "sex\n",
       "male      63\n",
       "female    61\n",
       "Name: count, dtype: int64"
      ]
     },
     "execution_count": 171,
     "metadata": {},
     "output_type": "execute_result"
    }
   ],
   "source": [
    "dream_penguins = penguins[penguins[\"island\"] == \"Dream\"]\n",
    "dream_penguins[\"sex\"].value_counts()"
   ]
  },
  {
   "cell_type": "markdown",
   "id": "60c26d0d-78a4-476a-9270-58096f2145ba",
   "metadata": {},
   "source": [
    "<h2>Number of males and females on Torgersen Island</h2>"
   ]
  },
  {
   "cell_type": "code",
   "execution_count": 172,
   "id": "f18fc68d-86b9-40b5-b7fc-6e6377b3cd5a",
   "metadata": {},
   "outputs": [
    {
     "data": {
      "text/plain": [
       "sex\n",
       "male      28\n",
       "female    24\n",
       "Name: count, dtype: int64"
      ]
     },
     "execution_count": 172,
     "metadata": {},
     "output_type": "execute_result"
    }
   ],
   "source": [
    "dream_penguins = penguins[penguins[\"island\"] == \"Torgersen\"]\n",
    "dream_penguins[\"sex\"].value_counts()"
   ]
  },
  {
   "cell_type": "markdown",
   "id": "03be2fb0-c517-471d-b6a8-089ad4b3492d",
   "metadata": {},
   "source": [
    "<h2>Number of males and females on Biscoe Island</h2>"
   ]
  },
  {
   "cell_type": "code",
   "execution_count": 174,
   "id": "7f5a4c27-73a4-4d0e-9b54-87dac287e1be",
   "metadata": {},
   "outputs": [
    {
     "data": {
      "text/plain": [
       "sex\n",
       "male      88\n",
       "female    80\n",
       "Name: count, dtype: int64"
      ]
     },
     "execution_count": 174,
     "metadata": {},
     "output_type": "execute_result"
    }
   ],
   "source": [
    "dream_penguins = penguins[penguins[\"island\"] == \"Biscoe\"]\n",
    "dream_penguins[\"sex\"].value_counts()"
   ]
  },
  {
   "cell_type": "markdown",
   "id": "5bde3cd9-5a3c-488b-9f57-07ab9eed26c0",
   "metadata": {},
   "source": [
    "<h2>Results:</h2>\n",
    "<li>There are more male penguins in each islands</li>\n",
    "<li>Biscoe island has the highest male count compare to the onther islands</li>\n",
    "<li>Torgersen island has the lowest male count among the other islands</li>\n",
    "<hr>"
   ]
  }
 ],
 "metadata": {
  "kernelspec": {
   "display_name": "Python 3 (ipykernel)",
   "language": "python",
   "name": "python3"
  },
  "language_info": {
   "codemirror_mode": {
    "name": "ipython",
    "version": 3
   },
   "file_extension": ".py",
   "mimetype": "text/x-python",
   "name": "python",
   "nbconvert_exporter": "python",
   "pygments_lexer": "ipython3",
   "version": "3.11.5"
  }
 },
 "nbformat": 4,
 "nbformat_minor": 5
}
