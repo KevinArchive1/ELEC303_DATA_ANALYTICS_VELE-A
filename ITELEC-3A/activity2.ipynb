{
 "cells": [
  {
   "cell_type": "markdown",
   "id": "0a6df63a-fcce-42c0-9d8c-bbbcfb60dceb",
   "metadata": {},
   "source": [
    "# Name: Veleña, Harold V."
   ]
  },
  {
   "cell_type": "markdown",
   "id": "9663219d-7c7c-4e7d-96f7-de5a6ac17254",
   "metadata": {},
   "source": [
    "<hr>Analyst: Harold V. Veleña</hr>"
   ]
  },
  {
   "cell_type": "code",
   "execution_count": 2,
   "id": "c68fcab3-e3f8-44c0-8857-765d7e6f92d2",
   "metadata": {},
   "outputs": [
    {
     "name": "stdout",
     "output_type": "stream",
     "text": [
      "Requirement already satisfied: plotly in c:\\users\\harold velena\\appdata\\local\\programs\\python\\python311\\lib\\site-packages (6.2.0)Note: you may need to restart the kernel to use updated packages.\n",
      "\n",
      "Requirement already satisfied: narwhals>=1.15.1 in c:\\users\\harold velena\\appdata\\local\\programs\\python\\python311\\lib\\site-packages (from plotly) (2.0.1)\n",
      "Requirement already satisfied: packaging in c:\\users\\harold velena\\appdata\\local\\programs\\python\\python311\\lib\\site-packages (from plotly) (23.2)\n"
     ]
    },
    {
     "name": "stderr",
     "output_type": "stream",
     "text": [
      "\n",
      "[notice] A new release of pip is available: 24.3.1 -> 25.2\n",
      "[notice] To update, run: python.exe -m pip install --upgrade pip\n"
     ]
    }
   ],
   "source": [
    "pip install plotly"
   ]
  },
  {
   "cell_type": "code",
   "execution_count": 3,
   "id": "228f6185-3c24-456a-9e0b-40ef8f55c56a",
   "metadata": {},
   "outputs": [],
   "source": [
    "import numpy as np\n",
    "import pandas as pd\n",
    "import matplotlib.pyplot as plt\n",
    "import seaborn as sns\n",
    "import warnings\n",
    "warnings.filterwarnings(\"ignore\")"
   ]
  },
  {
   "cell_type": "markdown",
   "id": "2a9b4dad-c57b-4b08-a766-bbdf6cc45d65",
   "metadata": {},
   "source": [
    "<p>Importing dataset to Jupyter notebook</p>\n",
    "<p></p>"
   ]
  },
  {
   "cell_type": "code",
   "execution_count": 4,
   "id": "f5ac296f-5f4b-4a7a-9cdc-176897363ae7",
   "metadata": {},
   "outputs": [
    {
     "data": {
      "text/plain": [
       "dtype('float64')"
      ]
     },
     "execution_count": 4,
     "metadata": {},
     "output_type": "execute_result"
    }
   ],
   "source": [
    "a = np.array([2.2, 3, 4])\n",
    "a.dtype\n"
   ]
  },
  {
   "cell_type": "markdown",
   "id": "fe49fbba-3602-4dbb-937f-d49f19aba2aa",
   "metadata": {},
   "source": [
    "# Getting the penguins data"
   ]
  },
  {
   "cell_type": "code",
   "execution_count": 5,
   "id": "f3fc479b-3538-4933-9312-8153cf555d3c",
   "metadata": {},
   "outputs": [
    {
     "data": {
      "text/html": [
       "<div>\n",
       "<style scoped>\n",
       "    .dataframe tbody tr th:only-of-type {\n",
       "        vertical-align: middle;\n",
       "    }\n",
       "\n",
       "    .dataframe tbody tr th {\n",
       "        vertical-align: top;\n",
       "    }\n",
       "\n",
       "    .dataframe thead th {\n",
       "        text-align: right;\n",
       "    }\n",
       "</style>\n",
       "<table border=\"1\" class=\"dataframe\">\n",
       "  <thead>\n",
       "    <tr style=\"text-align: right;\">\n",
       "      <th></th>\n",
       "      <th>species</th>\n",
       "      <th>island</th>\n",
       "      <th>bill_length_mm</th>\n",
       "      <th>bill_depth_mm</th>\n",
       "      <th>flipper_length_mm</th>\n",
       "      <th>body_mass_g</th>\n",
       "      <th>sex</th>\n",
       "      <th>year</th>\n",
       "    </tr>\n",
       "  </thead>\n",
       "  <tbody>\n",
       "    <tr>\n",
       "      <th>0</th>\n",
       "      <td>Adelie</td>\n",
       "      <td>Torgersen</td>\n",
       "      <td>39.1</td>\n",
       "      <td>18.7</td>\n",
       "      <td>181.0</td>\n",
       "      <td>3750.0</td>\n",
       "      <td>male</td>\n",
       "      <td>2007</td>\n",
       "    </tr>\n",
       "    <tr>\n",
       "      <th>1</th>\n",
       "      <td>Adelie</td>\n",
       "      <td>Torgersen</td>\n",
       "      <td>39.5</td>\n",
       "      <td>17.4</td>\n",
       "      <td>186.0</td>\n",
       "      <td>3800.0</td>\n",
       "      <td>female</td>\n",
       "      <td>2007</td>\n",
       "    </tr>\n",
       "    <tr>\n",
       "      <th>2</th>\n",
       "      <td>Adelie</td>\n",
       "      <td>Torgersen</td>\n",
       "      <td>40.3</td>\n",
       "      <td>18.0</td>\n",
       "      <td>195.0</td>\n",
       "      <td>3250.0</td>\n",
       "      <td>female</td>\n",
       "      <td>2007</td>\n",
       "    </tr>\n",
       "    <tr>\n",
       "      <th>3</th>\n",
       "      <td>Adelie</td>\n",
       "      <td>Torgersen</td>\n",
       "      <td>NaN</td>\n",
       "      <td>NaN</td>\n",
       "      <td>NaN</td>\n",
       "      <td>NaN</td>\n",
       "      <td>NaN</td>\n",
       "      <td>2007</td>\n",
       "    </tr>\n",
       "    <tr>\n",
       "      <th>4</th>\n",
       "      <td>Adelie</td>\n",
       "      <td>Torgersen</td>\n",
       "      <td>36.7</td>\n",
       "      <td>19.3</td>\n",
       "      <td>193.0</td>\n",
       "      <td>3450.0</td>\n",
       "      <td>female</td>\n",
       "      <td>2007</td>\n",
       "    </tr>\n",
       "    <tr>\n",
       "      <th>...</th>\n",
       "      <td>...</td>\n",
       "      <td>...</td>\n",
       "      <td>...</td>\n",
       "      <td>...</td>\n",
       "      <td>...</td>\n",
       "      <td>...</td>\n",
       "      <td>...</td>\n",
       "      <td>...</td>\n",
       "    </tr>\n",
       "    <tr>\n",
       "      <th>339</th>\n",
       "      <td>Chinstrap</td>\n",
       "      <td>Dream</td>\n",
       "      <td>55.8</td>\n",
       "      <td>19.8</td>\n",
       "      <td>207.0</td>\n",
       "      <td>4000.0</td>\n",
       "      <td>male</td>\n",
       "      <td>2009</td>\n",
       "    </tr>\n",
       "    <tr>\n",
       "      <th>340</th>\n",
       "      <td>Chinstrap</td>\n",
       "      <td>Dream</td>\n",
       "      <td>43.5</td>\n",
       "      <td>18.1</td>\n",
       "      <td>202.0</td>\n",
       "      <td>3400.0</td>\n",
       "      <td>female</td>\n",
       "      <td>2009</td>\n",
       "    </tr>\n",
       "    <tr>\n",
       "      <th>341</th>\n",
       "      <td>Chinstrap</td>\n",
       "      <td>Dream</td>\n",
       "      <td>49.6</td>\n",
       "      <td>18.2</td>\n",
       "      <td>193.0</td>\n",
       "      <td>3775.0</td>\n",
       "      <td>male</td>\n",
       "      <td>2009</td>\n",
       "    </tr>\n",
       "    <tr>\n",
       "      <th>342</th>\n",
       "      <td>Chinstrap</td>\n",
       "      <td>Dream</td>\n",
       "      <td>50.8</td>\n",
       "      <td>19.0</td>\n",
       "      <td>210.0</td>\n",
       "      <td>4100.0</td>\n",
       "      <td>male</td>\n",
       "      <td>2009</td>\n",
       "    </tr>\n",
       "    <tr>\n",
       "      <th>343</th>\n",
       "      <td>Chinstrap</td>\n",
       "      <td>Dream</td>\n",
       "      <td>50.2</td>\n",
       "      <td>18.7</td>\n",
       "      <td>198.0</td>\n",
       "      <td>3775.0</td>\n",
       "      <td>female</td>\n",
       "      <td>2009</td>\n",
       "    </tr>\n",
       "  </tbody>\n",
       "</table>\n",
       "<p>344 rows × 8 columns</p>\n",
       "</div>"
      ],
      "text/plain": [
       "       species     island  bill_length_mm  bill_depth_mm  flipper_length_mm  \\\n",
       "0       Adelie  Torgersen            39.1           18.7              181.0   \n",
       "1       Adelie  Torgersen            39.5           17.4              186.0   \n",
       "2       Adelie  Torgersen            40.3           18.0              195.0   \n",
       "3       Adelie  Torgersen             NaN            NaN                NaN   \n",
       "4       Adelie  Torgersen            36.7           19.3              193.0   \n",
       "..         ...        ...             ...            ...                ...   \n",
       "339  Chinstrap      Dream            55.8           19.8              207.0   \n",
       "340  Chinstrap      Dream            43.5           18.1              202.0   \n",
       "341  Chinstrap      Dream            49.6           18.2              193.0   \n",
       "342  Chinstrap      Dream            50.8           19.0              210.0   \n",
       "343  Chinstrap      Dream            50.2           18.7              198.0   \n",
       "\n",
       "     body_mass_g     sex  year  \n",
       "0         3750.0    male  2007  \n",
       "1         3800.0  female  2007  \n",
       "2         3250.0  female  2007  \n",
       "3            NaN     NaN  2007  \n",
       "4         3450.0  female  2007  \n",
       "..           ...     ...   ...  \n",
       "339       4000.0    male  2009  \n",
       "340       3400.0  female  2009  \n",
       "341       3775.0    male  2009  \n",
       "342       4100.0    male  2009  \n",
       "343       3775.0  female  2009  \n",
       "\n",
       "[344 rows x 8 columns]"
      ]
     },
     "execution_count": 5,
     "metadata": {},
     "output_type": "execute_result"
    }
   ],
   "source": [
    "penguins = pd.read_csv('penguins.csv')\n",
    "\n",
    "penguins"
   ]
  },
  {
   "cell_type": "markdown",
   "id": "efd88513-3b26-4ca6-a20b-2c64fbb8a412",
   "metadata": {},
   "source": [
    "# How to create a Column"
   ]
  },
  {
   "cell_type": "code",
   "execution_count": 6,
   "id": "ff321428-1383-4089-978d-8fef190a28d7",
   "metadata": {},
   "outputs": [
    {
     "data": {
      "text/html": [
       "<div>\n",
       "<style scoped>\n",
       "    .dataframe tbody tr th:only-of-type {\n",
       "        vertical-align: middle;\n",
       "    }\n",
       "\n",
       "    .dataframe tbody tr th {\n",
       "        vertical-align: top;\n",
       "    }\n",
       "\n",
       "    .dataframe thead th {\n",
       "        text-align: right;\n",
       "    }\n",
       "</style>\n",
       "<table border=\"1\" class=\"dataframe\">\n",
       "  <thead>\n",
       "    <tr style=\"text-align: right;\">\n",
       "      <th></th>\n",
       "      <th>species</th>\n",
       "      <th>island</th>\n",
       "      <th>bill_length_mm</th>\n",
       "      <th>bill_depth_mm</th>\n",
       "      <th>flipper_length_mm</th>\n",
       "      <th>body_mass_g</th>\n",
       "      <th>sex</th>\n",
       "      <th>year</th>\n",
       "      <th>mass_kg</th>\n",
       "    </tr>\n",
       "  </thead>\n",
       "  <tbody>\n",
       "    <tr>\n",
       "      <th>0</th>\n",
       "      <td>Adelie</td>\n",
       "      <td>Torgersen</td>\n",
       "      <td>39.1</td>\n",
       "      <td>18.7</td>\n",
       "      <td>181.0</td>\n",
       "      <td>3750.0</td>\n",
       "      <td>male</td>\n",
       "      <td>2007</td>\n",
       "      <td>3.8</td>\n",
       "    </tr>\n",
       "    <tr>\n",
       "      <th>1</th>\n",
       "      <td>Adelie</td>\n",
       "      <td>Torgersen</td>\n",
       "      <td>39.5</td>\n",
       "      <td>17.4</td>\n",
       "      <td>186.0</td>\n",
       "      <td>3800.0</td>\n",
       "      <td>female</td>\n",
       "      <td>2007</td>\n",
       "      <td>3.8</td>\n",
       "    </tr>\n",
       "    <tr>\n",
       "      <th>2</th>\n",
       "      <td>Adelie</td>\n",
       "      <td>Torgersen</td>\n",
       "      <td>40.3</td>\n",
       "      <td>18.0</td>\n",
       "      <td>195.0</td>\n",
       "      <td>3250.0</td>\n",
       "      <td>female</td>\n",
       "      <td>2007</td>\n",
       "      <td>3.2</td>\n",
       "    </tr>\n",
       "    <tr>\n",
       "      <th>3</th>\n",
       "      <td>Adelie</td>\n",
       "      <td>Torgersen</td>\n",
       "      <td>NaN</td>\n",
       "      <td>NaN</td>\n",
       "      <td>NaN</td>\n",
       "      <td>NaN</td>\n",
       "      <td>NaN</td>\n",
       "      <td>2007</td>\n",
       "      <td>NaN</td>\n",
       "    </tr>\n",
       "    <tr>\n",
       "      <th>4</th>\n",
       "      <td>Adelie</td>\n",
       "      <td>Torgersen</td>\n",
       "      <td>36.7</td>\n",
       "      <td>19.3</td>\n",
       "      <td>193.0</td>\n",
       "      <td>3450.0</td>\n",
       "      <td>female</td>\n",
       "      <td>2007</td>\n",
       "      <td>3.4</td>\n",
       "    </tr>\n",
       "    <tr>\n",
       "      <th>...</th>\n",
       "      <td>...</td>\n",
       "      <td>...</td>\n",
       "      <td>...</td>\n",
       "      <td>...</td>\n",
       "      <td>...</td>\n",
       "      <td>...</td>\n",
       "      <td>...</td>\n",
       "      <td>...</td>\n",
       "      <td>...</td>\n",
       "    </tr>\n",
       "    <tr>\n",
       "      <th>339</th>\n",
       "      <td>Chinstrap</td>\n",
       "      <td>Dream</td>\n",
       "      <td>55.8</td>\n",
       "      <td>19.8</td>\n",
       "      <td>207.0</td>\n",
       "      <td>4000.0</td>\n",
       "      <td>male</td>\n",
       "      <td>2009</td>\n",
       "      <td>4.0</td>\n",
       "    </tr>\n",
       "    <tr>\n",
       "      <th>340</th>\n",
       "      <td>Chinstrap</td>\n",
       "      <td>Dream</td>\n",
       "      <td>43.5</td>\n",
       "      <td>18.1</td>\n",
       "      <td>202.0</td>\n",
       "      <td>3400.0</td>\n",
       "      <td>female</td>\n",
       "      <td>2009</td>\n",
       "      <td>3.4</td>\n",
       "    </tr>\n",
       "    <tr>\n",
       "      <th>341</th>\n",
       "      <td>Chinstrap</td>\n",
       "      <td>Dream</td>\n",
       "      <td>49.6</td>\n",
       "      <td>18.2</td>\n",
       "      <td>193.0</td>\n",
       "      <td>3775.0</td>\n",
       "      <td>male</td>\n",
       "      <td>2009</td>\n",
       "      <td>3.8</td>\n",
       "    </tr>\n",
       "    <tr>\n",
       "      <th>342</th>\n",
       "      <td>Chinstrap</td>\n",
       "      <td>Dream</td>\n",
       "      <td>50.8</td>\n",
       "      <td>19.0</td>\n",
       "      <td>210.0</td>\n",
       "      <td>4100.0</td>\n",
       "      <td>male</td>\n",
       "      <td>2009</td>\n",
       "      <td>4.1</td>\n",
       "    </tr>\n",
       "    <tr>\n",
       "      <th>343</th>\n",
       "      <td>Chinstrap</td>\n",
       "      <td>Dream</td>\n",
       "      <td>50.2</td>\n",
       "      <td>18.7</td>\n",
       "      <td>198.0</td>\n",
       "      <td>3775.0</td>\n",
       "      <td>female</td>\n",
       "      <td>2009</td>\n",
       "      <td>3.8</td>\n",
       "    </tr>\n",
       "  </tbody>\n",
       "</table>\n",
       "<p>344 rows × 9 columns</p>\n",
       "</div>"
      ],
      "text/plain": [
       "       species     island  bill_length_mm  bill_depth_mm  flipper_length_mm  \\\n",
       "0       Adelie  Torgersen            39.1           18.7              181.0   \n",
       "1       Adelie  Torgersen            39.5           17.4              186.0   \n",
       "2       Adelie  Torgersen            40.3           18.0              195.0   \n",
       "3       Adelie  Torgersen             NaN            NaN                NaN   \n",
       "4       Adelie  Torgersen            36.7           19.3              193.0   \n",
       "..         ...        ...             ...            ...                ...   \n",
       "339  Chinstrap      Dream            55.8           19.8              207.0   \n",
       "340  Chinstrap      Dream            43.5           18.1              202.0   \n",
       "341  Chinstrap      Dream            49.6           18.2              193.0   \n",
       "342  Chinstrap      Dream            50.8           19.0              210.0   \n",
       "343  Chinstrap      Dream            50.2           18.7              198.0   \n",
       "\n",
       "     body_mass_g     sex  year  mass_kg  \n",
       "0         3750.0    male  2007      3.8  \n",
       "1         3800.0  female  2007      3.8  \n",
       "2         3250.0  female  2007      3.2  \n",
       "3            NaN     NaN  2007      NaN  \n",
       "4         3450.0  female  2007      3.4  \n",
       "..           ...     ...   ...      ...  \n",
       "339       4000.0    male  2009      4.0  \n",
       "340       3400.0  female  2009      3.4  \n",
       "341       3775.0    male  2009      3.8  \n",
       "342       4100.0    male  2009      4.1  \n",
       "343       3775.0  female  2009      3.8  \n",
       "\n",
       "[344 rows x 9 columns]"
      ]
     },
     "execution_count": 6,
     "metadata": {},
     "output_type": "execute_result"
    }
   ],
   "source": [
    "penguins[\"mass_kg\"] = round(penguins[\"body_mass_g\"] / 1000,1)\n",
    "penguins"
   ]
  },
  {
   "cell_type": "markdown",
   "id": "5afb82f5-399c-4f90-841e-af45f400a0ac",
   "metadata": {},
   "source": [
    "# Descriptive Analysis"
   ]
  },
  {
   "cell_type": "markdown",
   "id": "6a840d4b-e83b-40d5-9e5f-4ced4ce98518",
   "metadata": {},
   "source": [
    "<h2>Getting the Top 5</h2>"
   ]
  },
  {
   "cell_type": "code",
   "execution_count": 7,
   "id": "13655c24-4bd8-41d5-ba1e-4d958baec549",
   "metadata": {},
   "outputs": [
    {
     "data": {
      "text/html": [
       "<div>\n",
       "<style scoped>\n",
       "    .dataframe tbody tr th:only-of-type {\n",
       "        vertical-align: middle;\n",
       "    }\n",
       "\n",
       "    .dataframe tbody tr th {\n",
       "        vertical-align: top;\n",
       "    }\n",
       "\n",
       "    .dataframe thead th {\n",
       "        text-align: right;\n",
       "    }\n",
       "</style>\n",
       "<table border=\"1\" class=\"dataframe\">\n",
       "  <thead>\n",
       "    <tr style=\"text-align: right;\">\n",
       "      <th></th>\n",
       "      <th>species</th>\n",
       "      <th>island</th>\n",
       "      <th>bill_length_mm</th>\n",
       "      <th>bill_depth_mm</th>\n",
       "      <th>flipper_length_mm</th>\n",
       "      <th>body_mass_g</th>\n",
       "      <th>sex</th>\n",
       "      <th>year</th>\n",
       "      <th>mass_kg</th>\n",
       "    </tr>\n",
       "  </thead>\n",
       "  <tbody>\n",
       "    <tr>\n",
       "      <th>0</th>\n",
       "      <td>Adelie</td>\n",
       "      <td>Torgersen</td>\n",
       "      <td>39.1</td>\n",
       "      <td>18.7</td>\n",
       "      <td>181.0</td>\n",
       "      <td>3750.0</td>\n",
       "      <td>male</td>\n",
       "      <td>2007</td>\n",
       "      <td>3.8</td>\n",
       "    </tr>\n",
       "    <tr>\n",
       "      <th>1</th>\n",
       "      <td>Adelie</td>\n",
       "      <td>Torgersen</td>\n",
       "      <td>39.5</td>\n",
       "      <td>17.4</td>\n",
       "      <td>186.0</td>\n",
       "      <td>3800.0</td>\n",
       "      <td>female</td>\n",
       "      <td>2007</td>\n",
       "      <td>3.8</td>\n",
       "    </tr>\n",
       "    <tr>\n",
       "      <th>2</th>\n",
       "      <td>Adelie</td>\n",
       "      <td>Torgersen</td>\n",
       "      <td>40.3</td>\n",
       "      <td>18.0</td>\n",
       "      <td>195.0</td>\n",
       "      <td>3250.0</td>\n",
       "      <td>female</td>\n",
       "      <td>2007</td>\n",
       "      <td>3.2</td>\n",
       "    </tr>\n",
       "    <tr>\n",
       "      <th>3</th>\n",
       "      <td>Adelie</td>\n",
       "      <td>Torgersen</td>\n",
       "      <td>NaN</td>\n",
       "      <td>NaN</td>\n",
       "      <td>NaN</td>\n",
       "      <td>NaN</td>\n",
       "      <td>NaN</td>\n",
       "      <td>2007</td>\n",
       "      <td>NaN</td>\n",
       "    </tr>\n",
       "    <tr>\n",
       "      <th>4</th>\n",
       "      <td>Adelie</td>\n",
       "      <td>Torgersen</td>\n",
       "      <td>36.7</td>\n",
       "      <td>19.3</td>\n",
       "      <td>193.0</td>\n",
       "      <td>3450.0</td>\n",
       "      <td>female</td>\n",
       "      <td>2007</td>\n",
       "      <td>3.4</td>\n",
       "    </tr>\n",
       "  </tbody>\n",
       "</table>\n",
       "</div>"
      ],
      "text/plain": [
       "  species     island  bill_length_mm  bill_depth_mm  flipper_length_mm  \\\n",
       "0  Adelie  Torgersen            39.1           18.7              181.0   \n",
       "1  Adelie  Torgersen            39.5           17.4              186.0   \n",
       "2  Adelie  Torgersen            40.3           18.0              195.0   \n",
       "3  Adelie  Torgersen             NaN            NaN                NaN   \n",
       "4  Adelie  Torgersen            36.7           19.3              193.0   \n",
       "\n",
       "   body_mass_g     sex  year  mass_kg  \n",
       "0       3750.0    male  2007      3.8  \n",
       "1       3800.0  female  2007      3.8  \n",
       "2       3250.0  female  2007      3.2  \n",
       "3          NaN     NaN  2007      NaN  \n",
       "4       3450.0  female  2007      3.4  "
      ]
     },
     "execution_count": 7,
     "metadata": {},
     "output_type": "execute_result"
    }
   ],
   "source": [
    "penguins.head()"
   ]
  },
  {
   "cell_type": "code",
   "execution_count": 8,
   "id": "54a4a30e-558b-46fa-a520-b84eb692379c",
   "metadata": {},
   "outputs": [
    {
     "name": "stdout",
     "output_type": "stream",
     "text": [
      "<class 'pandas.core.frame.DataFrame'>\n",
      "RangeIndex: 344 entries, 0 to 343\n",
      "Data columns (total 9 columns):\n",
      " #   Column             Non-Null Count  Dtype  \n",
      "---  ------             --------------  -----  \n",
      " 0   species            344 non-null    object \n",
      " 1   island             344 non-null    object \n",
      " 2   bill_length_mm     342 non-null    float64\n",
      " 3   bill_depth_mm      342 non-null    float64\n",
      " 4   flipper_length_mm  342 non-null    float64\n",
      " 5   body_mass_g        342 non-null    float64\n",
      " 6   sex                333 non-null    object \n",
      " 7   year               344 non-null    int64  \n",
      " 8   mass_kg            342 non-null    float64\n",
      "dtypes: float64(5), int64(1), object(3)\n",
      "memory usage: 24.3+ KB\n"
     ]
    }
   ],
   "source": [
    "penguins.info()"
   ]
  },
  {
   "cell_type": "code",
   "execution_count": 9,
   "id": "a801855c-09c9-4d9f-9a34-9ff736845b1f",
   "metadata": {},
   "outputs": [
    {
     "data": {
      "text/html": [
       "<div>\n",
       "<style scoped>\n",
       "    .dataframe tbody tr th:only-of-type {\n",
       "        vertical-align: middle;\n",
       "    }\n",
       "\n",
       "    .dataframe tbody tr th {\n",
       "        vertical-align: top;\n",
       "    }\n",
       "\n",
       "    .dataframe thead th {\n",
       "        text-align: right;\n",
       "    }\n",
       "</style>\n",
       "<table border=\"1\" class=\"dataframe\">\n",
       "  <thead>\n",
       "    <tr style=\"text-align: right;\">\n",
       "      <th></th>\n",
       "      <th>bill_length_mm</th>\n",
       "      <th>bill_depth_mm</th>\n",
       "      <th>flipper_length_mm</th>\n",
       "      <th>body_mass_g</th>\n",
       "      <th>year</th>\n",
       "      <th>mass_kg</th>\n",
       "    </tr>\n",
       "  </thead>\n",
       "  <tbody>\n",
       "    <tr>\n",
       "      <th>count</th>\n",
       "      <td>342.000000</td>\n",
       "      <td>342.000000</td>\n",
       "      <td>342.000000</td>\n",
       "      <td>342.000000</td>\n",
       "      <td>344.000000</td>\n",
       "      <td>342.000000</td>\n",
       "    </tr>\n",
       "    <tr>\n",
       "      <th>mean</th>\n",
       "      <td>43.921930</td>\n",
       "      <td>17.151170</td>\n",
       "      <td>200.915205</td>\n",
       "      <td>4201.754386</td>\n",
       "      <td>2008.029070</td>\n",
       "      <td>4.202047</td>\n",
       "    </tr>\n",
       "    <tr>\n",
       "      <th>std</th>\n",
       "      <td>5.459584</td>\n",
       "      <td>1.974793</td>\n",
       "      <td>14.061714</td>\n",
       "      <td>801.954536</td>\n",
       "      <td>0.818356</td>\n",
       "      <td>0.803089</td>\n",
       "    </tr>\n",
       "    <tr>\n",
       "      <th>min</th>\n",
       "      <td>32.100000</td>\n",
       "      <td>13.100000</td>\n",
       "      <td>172.000000</td>\n",
       "      <td>2700.000000</td>\n",
       "      <td>2007.000000</td>\n",
       "      <td>2.700000</td>\n",
       "    </tr>\n",
       "    <tr>\n",
       "      <th>25%</th>\n",
       "      <td>39.225000</td>\n",
       "      <td>15.600000</td>\n",
       "      <td>190.000000</td>\n",
       "      <td>3550.000000</td>\n",
       "      <td>2007.000000</td>\n",
       "      <td>3.600000</td>\n",
       "    </tr>\n",
       "    <tr>\n",
       "      <th>50%</th>\n",
       "      <td>44.450000</td>\n",
       "      <td>17.300000</td>\n",
       "      <td>197.000000</td>\n",
       "      <td>4050.000000</td>\n",
       "      <td>2008.000000</td>\n",
       "      <td>4.000000</td>\n",
       "    </tr>\n",
       "    <tr>\n",
       "      <th>75%</th>\n",
       "      <td>48.500000</td>\n",
       "      <td>18.700000</td>\n",
       "      <td>213.000000</td>\n",
       "      <td>4750.000000</td>\n",
       "      <td>2009.000000</td>\n",
       "      <td>4.800000</td>\n",
       "    </tr>\n",
       "    <tr>\n",
       "      <th>max</th>\n",
       "      <td>59.600000</td>\n",
       "      <td>21.500000</td>\n",
       "      <td>231.000000</td>\n",
       "      <td>6300.000000</td>\n",
       "      <td>2009.000000</td>\n",
       "      <td>6.300000</td>\n",
       "    </tr>\n",
       "  </tbody>\n",
       "</table>\n",
       "</div>"
      ],
      "text/plain": [
       "       bill_length_mm  bill_depth_mm  flipper_length_mm  body_mass_g  \\\n",
       "count      342.000000     342.000000         342.000000   342.000000   \n",
       "mean        43.921930      17.151170         200.915205  4201.754386   \n",
       "std          5.459584       1.974793          14.061714   801.954536   \n",
       "min         32.100000      13.100000         172.000000  2700.000000   \n",
       "25%         39.225000      15.600000         190.000000  3550.000000   \n",
       "50%         44.450000      17.300000         197.000000  4050.000000   \n",
       "75%         48.500000      18.700000         213.000000  4750.000000   \n",
       "max         59.600000      21.500000         231.000000  6300.000000   \n",
       "\n",
       "              year     mass_kg  \n",
       "count   344.000000  342.000000  \n",
       "mean   2008.029070    4.202047  \n",
       "std       0.818356    0.803089  \n",
       "min    2007.000000    2.700000  \n",
       "25%    2007.000000    3.600000  \n",
       "50%    2008.000000    4.000000  \n",
       "75%    2009.000000    4.800000  \n",
       "max    2009.000000    6.300000  "
      ]
     },
     "execution_count": 9,
     "metadata": {},
     "output_type": "execute_result"
    }
   ],
   "source": [
    "penguins.describe()"
   ]
  },
  {
   "cell_type": "code",
   "execution_count": 10,
   "id": "59e3618d-7909-4c28-acf7-0797c619fe26",
   "metadata": {},
   "outputs": [
    {
     "data": {
      "text/plain": [
       "species               0\n",
       "island                0\n",
       "bill_length_mm        2\n",
       "bill_depth_mm         2\n",
       "flipper_length_mm     2\n",
       "body_mass_g           2\n",
       "sex                  11\n",
       "year                  0\n",
       "mass_kg               2\n",
       "dtype: int64"
      ]
     },
     "execution_count": 10,
     "metadata": {},
     "output_type": "execute_result"
    }
   ],
   "source": [
    "penguins.isnull().sum()"
   ]
  },
  {
   "cell_type": "code",
   "execution_count": 11,
   "id": "40b80e20-aceb-4671-b6f9-d06c6e5375de",
   "metadata": {},
   "outputs": [
    {
     "data": {
      "text/html": [
       "<div>\n",
       "<style scoped>\n",
       "    .dataframe tbody tr th:only-of-type {\n",
       "        vertical-align: middle;\n",
       "    }\n",
       "\n",
       "    .dataframe tbody tr th {\n",
       "        vertical-align: top;\n",
       "    }\n",
       "\n",
       "    .dataframe thead th {\n",
       "        text-align: right;\n",
       "    }\n",
       "</style>\n",
       "<table border=\"1\" class=\"dataframe\">\n",
       "  <thead>\n",
       "    <tr style=\"text-align: right;\">\n",
       "      <th></th>\n",
       "      <th>species</th>\n",
       "      <th>island</th>\n",
       "      <th>bill_length_mm</th>\n",
       "      <th>bill_depth_mm</th>\n",
       "      <th>flipper_length_mm</th>\n",
       "      <th>body_mass_g</th>\n",
       "      <th>sex</th>\n",
       "      <th>year</th>\n",
       "      <th>mass_kg</th>\n",
       "    </tr>\n",
       "  </thead>\n",
       "  <tbody>\n",
       "    <tr>\n",
       "      <th>30</th>\n",
       "      <td>Adelie</td>\n",
       "      <td>Dream</td>\n",
       "      <td>39.5</td>\n",
       "      <td>16.7</td>\n",
       "      <td>178.0</td>\n",
       "      <td>3250.0</td>\n",
       "      <td>female</td>\n",
       "      <td>2007</td>\n",
       "      <td>3.2</td>\n",
       "    </tr>\n",
       "    <tr>\n",
       "      <th>31</th>\n",
       "      <td>Adelie</td>\n",
       "      <td>Dream</td>\n",
       "      <td>37.2</td>\n",
       "      <td>18.1</td>\n",
       "      <td>178.0</td>\n",
       "      <td>3900.0</td>\n",
       "      <td>male</td>\n",
       "      <td>2007</td>\n",
       "      <td>3.9</td>\n",
       "    </tr>\n",
       "    <tr>\n",
       "      <th>32</th>\n",
       "      <td>Adelie</td>\n",
       "      <td>Dream</td>\n",
       "      <td>39.5</td>\n",
       "      <td>17.8</td>\n",
       "      <td>188.0</td>\n",
       "      <td>3300.0</td>\n",
       "      <td>female</td>\n",
       "      <td>2007</td>\n",
       "      <td>3.3</td>\n",
       "    </tr>\n",
       "    <tr>\n",
       "      <th>33</th>\n",
       "      <td>Adelie</td>\n",
       "      <td>Dream</td>\n",
       "      <td>40.9</td>\n",
       "      <td>18.9</td>\n",
       "      <td>184.0</td>\n",
       "      <td>3900.0</td>\n",
       "      <td>male</td>\n",
       "      <td>2007</td>\n",
       "      <td>3.9</td>\n",
       "    </tr>\n",
       "    <tr>\n",
       "      <th>34</th>\n",
       "      <td>Adelie</td>\n",
       "      <td>Dream</td>\n",
       "      <td>36.4</td>\n",
       "      <td>17.0</td>\n",
       "      <td>195.0</td>\n",
       "      <td>3325.0</td>\n",
       "      <td>female</td>\n",
       "      <td>2007</td>\n",
       "      <td>3.3</td>\n",
       "    </tr>\n",
       "    <tr>\n",
       "      <th>...</th>\n",
       "      <td>...</td>\n",
       "      <td>...</td>\n",
       "      <td>...</td>\n",
       "      <td>...</td>\n",
       "      <td>...</td>\n",
       "      <td>...</td>\n",
       "      <td>...</td>\n",
       "      <td>...</td>\n",
       "      <td>...</td>\n",
       "    </tr>\n",
       "    <tr>\n",
       "      <th>339</th>\n",
       "      <td>Chinstrap</td>\n",
       "      <td>Dream</td>\n",
       "      <td>55.8</td>\n",
       "      <td>19.8</td>\n",
       "      <td>207.0</td>\n",
       "      <td>4000.0</td>\n",
       "      <td>male</td>\n",
       "      <td>2009</td>\n",
       "      <td>4.0</td>\n",
       "    </tr>\n",
       "    <tr>\n",
       "      <th>340</th>\n",
       "      <td>Chinstrap</td>\n",
       "      <td>Dream</td>\n",
       "      <td>43.5</td>\n",
       "      <td>18.1</td>\n",
       "      <td>202.0</td>\n",
       "      <td>3400.0</td>\n",
       "      <td>female</td>\n",
       "      <td>2009</td>\n",
       "      <td>3.4</td>\n",
       "    </tr>\n",
       "    <tr>\n",
       "      <th>341</th>\n",
       "      <td>Chinstrap</td>\n",
       "      <td>Dream</td>\n",
       "      <td>49.6</td>\n",
       "      <td>18.2</td>\n",
       "      <td>193.0</td>\n",
       "      <td>3775.0</td>\n",
       "      <td>male</td>\n",
       "      <td>2009</td>\n",
       "      <td>3.8</td>\n",
       "    </tr>\n",
       "    <tr>\n",
       "      <th>342</th>\n",
       "      <td>Chinstrap</td>\n",
       "      <td>Dream</td>\n",
       "      <td>50.8</td>\n",
       "      <td>19.0</td>\n",
       "      <td>210.0</td>\n",
       "      <td>4100.0</td>\n",
       "      <td>male</td>\n",
       "      <td>2009</td>\n",
       "      <td>4.1</td>\n",
       "    </tr>\n",
       "    <tr>\n",
       "      <th>343</th>\n",
       "      <td>Chinstrap</td>\n",
       "      <td>Dream</td>\n",
       "      <td>50.2</td>\n",
       "      <td>18.7</td>\n",
       "      <td>198.0</td>\n",
       "      <td>3775.0</td>\n",
       "      <td>female</td>\n",
       "      <td>2009</td>\n",
       "      <td>3.8</td>\n",
       "    </tr>\n",
       "  </tbody>\n",
       "</table>\n",
       "<p>124 rows × 9 columns</p>\n",
       "</div>"
      ],
      "text/plain": [
       "       species island  bill_length_mm  bill_depth_mm  flipper_length_mm  \\\n",
       "30      Adelie  Dream            39.5           16.7              178.0   \n",
       "31      Adelie  Dream            37.2           18.1              178.0   \n",
       "32      Adelie  Dream            39.5           17.8              188.0   \n",
       "33      Adelie  Dream            40.9           18.9              184.0   \n",
       "34      Adelie  Dream            36.4           17.0              195.0   \n",
       "..         ...    ...             ...            ...                ...   \n",
       "339  Chinstrap  Dream            55.8           19.8              207.0   \n",
       "340  Chinstrap  Dream            43.5           18.1              202.0   \n",
       "341  Chinstrap  Dream            49.6           18.2              193.0   \n",
       "342  Chinstrap  Dream            50.8           19.0              210.0   \n",
       "343  Chinstrap  Dream            50.2           18.7              198.0   \n",
       "\n",
       "     body_mass_g     sex  year  mass_kg  \n",
       "30        3250.0  female  2007      3.2  \n",
       "31        3900.0    male  2007      3.9  \n",
       "32        3300.0  female  2007      3.3  \n",
       "33        3900.0    male  2007      3.9  \n",
       "34        3325.0  female  2007      3.3  \n",
       "..           ...     ...   ...      ...  \n",
       "339       4000.0    male  2009      4.0  \n",
       "340       3400.0  female  2009      3.4  \n",
       "341       3775.0    male  2009      3.8  \n",
       "342       4100.0    male  2009      4.1  \n",
       "343       3775.0  female  2009      3.8  \n",
       "\n",
       "[124 rows x 9 columns]"
      ]
     },
     "execution_count": 11,
     "metadata": {},
     "output_type": "execute_result"
    }
   ],
   "source": [
    "penguins[penguins[\"island\"] == 'Dream']"
   ]
  },
  {
   "cell_type": "code",
   "execution_count": 12,
   "id": "7a171a60-eab4-4451-910c-979c4020be04",
   "metadata": {},
   "outputs": [
    {
     "data": {
      "text/plain": [
       "0      False\n",
       "1      False\n",
       "2      False\n",
       "3       True\n",
       "4      False\n",
       "       ...  \n",
       "339    False\n",
       "340    False\n",
       "341    False\n",
       "342    False\n",
       "343    False\n",
       "Name: bill_length_mm, Length: 344, dtype: bool"
      ]
     },
     "execution_count": 12,
     "metadata": {},
     "output_type": "execute_result"
    }
   ],
   "source": [
    "penguins[\"bill_length_mm\"].isnull()"
   ]
  },
  {
   "cell_type": "code",
   "execution_count": 13,
   "id": "ad998639-b70f-426a-b9b6-34a215cfa87f",
   "metadata": {},
   "outputs": [
    {
     "data": {
      "text/plain": [
       "species\n",
       "Adelie       152\n",
       "Gentoo       124\n",
       "Chinstrap     68\n",
       "Name: count, dtype: int64"
      ]
     },
     "execution_count": 13,
     "metadata": {},
     "output_type": "execute_result"
    }
   ],
   "source": [
    "penguins[\"species\"].value_counts()"
   ]
  },
  {
   "cell_type": "code",
   "execution_count": 14,
   "id": "bce1b3d0-ce86-4198-a408-c305b56647f0",
   "metadata": {},
   "outputs": [],
   "source": [
    "Adelie_pd = penguins[penguins[\"species\"] == 'Adelie']\n",
    "Gentoo_pd = penguins[penguins[\"species\"] == 'Gentoo']\n",
    "Crinstrap_pd = penguins[penguins[\"species\"] == 'Chinstrap']"
   ]
  },
  {
   "cell_type": "code",
   "execution_count": 15,
   "id": "a6d4a581-1359-48f3-86a4-c250721397b0",
   "metadata": {},
   "outputs": [
    {
     "data": {
      "text/html": [
       "<div>\n",
       "<style scoped>\n",
       "    .dataframe tbody tr th:only-of-type {\n",
       "        vertical-align: middle;\n",
       "    }\n",
       "\n",
       "    .dataframe tbody tr th {\n",
       "        vertical-align: top;\n",
       "    }\n",
       "\n",
       "    .dataframe thead th {\n",
       "        text-align: right;\n",
       "    }\n",
       "</style>\n",
       "<table border=\"1\" class=\"dataframe\">\n",
       "  <thead>\n",
       "    <tr style=\"text-align: right;\">\n",
       "      <th></th>\n",
       "      <th>species</th>\n",
       "      <th>island</th>\n",
       "      <th>bill_length_mm</th>\n",
       "      <th>bill_depth_mm</th>\n",
       "      <th>flipper_length_mm</th>\n",
       "      <th>body_mass_g</th>\n",
       "      <th>sex</th>\n",
       "      <th>year</th>\n",
       "      <th>mass_kg</th>\n",
       "    </tr>\n",
       "  </thead>\n",
       "  <tbody>\n",
       "    <tr>\n",
       "      <th>0</th>\n",
       "      <td>Adelie</td>\n",
       "      <td>Torgersen</td>\n",
       "      <td>39.1</td>\n",
       "      <td>18.7</td>\n",
       "      <td>181.0</td>\n",
       "      <td>3750.0</td>\n",
       "      <td>male</td>\n",
       "      <td>2007</td>\n",
       "      <td>3.8</td>\n",
       "    </tr>\n",
       "    <tr>\n",
       "      <th>1</th>\n",
       "      <td>Adelie</td>\n",
       "      <td>Torgersen</td>\n",
       "      <td>39.5</td>\n",
       "      <td>17.4</td>\n",
       "      <td>186.0</td>\n",
       "      <td>3800.0</td>\n",
       "      <td>female</td>\n",
       "      <td>2007</td>\n",
       "      <td>3.8</td>\n",
       "    </tr>\n",
       "    <tr>\n",
       "      <th>2</th>\n",
       "      <td>Adelie</td>\n",
       "      <td>Torgersen</td>\n",
       "      <td>40.3</td>\n",
       "      <td>18.0</td>\n",
       "      <td>195.0</td>\n",
       "      <td>3250.0</td>\n",
       "      <td>female</td>\n",
       "      <td>2007</td>\n",
       "      <td>3.2</td>\n",
       "    </tr>\n",
       "    <tr>\n",
       "      <th>3</th>\n",
       "      <td>Adelie</td>\n",
       "      <td>Torgersen</td>\n",
       "      <td>NaN</td>\n",
       "      <td>NaN</td>\n",
       "      <td>NaN</td>\n",
       "      <td>NaN</td>\n",
       "      <td>NaN</td>\n",
       "      <td>2007</td>\n",
       "      <td>NaN</td>\n",
       "    </tr>\n",
       "    <tr>\n",
       "      <th>4</th>\n",
       "      <td>Adelie</td>\n",
       "      <td>Torgersen</td>\n",
       "      <td>36.7</td>\n",
       "      <td>19.3</td>\n",
       "      <td>193.0</td>\n",
       "      <td>3450.0</td>\n",
       "      <td>female</td>\n",
       "      <td>2007</td>\n",
       "      <td>3.4</td>\n",
       "    </tr>\n",
       "    <tr>\n",
       "      <th>...</th>\n",
       "      <td>...</td>\n",
       "      <td>...</td>\n",
       "      <td>...</td>\n",
       "      <td>...</td>\n",
       "      <td>...</td>\n",
       "      <td>...</td>\n",
       "      <td>...</td>\n",
       "      <td>...</td>\n",
       "      <td>...</td>\n",
       "    </tr>\n",
       "    <tr>\n",
       "      <th>147</th>\n",
       "      <td>Adelie</td>\n",
       "      <td>Dream</td>\n",
       "      <td>36.6</td>\n",
       "      <td>18.4</td>\n",
       "      <td>184.0</td>\n",
       "      <td>3475.0</td>\n",
       "      <td>female</td>\n",
       "      <td>2009</td>\n",
       "      <td>3.5</td>\n",
       "    </tr>\n",
       "    <tr>\n",
       "      <th>148</th>\n",
       "      <td>Adelie</td>\n",
       "      <td>Dream</td>\n",
       "      <td>36.0</td>\n",
       "      <td>17.8</td>\n",
       "      <td>195.0</td>\n",
       "      <td>3450.0</td>\n",
       "      <td>female</td>\n",
       "      <td>2009</td>\n",
       "      <td>3.4</td>\n",
       "    </tr>\n",
       "    <tr>\n",
       "      <th>149</th>\n",
       "      <td>Adelie</td>\n",
       "      <td>Dream</td>\n",
       "      <td>37.8</td>\n",
       "      <td>18.1</td>\n",
       "      <td>193.0</td>\n",
       "      <td>3750.0</td>\n",
       "      <td>male</td>\n",
       "      <td>2009</td>\n",
       "      <td>3.8</td>\n",
       "    </tr>\n",
       "    <tr>\n",
       "      <th>150</th>\n",
       "      <td>Adelie</td>\n",
       "      <td>Dream</td>\n",
       "      <td>36.0</td>\n",
       "      <td>17.1</td>\n",
       "      <td>187.0</td>\n",
       "      <td>3700.0</td>\n",
       "      <td>female</td>\n",
       "      <td>2009</td>\n",
       "      <td>3.7</td>\n",
       "    </tr>\n",
       "    <tr>\n",
       "      <th>151</th>\n",
       "      <td>Adelie</td>\n",
       "      <td>Dream</td>\n",
       "      <td>41.5</td>\n",
       "      <td>18.5</td>\n",
       "      <td>201.0</td>\n",
       "      <td>4000.0</td>\n",
       "      <td>male</td>\n",
       "      <td>2009</td>\n",
       "      <td>4.0</td>\n",
       "    </tr>\n",
       "  </tbody>\n",
       "</table>\n",
       "<p>152 rows × 9 columns</p>\n",
       "</div>"
      ],
      "text/plain": [
       "    species     island  bill_length_mm  bill_depth_mm  flipper_length_mm  \\\n",
       "0    Adelie  Torgersen            39.1           18.7              181.0   \n",
       "1    Adelie  Torgersen            39.5           17.4              186.0   \n",
       "2    Adelie  Torgersen            40.3           18.0              195.0   \n",
       "3    Adelie  Torgersen             NaN            NaN                NaN   \n",
       "4    Adelie  Torgersen            36.7           19.3              193.0   \n",
       "..      ...        ...             ...            ...                ...   \n",
       "147  Adelie      Dream            36.6           18.4              184.0   \n",
       "148  Adelie      Dream            36.0           17.8              195.0   \n",
       "149  Adelie      Dream            37.8           18.1              193.0   \n",
       "150  Adelie      Dream            36.0           17.1              187.0   \n",
       "151  Adelie      Dream            41.5           18.5              201.0   \n",
       "\n",
       "     body_mass_g     sex  year  mass_kg  \n",
       "0         3750.0    male  2007      3.8  \n",
       "1         3800.0  female  2007      3.8  \n",
       "2         3250.0  female  2007      3.2  \n",
       "3            NaN     NaN  2007      NaN  \n",
       "4         3450.0  female  2007      3.4  \n",
       "..           ...     ...   ...      ...  \n",
       "147       3475.0  female  2009      3.5  \n",
       "148       3450.0  female  2009      3.4  \n",
       "149       3750.0    male  2009      3.8  \n",
       "150       3700.0  female  2009      3.7  \n",
       "151       4000.0    male  2009      4.0  \n",
       "\n",
       "[152 rows x 9 columns]"
      ]
     },
     "execution_count": 15,
     "metadata": {},
     "output_type": "execute_result"
    }
   ],
   "source": [
    "Adelie_pd"
   ]
  },
  {
   "cell_type": "code",
   "execution_count": 16,
   "id": "81997631-1423-4cbd-bd42-994d38b41537",
   "metadata": {},
   "outputs": [
    {
     "data": {
      "text/html": [
       "<div>\n",
       "<style scoped>\n",
       "    .dataframe tbody tr th:only-of-type {\n",
       "        vertical-align: middle;\n",
       "    }\n",
       "\n",
       "    .dataframe tbody tr th {\n",
       "        vertical-align: top;\n",
       "    }\n",
       "\n",
       "    .dataframe thead th {\n",
       "        text-align: right;\n",
       "    }\n",
       "</style>\n",
       "<table border=\"1\" class=\"dataframe\">\n",
       "  <thead>\n",
       "    <tr style=\"text-align: right;\">\n",
       "      <th></th>\n",
       "      <th>species</th>\n",
       "      <th>island</th>\n",
       "      <th>bill_length_mm</th>\n",
       "      <th>bill_depth_mm</th>\n",
       "      <th>flipper_length_mm</th>\n",
       "      <th>body_mass_g</th>\n",
       "      <th>sex</th>\n",
       "      <th>year</th>\n",
       "      <th>mass_kg</th>\n",
       "    </tr>\n",
       "  </thead>\n",
       "  <tbody>\n",
       "    <tr>\n",
       "      <th>152</th>\n",
       "      <td>Gentoo</td>\n",
       "      <td>Biscoe</td>\n",
       "      <td>46.1</td>\n",
       "      <td>13.2</td>\n",
       "      <td>211.0</td>\n",
       "      <td>4500.0</td>\n",
       "      <td>female</td>\n",
       "      <td>2007</td>\n",
       "      <td>4.5</td>\n",
       "    </tr>\n",
       "    <tr>\n",
       "      <th>153</th>\n",
       "      <td>Gentoo</td>\n",
       "      <td>Biscoe</td>\n",
       "      <td>50.0</td>\n",
       "      <td>16.3</td>\n",
       "      <td>230.0</td>\n",
       "      <td>5700.0</td>\n",
       "      <td>male</td>\n",
       "      <td>2007</td>\n",
       "      <td>5.7</td>\n",
       "    </tr>\n",
       "    <tr>\n",
       "      <th>154</th>\n",
       "      <td>Gentoo</td>\n",
       "      <td>Biscoe</td>\n",
       "      <td>48.7</td>\n",
       "      <td>14.1</td>\n",
       "      <td>210.0</td>\n",
       "      <td>4450.0</td>\n",
       "      <td>female</td>\n",
       "      <td>2007</td>\n",
       "      <td>4.4</td>\n",
       "    </tr>\n",
       "    <tr>\n",
       "      <th>155</th>\n",
       "      <td>Gentoo</td>\n",
       "      <td>Biscoe</td>\n",
       "      <td>50.0</td>\n",
       "      <td>15.2</td>\n",
       "      <td>218.0</td>\n",
       "      <td>5700.0</td>\n",
       "      <td>male</td>\n",
       "      <td>2007</td>\n",
       "      <td>5.7</td>\n",
       "    </tr>\n",
       "    <tr>\n",
       "      <th>156</th>\n",
       "      <td>Gentoo</td>\n",
       "      <td>Biscoe</td>\n",
       "      <td>47.6</td>\n",
       "      <td>14.5</td>\n",
       "      <td>215.0</td>\n",
       "      <td>5400.0</td>\n",
       "      <td>male</td>\n",
       "      <td>2007</td>\n",
       "      <td>5.4</td>\n",
       "    </tr>\n",
       "    <tr>\n",
       "      <th>...</th>\n",
       "      <td>...</td>\n",
       "      <td>...</td>\n",
       "      <td>...</td>\n",
       "      <td>...</td>\n",
       "      <td>...</td>\n",
       "      <td>...</td>\n",
       "      <td>...</td>\n",
       "      <td>...</td>\n",
       "      <td>...</td>\n",
       "    </tr>\n",
       "    <tr>\n",
       "      <th>271</th>\n",
       "      <td>Gentoo</td>\n",
       "      <td>Biscoe</td>\n",
       "      <td>NaN</td>\n",
       "      <td>NaN</td>\n",
       "      <td>NaN</td>\n",
       "      <td>NaN</td>\n",
       "      <td>NaN</td>\n",
       "      <td>2009</td>\n",
       "      <td>NaN</td>\n",
       "    </tr>\n",
       "    <tr>\n",
       "      <th>272</th>\n",
       "      <td>Gentoo</td>\n",
       "      <td>Biscoe</td>\n",
       "      <td>46.8</td>\n",
       "      <td>14.3</td>\n",
       "      <td>215.0</td>\n",
       "      <td>4850.0</td>\n",
       "      <td>female</td>\n",
       "      <td>2009</td>\n",
       "      <td>4.8</td>\n",
       "    </tr>\n",
       "    <tr>\n",
       "      <th>273</th>\n",
       "      <td>Gentoo</td>\n",
       "      <td>Biscoe</td>\n",
       "      <td>50.4</td>\n",
       "      <td>15.7</td>\n",
       "      <td>222.0</td>\n",
       "      <td>5750.0</td>\n",
       "      <td>male</td>\n",
       "      <td>2009</td>\n",
       "      <td>5.8</td>\n",
       "    </tr>\n",
       "    <tr>\n",
       "      <th>274</th>\n",
       "      <td>Gentoo</td>\n",
       "      <td>Biscoe</td>\n",
       "      <td>45.2</td>\n",
       "      <td>14.8</td>\n",
       "      <td>212.0</td>\n",
       "      <td>5200.0</td>\n",
       "      <td>female</td>\n",
       "      <td>2009</td>\n",
       "      <td>5.2</td>\n",
       "    </tr>\n",
       "    <tr>\n",
       "      <th>275</th>\n",
       "      <td>Gentoo</td>\n",
       "      <td>Biscoe</td>\n",
       "      <td>49.9</td>\n",
       "      <td>16.1</td>\n",
       "      <td>213.0</td>\n",
       "      <td>5400.0</td>\n",
       "      <td>male</td>\n",
       "      <td>2009</td>\n",
       "      <td>5.4</td>\n",
       "    </tr>\n",
       "  </tbody>\n",
       "</table>\n",
       "<p>124 rows × 9 columns</p>\n",
       "</div>"
      ],
      "text/plain": [
       "    species  island  bill_length_mm  bill_depth_mm  flipper_length_mm  \\\n",
       "152  Gentoo  Biscoe            46.1           13.2              211.0   \n",
       "153  Gentoo  Biscoe            50.0           16.3              230.0   \n",
       "154  Gentoo  Biscoe            48.7           14.1              210.0   \n",
       "155  Gentoo  Biscoe            50.0           15.2              218.0   \n",
       "156  Gentoo  Biscoe            47.6           14.5              215.0   \n",
       "..      ...     ...             ...            ...                ...   \n",
       "271  Gentoo  Biscoe             NaN            NaN                NaN   \n",
       "272  Gentoo  Biscoe            46.8           14.3              215.0   \n",
       "273  Gentoo  Biscoe            50.4           15.7              222.0   \n",
       "274  Gentoo  Biscoe            45.2           14.8              212.0   \n",
       "275  Gentoo  Biscoe            49.9           16.1              213.0   \n",
       "\n",
       "     body_mass_g     sex  year  mass_kg  \n",
       "152       4500.0  female  2007      4.5  \n",
       "153       5700.0    male  2007      5.7  \n",
       "154       4450.0  female  2007      4.4  \n",
       "155       5700.0    male  2007      5.7  \n",
       "156       5400.0    male  2007      5.4  \n",
       "..           ...     ...   ...      ...  \n",
       "271          NaN     NaN  2009      NaN  \n",
       "272       4850.0  female  2009      4.8  \n",
       "273       5750.0    male  2009      5.8  \n",
       "274       5200.0  female  2009      5.2  \n",
       "275       5400.0    male  2009      5.4  \n",
       "\n",
       "[124 rows x 9 columns]"
      ]
     },
     "execution_count": 16,
     "metadata": {},
     "output_type": "execute_result"
    }
   ],
   "source": [
    "Gentoo_pd"
   ]
  },
  {
   "cell_type": "code",
   "execution_count": 17,
   "id": "4b5a00d2-dfd0-4808-9b53-22d2e77f9052",
   "metadata": {},
   "outputs": [
    {
     "data": {
      "text/html": [
       "<div>\n",
       "<style scoped>\n",
       "    .dataframe tbody tr th:only-of-type {\n",
       "        vertical-align: middle;\n",
       "    }\n",
       "\n",
       "    .dataframe tbody tr th {\n",
       "        vertical-align: top;\n",
       "    }\n",
       "\n",
       "    .dataframe thead th {\n",
       "        text-align: right;\n",
       "    }\n",
       "</style>\n",
       "<table border=\"1\" class=\"dataframe\">\n",
       "  <thead>\n",
       "    <tr style=\"text-align: right;\">\n",
       "      <th></th>\n",
       "      <th>species</th>\n",
       "      <th>island</th>\n",
       "      <th>bill_length_mm</th>\n",
       "      <th>bill_depth_mm</th>\n",
       "      <th>flipper_length_mm</th>\n",
       "      <th>body_mass_g</th>\n",
       "      <th>sex</th>\n",
       "      <th>year</th>\n",
       "      <th>mass_kg</th>\n",
       "    </tr>\n",
       "  </thead>\n",
       "  <tbody>\n",
       "    <tr>\n",
       "      <th>276</th>\n",
       "      <td>Chinstrap</td>\n",
       "      <td>Dream</td>\n",
       "      <td>46.5</td>\n",
       "      <td>17.9</td>\n",
       "      <td>192.0</td>\n",
       "      <td>3500.0</td>\n",
       "      <td>female</td>\n",
       "      <td>2007</td>\n",
       "      <td>3.5</td>\n",
       "    </tr>\n",
       "    <tr>\n",
       "      <th>277</th>\n",
       "      <td>Chinstrap</td>\n",
       "      <td>Dream</td>\n",
       "      <td>50.0</td>\n",
       "      <td>19.5</td>\n",
       "      <td>196.0</td>\n",
       "      <td>3900.0</td>\n",
       "      <td>male</td>\n",
       "      <td>2007</td>\n",
       "      <td>3.9</td>\n",
       "    </tr>\n",
       "    <tr>\n",
       "      <th>278</th>\n",
       "      <td>Chinstrap</td>\n",
       "      <td>Dream</td>\n",
       "      <td>51.3</td>\n",
       "      <td>19.2</td>\n",
       "      <td>193.0</td>\n",
       "      <td>3650.0</td>\n",
       "      <td>male</td>\n",
       "      <td>2007</td>\n",
       "      <td>3.6</td>\n",
       "    </tr>\n",
       "    <tr>\n",
       "      <th>279</th>\n",
       "      <td>Chinstrap</td>\n",
       "      <td>Dream</td>\n",
       "      <td>45.4</td>\n",
       "      <td>18.7</td>\n",
       "      <td>188.0</td>\n",
       "      <td>3525.0</td>\n",
       "      <td>female</td>\n",
       "      <td>2007</td>\n",
       "      <td>3.5</td>\n",
       "    </tr>\n",
       "    <tr>\n",
       "      <th>280</th>\n",
       "      <td>Chinstrap</td>\n",
       "      <td>Dream</td>\n",
       "      <td>52.7</td>\n",
       "      <td>19.8</td>\n",
       "      <td>197.0</td>\n",
       "      <td>3725.0</td>\n",
       "      <td>male</td>\n",
       "      <td>2007</td>\n",
       "      <td>3.7</td>\n",
       "    </tr>\n",
       "    <tr>\n",
       "      <th>...</th>\n",
       "      <td>...</td>\n",
       "      <td>...</td>\n",
       "      <td>...</td>\n",
       "      <td>...</td>\n",
       "      <td>...</td>\n",
       "      <td>...</td>\n",
       "      <td>...</td>\n",
       "      <td>...</td>\n",
       "      <td>...</td>\n",
       "    </tr>\n",
       "    <tr>\n",
       "      <th>339</th>\n",
       "      <td>Chinstrap</td>\n",
       "      <td>Dream</td>\n",
       "      <td>55.8</td>\n",
       "      <td>19.8</td>\n",
       "      <td>207.0</td>\n",
       "      <td>4000.0</td>\n",
       "      <td>male</td>\n",
       "      <td>2009</td>\n",
       "      <td>4.0</td>\n",
       "    </tr>\n",
       "    <tr>\n",
       "      <th>340</th>\n",
       "      <td>Chinstrap</td>\n",
       "      <td>Dream</td>\n",
       "      <td>43.5</td>\n",
       "      <td>18.1</td>\n",
       "      <td>202.0</td>\n",
       "      <td>3400.0</td>\n",
       "      <td>female</td>\n",
       "      <td>2009</td>\n",
       "      <td>3.4</td>\n",
       "    </tr>\n",
       "    <tr>\n",
       "      <th>341</th>\n",
       "      <td>Chinstrap</td>\n",
       "      <td>Dream</td>\n",
       "      <td>49.6</td>\n",
       "      <td>18.2</td>\n",
       "      <td>193.0</td>\n",
       "      <td>3775.0</td>\n",
       "      <td>male</td>\n",
       "      <td>2009</td>\n",
       "      <td>3.8</td>\n",
       "    </tr>\n",
       "    <tr>\n",
       "      <th>342</th>\n",
       "      <td>Chinstrap</td>\n",
       "      <td>Dream</td>\n",
       "      <td>50.8</td>\n",
       "      <td>19.0</td>\n",
       "      <td>210.0</td>\n",
       "      <td>4100.0</td>\n",
       "      <td>male</td>\n",
       "      <td>2009</td>\n",
       "      <td>4.1</td>\n",
       "    </tr>\n",
       "    <tr>\n",
       "      <th>343</th>\n",
       "      <td>Chinstrap</td>\n",
       "      <td>Dream</td>\n",
       "      <td>50.2</td>\n",
       "      <td>18.7</td>\n",
       "      <td>198.0</td>\n",
       "      <td>3775.0</td>\n",
       "      <td>female</td>\n",
       "      <td>2009</td>\n",
       "      <td>3.8</td>\n",
       "    </tr>\n",
       "  </tbody>\n",
       "</table>\n",
       "<p>68 rows × 9 columns</p>\n",
       "</div>"
      ],
      "text/plain": [
       "       species island  bill_length_mm  bill_depth_mm  flipper_length_mm  \\\n",
       "276  Chinstrap  Dream            46.5           17.9              192.0   \n",
       "277  Chinstrap  Dream            50.0           19.5              196.0   \n",
       "278  Chinstrap  Dream            51.3           19.2              193.0   \n",
       "279  Chinstrap  Dream            45.4           18.7              188.0   \n",
       "280  Chinstrap  Dream            52.7           19.8              197.0   \n",
       "..         ...    ...             ...            ...                ...   \n",
       "339  Chinstrap  Dream            55.8           19.8              207.0   \n",
       "340  Chinstrap  Dream            43.5           18.1              202.0   \n",
       "341  Chinstrap  Dream            49.6           18.2              193.0   \n",
       "342  Chinstrap  Dream            50.8           19.0              210.0   \n",
       "343  Chinstrap  Dream            50.2           18.7              198.0   \n",
       "\n",
       "     body_mass_g     sex  year  mass_kg  \n",
       "276       3500.0  female  2007      3.5  \n",
       "277       3900.0    male  2007      3.9  \n",
       "278       3650.0    male  2007      3.6  \n",
       "279       3525.0  female  2007      3.5  \n",
       "280       3725.0    male  2007      3.7  \n",
       "..           ...     ...   ...      ...  \n",
       "339       4000.0    male  2009      4.0  \n",
       "340       3400.0  female  2009      3.4  \n",
       "341       3775.0    male  2009      3.8  \n",
       "342       4100.0    male  2009      4.1  \n",
       "343       3775.0  female  2009      3.8  \n",
       "\n",
       "[68 rows x 9 columns]"
      ]
     },
     "execution_count": 17,
     "metadata": {},
     "output_type": "execute_result"
    }
   ],
   "source": [
    "Crinstrap_pd"
   ]
  },
  {
   "cell_type": "code",
   "execution_count": 18,
   "id": "414fd946-9943-41ec-889e-a48db83c16c9",
   "metadata": {},
   "outputs": [
    {
     "data": {
      "text/html": [
       "<div>\n",
       "<style scoped>\n",
       "    .dataframe tbody tr th:only-of-type {\n",
       "        vertical-align: middle;\n",
       "    }\n",
       "\n",
       "    .dataframe tbody tr th {\n",
       "        vertical-align: top;\n",
       "    }\n",
       "\n",
       "    .dataframe thead th {\n",
       "        text-align: right;\n",
       "    }\n",
       "</style>\n",
       "<table border=\"1\" class=\"dataframe\">\n",
       "  <thead>\n",
       "    <tr style=\"text-align: right;\">\n",
       "      <th></th>\n",
       "      <th>species</th>\n",
       "      <th>island</th>\n",
       "      <th>bill_length_mm</th>\n",
       "      <th>bill_depth_mm</th>\n",
       "      <th>flipper_length_mm</th>\n",
       "      <th>body_mass_g</th>\n",
       "      <th>sex</th>\n",
       "      <th>year</th>\n",
       "      <th>mass_kg</th>\n",
       "    </tr>\n",
       "  </thead>\n",
       "  <tbody>\n",
       "    <tr>\n",
       "      <th>284</th>\n",
       "      <td>Chinstrap</td>\n",
       "      <td>Dream</td>\n",
       "      <td>46.0</td>\n",
       "      <td>18.9</td>\n",
       "      <td>195.0</td>\n",
       "      <td>4150.0</td>\n",
       "      <td>female</td>\n",
       "      <td>2007</td>\n",
       "      <td>4.2</td>\n",
       "    </tr>\n",
       "    <tr>\n",
       "      <th>289</th>\n",
       "      <td>Chinstrap</td>\n",
       "      <td>Dream</td>\n",
       "      <td>52.0</td>\n",
       "      <td>18.1</td>\n",
       "      <td>201.0</td>\n",
       "      <td>4050.0</td>\n",
       "      <td>male</td>\n",
       "      <td>2007</td>\n",
       "      <td>4.0</td>\n",
       "    </tr>\n",
       "    <tr>\n",
       "      <th>291</th>\n",
       "      <td>Chinstrap</td>\n",
       "      <td>Dream</td>\n",
       "      <td>50.5</td>\n",
       "      <td>19.6</td>\n",
       "      <td>201.0</td>\n",
       "      <td>4050.0</td>\n",
       "      <td>male</td>\n",
       "      <td>2007</td>\n",
       "      <td>4.0</td>\n",
       "    </tr>\n",
       "    <tr>\n",
       "      <th>295</th>\n",
       "      <td>Chinstrap</td>\n",
       "      <td>Dream</td>\n",
       "      <td>49.2</td>\n",
       "      <td>18.2</td>\n",
       "      <td>195.0</td>\n",
       "      <td>4400.0</td>\n",
       "      <td>male</td>\n",
       "      <td>2007</td>\n",
       "      <td>4.4</td>\n",
       "    </tr>\n",
       "    <tr>\n",
       "      <th>301</th>\n",
       "      <td>Chinstrap</td>\n",
       "      <td>Dream</td>\n",
       "      <td>52.0</td>\n",
       "      <td>19.0</td>\n",
       "      <td>197.0</td>\n",
       "      <td>4150.0</td>\n",
       "      <td>male</td>\n",
       "      <td>2007</td>\n",
       "      <td>4.2</td>\n",
       "    </tr>\n",
       "    <tr>\n",
       "      <th>305</th>\n",
       "      <td>Chinstrap</td>\n",
       "      <td>Dream</td>\n",
       "      <td>52.8</td>\n",
       "      <td>20.0</td>\n",
       "      <td>205.0</td>\n",
       "      <td>4550.0</td>\n",
       "      <td>male</td>\n",
       "      <td>2008</td>\n",
       "      <td>4.6</td>\n",
       "    </tr>\n",
       "    <tr>\n",
       "      <th>307</th>\n",
       "      <td>Chinstrap</td>\n",
       "      <td>Dream</td>\n",
       "      <td>54.2</td>\n",
       "      <td>20.8</td>\n",
       "      <td>201.0</td>\n",
       "      <td>4300.0</td>\n",
       "      <td>male</td>\n",
       "      <td>2008</td>\n",
       "      <td>4.3</td>\n",
       "    </tr>\n",
       "    <tr>\n",
       "      <th>309</th>\n",
       "      <td>Chinstrap</td>\n",
       "      <td>Dream</td>\n",
       "      <td>51.0</td>\n",
       "      <td>18.8</td>\n",
       "      <td>203.0</td>\n",
       "      <td>4100.0</td>\n",
       "      <td>male</td>\n",
       "      <td>2008</td>\n",
       "      <td>4.1</td>\n",
       "    </tr>\n",
       "    <tr>\n",
       "      <th>313</th>\n",
       "      <td>Chinstrap</td>\n",
       "      <td>Dream</td>\n",
       "      <td>52.0</td>\n",
       "      <td>20.7</td>\n",
       "      <td>210.0</td>\n",
       "      <td>4800.0</td>\n",
       "      <td>male</td>\n",
       "      <td>2008</td>\n",
       "      <td>4.8</td>\n",
       "    </tr>\n",
       "    <tr>\n",
       "      <th>315</th>\n",
       "      <td>Chinstrap</td>\n",
       "      <td>Dream</td>\n",
       "      <td>53.5</td>\n",
       "      <td>19.9</td>\n",
       "      <td>205.0</td>\n",
       "      <td>4500.0</td>\n",
       "      <td>male</td>\n",
       "      <td>2008</td>\n",
       "      <td>4.5</td>\n",
       "    </tr>\n",
       "    <tr>\n",
       "      <th>321</th>\n",
       "      <td>Chinstrap</td>\n",
       "      <td>Dream</td>\n",
       "      <td>50.8</td>\n",
       "      <td>18.5</td>\n",
       "      <td>201.0</td>\n",
       "      <td>4450.0</td>\n",
       "      <td>male</td>\n",
       "      <td>2009</td>\n",
       "      <td>4.4</td>\n",
       "    </tr>\n",
       "    <tr>\n",
       "      <th>323</th>\n",
       "      <td>Chinstrap</td>\n",
       "      <td>Dream</td>\n",
       "      <td>49.0</td>\n",
       "      <td>19.6</td>\n",
       "      <td>212.0</td>\n",
       "      <td>4300.0</td>\n",
       "      <td>male</td>\n",
       "      <td>2009</td>\n",
       "      <td>4.3</td>\n",
       "    </tr>\n",
       "    <tr>\n",
       "      <th>329</th>\n",
       "      <td>Chinstrap</td>\n",
       "      <td>Dream</td>\n",
       "      <td>50.7</td>\n",
       "      <td>19.7</td>\n",
       "      <td>203.0</td>\n",
       "      <td>4050.0</td>\n",
       "      <td>male</td>\n",
       "      <td>2009</td>\n",
       "      <td>4.0</td>\n",
       "    </tr>\n",
       "    <tr>\n",
       "      <th>333</th>\n",
       "      <td>Chinstrap</td>\n",
       "      <td>Dream</td>\n",
       "      <td>49.3</td>\n",
       "      <td>19.9</td>\n",
       "      <td>203.0</td>\n",
       "      <td>4050.0</td>\n",
       "      <td>male</td>\n",
       "      <td>2009</td>\n",
       "      <td>4.0</td>\n",
       "    </tr>\n",
       "    <tr>\n",
       "      <th>339</th>\n",
       "      <td>Chinstrap</td>\n",
       "      <td>Dream</td>\n",
       "      <td>55.8</td>\n",
       "      <td>19.8</td>\n",
       "      <td>207.0</td>\n",
       "      <td>4000.0</td>\n",
       "      <td>male</td>\n",
       "      <td>2009</td>\n",
       "      <td>4.0</td>\n",
       "    </tr>\n",
       "    <tr>\n",
       "      <th>342</th>\n",
       "      <td>Chinstrap</td>\n",
       "      <td>Dream</td>\n",
       "      <td>50.8</td>\n",
       "      <td>19.0</td>\n",
       "      <td>210.0</td>\n",
       "      <td>4100.0</td>\n",
       "      <td>male</td>\n",
       "      <td>2009</td>\n",
       "      <td>4.1</td>\n",
       "    </tr>\n",
       "  </tbody>\n",
       "</table>\n",
       "</div>"
      ],
      "text/plain": [
       "       species island  bill_length_mm  bill_depth_mm  flipper_length_mm  \\\n",
       "284  Chinstrap  Dream            46.0           18.9              195.0   \n",
       "289  Chinstrap  Dream            52.0           18.1              201.0   \n",
       "291  Chinstrap  Dream            50.5           19.6              201.0   \n",
       "295  Chinstrap  Dream            49.2           18.2              195.0   \n",
       "301  Chinstrap  Dream            52.0           19.0              197.0   \n",
       "305  Chinstrap  Dream            52.8           20.0              205.0   \n",
       "307  Chinstrap  Dream            54.2           20.8              201.0   \n",
       "309  Chinstrap  Dream            51.0           18.8              203.0   \n",
       "313  Chinstrap  Dream            52.0           20.7              210.0   \n",
       "315  Chinstrap  Dream            53.5           19.9              205.0   \n",
       "321  Chinstrap  Dream            50.8           18.5              201.0   \n",
       "323  Chinstrap  Dream            49.0           19.6              212.0   \n",
       "329  Chinstrap  Dream            50.7           19.7              203.0   \n",
       "333  Chinstrap  Dream            49.3           19.9              203.0   \n",
       "339  Chinstrap  Dream            55.8           19.8              207.0   \n",
       "342  Chinstrap  Dream            50.8           19.0              210.0   \n",
       "\n",
       "     body_mass_g     sex  year  mass_kg  \n",
       "284       4150.0  female  2007      4.2  \n",
       "289       4050.0    male  2007      4.0  \n",
       "291       4050.0    male  2007      4.0  \n",
       "295       4400.0    male  2007      4.4  \n",
       "301       4150.0    male  2007      4.2  \n",
       "305       4550.0    male  2008      4.6  \n",
       "307       4300.0    male  2008      4.3  \n",
       "309       4100.0    male  2008      4.1  \n",
       "313       4800.0    male  2008      4.8  \n",
       "315       4500.0    male  2008      4.5  \n",
       "321       4450.0    male  2009      4.4  \n",
       "323       4300.0    male  2009      4.3  \n",
       "329       4050.0    male  2009      4.0  \n",
       "333       4050.0    male  2009      4.0  \n",
       "339       4000.0    male  2009      4.0  \n",
       "342       4100.0    male  2009      4.1  "
      ]
     },
     "execution_count": 18,
     "metadata": {},
     "output_type": "execute_result"
    }
   ],
   "source": [
    "penguins[(penguins[\"species\"] == 'Chinstrap') & (Crinstrap_pd[\"body_mass_g\"] >= 4000)]"
   ]
  },
  {
   "cell_type": "code",
   "execution_count": 19,
   "id": "8b3a50a8-a78a-48a5-9473-0e9a8d2d7b02",
   "metadata": {},
   "outputs": [
    {
     "data": {
      "text/plain": [
       "species               0\n",
       "island                0\n",
       "bill_length_mm        2\n",
       "bill_depth_mm         2\n",
       "flipper_length_mm     2\n",
       "body_mass_g           2\n",
       "sex                  11\n",
       "year                  0\n",
       "mass_kg               2\n",
       "dtype: int64"
      ]
     },
     "execution_count": 19,
     "metadata": {},
     "output_type": "execute_result"
    }
   ],
   "source": [
    "penguins.isnull().sum()"
   ]
  },
  {
   "cell_type": "markdown",
   "id": "b2961f8e-c58d-4f6a-84de-6e8c0a3f707c",
   "metadata": {},
   "source": [
    "# How to remove null values"
   ]
  },
  {
   "cell_type": "code",
   "execution_count": 20,
   "id": "b5503d9f-e340-4bb9-88a5-5e261d882b8c",
   "metadata": {},
   "outputs": [
    {
     "data": {
      "text/plain": [
       "np.float64(43.9219298245614)"
      ]
     },
     "execution_count": 20,
     "metadata": {},
     "output_type": "execute_result"
    }
   ],
   "source": [
    "penguins[\"bill_length_mm\"].mean()"
   ]
  },
  {
   "cell_type": "code",
   "execution_count": 21,
   "id": "8e46e18e-37b0-4ac1-897a-62ec4edbf695",
   "metadata": {},
   "outputs": [],
   "source": [
    "penguins[\"bill_length_mm\"] = penguins[\"bill_length_mm\"].fillna(penguins[\"bill_length_mm\"].mean())"
   ]
  },
  {
   "cell_type": "code",
   "execution_count": 22,
   "id": "01bd1c3b-b79e-4144-9c41-144c6a56c282",
   "metadata": {},
   "outputs": [
    {
     "data": {
      "text/plain": [
       "species               0\n",
       "island                0\n",
       "bill_length_mm        0\n",
       "bill_depth_mm         2\n",
       "flipper_length_mm     2\n",
       "body_mass_g           2\n",
       "sex                  11\n",
       "year                  0\n",
       "mass_kg               2\n",
       "dtype: int64"
      ]
     },
     "execution_count": 22,
     "metadata": {},
     "output_type": "execute_result"
    }
   ],
   "source": [
    "penguins.isnull().sum()"
   ]
  },
  {
   "cell_type": "markdown",
   "id": "1f96571b-5742-4993-a16d-2a2882b9c71f",
   "metadata": {},
   "source": [
    "# If the data is categorical we can use mode()"
   ]
  },
  {
   "cell_type": "code",
   "execution_count": 23,
   "id": "c6ec45c9-d1fa-4752-8e84-e53401643f45",
   "metadata": {},
   "outputs": [],
   "source": [
    "penguins[\"sex\"] = penguins[\"sex\"].fillna(penguins[\"sex\"].mode()[0])"
   ]
  },
  {
   "cell_type": "code",
   "execution_count": 24,
   "id": "d7e5362b-64b8-45a8-b736-b6aedc6c7737",
   "metadata": {},
   "outputs": [
    {
     "data": {
      "text/plain": [
       "species              0\n",
       "island               0\n",
       "bill_length_mm       0\n",
       "bill_depth_mm        2\n",
       "flipper_length_mm    2\n",
       "body_mass_g          2\n",
       "sex                  0\n",
       "year                 0\n",
       "mass_kg              2\n",
       "dtype: int64"
      ]
     },
     "execution_count": 24,
     "metadata": {},
     "output_type": "execute_result"
    }
   ],
   "source": [
    "penguins.isnull().sum()"
   ]
  },
  {
   "cell_type": "markdown",
   "id": "4322303a-fc4a-4c62-bca0-ab17dcc576ad",
   "metadata": {},
   "source": [
    "# Repeat the process of removing the null values to the other columns"
   ]
  },
  {
   "cell_type": "code",
   "execution_count": 25,
   "id": "45077e02-c5df-4fc6-a6ef-ec2513e3a388",
   "metadata": {},
   "outputs": [],
   "source": [
    "penguins[\"bill_depth_mm\"] = penguins[\"bill_depth_mm\"].fillna(penguins[\"bill_depth_mm\"].mean())\n",
    "penguins[\"flipper_length_mm\"] = penguins[\"flipper_length_mm\"].fillna(penguins[\"flipper_length_mm\"].mean())\n",
    "penguins[\"body_mass_g\"] = penguins[\"body_mass_g\"].fillna(penguins[\"body_mass_g\"].mean())\n",
    "penguins[\"mass_kg\"] = penguins[\"mass_kg\"].fillna(penguins[\"mass_kg\"].mean())"
   ]
  },
  {
   "cell_type": "markdown",
   "id": "c6097336-4258-44f9-b31b-1525f7969379",
   "metadata": {},
   "source": [
    "# All the null values have been removed"
   ]
  },
  {
   "cell_type": "code",
   "execution_count": 26,
   "id": "2a5e296b-72a6-4700-a13b-5276b645cadb",
   "metadata": {},
   "outputs": [
    {
     "data": {
      "text/plain": [
       "species              0\n",
       "island               0\n",
       "bill_length_mm       0\n",
       "bill_depth_mm        0\n",
       "flipper_length_mm    0\n",
       "body_mass_g          0\n",
       "sex                  0\n",
       "year                 0\n",
       "mass_kg              0\n",
       "dtype: int64"
      ]
     },
     "execution_count": 26,
     "metadata": {},
     "output_type": "execute_result"
    }
   ],
   "source": [
    "penguins.isnull().sum()"
   ]
  },
  {
   "cell_type": "markdown",
   "id": "de8081c9-fda1-4bac-a5b3-67e86cc9739b",
   "metadata": {},
   "source": [
    "# Changing the data type of the columns"
   ]
  },
  {
   "cell_type": "code",
   "execution_count": 27,
   "id": "beb5dca2-c981-4aaa-820f-807bfbd9af01",
   "metadata": {},
   "outputs": [],
   "source": [
    "penguins[\"species\"] = penguins[\"species\"].astype(\"category\")\n",
    "penguins[\"year\"] = penguins[\"year\"].astype(\"category\")\n",
    "penguins[\"island\"] = penguins[\"island\"].astype(\"category\")\n",
    "penguins[\"sex\"] = penguins[\"sex\"].astype(\"category\")"
   ]
  },
  {
   "cell_type": "code",
   "execution_count": 28,
   "id": "a6c97aeb-3ba4-4168-9e31-e859fe0b94d1",
   "metadata": {},
   "outputs": [
    {
     "name": "stdout",
     "output_type": "stream",
     "text": [
      "<class 'pandas.core.frame.DataFrame'>\n",
      "RangeIndex: 344 entries, 0 to 343\n",
      "Data columns (total 9 columns):\n",
      " #   Column             Non-Null Count  Dtype   \n",
      "---  ------             --------------  -----   \n",
      " 0   species            344 non-null    category\n",
      " 1   island             344 non-null    category\n",
      " 2   bill_length_mm     344 non-null    float64 \n",
      " 3   bill_depth_mm      344 non-null    float64 \n",
      " 4   flipper_length_mm  344 non-null    float64 \n",
      " 5   body_mass_g        344 non-null    float64 \n",
      " 6   sex                344 non-null    category\n",
      " 7   year               344 non-null    category\n",
      " 8   mass_kg            344 non-null    float64 \n",
      "dtypes: category(4), float64(5)\n",
      "memory usage: 15.4 KB\n"
     ]
    }
   ],
   "source": [
    "penguins.info()"
   ]
  },
  {
   "cell_type": "code",
   "execution_count": 29,
   "id": "5829444f-c2d5-405e-9792-0098272b17ca",
   "metadata": {},
   "outputs": [
    {
     "data": {
      "text/plain": [
       "Index(['species', 'island', 'bill_length_mm', 'bill_depth_mm',\n",
       "       'flipper_length_mm', 'body_mass_g', 'sex', 'year', 'mass_kg'],\n",
       "      dtype='object')"
      ]
     },
     "execution_count": 29,
     "metadata": {},
     "output_type": "execute_result"
    }
   ],
   "source": [
    "penguins.columns"
   ]
  },
  {
   "cell_type": "markdown",
   "id": "2fe99349-3d64-4fc6-844a-623cbf914533",
   "metadata": {},
   "source": [
    "# Exploration Data Analytics (EDA)"
   ]
  },
  {
   "cell_type": "markdown",
   "id": "225b806e-0fcc-4b71-8c96-015bce192665",
   "metadata": {},
   "source": [
    "<h2>1. Which species has the heviest body mass in kg</h2>"
   ]
  },
  {
   "cell_type": "code",
   "execution_count": 30,
   "id": "9b59c877-f3b9-4663-9093-cfe88458cb2f",
   "metadata": {},
   "outputs": [
    {
     "data": {
      "text/plain": [
       "np.float64(3733.0882352941176)"
      ]
     },
     "execution_count": 30,
     "metadata": {},
     "output_type": "execute_result"
    }
   ],
   "source": [
    "Crinstrap_pd[\"body_mass_g\"].mean()"
   ]
  },
  {
   "cell_type": "code",
   "execution_count": 31,
   "id": "40865b46-528c-408e-9d00-809197efa2f5",
   "metadata": {},
   "outputs": [
    {
     "data": {
      "text/plain": [
       "np.float64(3700.662251655629)"
      ]
     },
     "execution_count": 31,
     "metadata": {},
     "output_type": "execute_result"
    }
   ],
   "source": [
    "Adelie_pd[\"body_mass_g\"].mean()"
   ]
  },
  {
   "cell_type": "code",
   "execution_count": 32,
   "id": "2ade6737-e22e-4b1c-92e1-74986b3a6d9d",
   "metadata": {},
   "outputs": [
    {
     "data": {
      "text/plain": [
       "np.float64(5076.016260162602)"
      ]
     },
     "execution_count": 32,
     "metadata": {},
     "output_type": "execute_result"
    }
   ],
   "source": [
    "Gentoo_pd[\"body_mass_g\"].mean()"
   ]
  },
  {
   "cell_type": "markdown",
   "id": "0ce4da8c-e6e6-4906-9738-01f8dc9d130a",
   "metadata": {},
   "source": [
    "<h1>Insight #1</h1>\n",
    "<h1>The heaviest species from the dataset is the GENTOO species</h1>"
   ]
  },
  {
   "cell_type": "markdown",
   "id": "2d533a76-62b5-4571-9f24-3a8eb9ed1cef",
   "metadata": {},
   "source": [
    "# 7 Questions activity"
   ]
  },
  {
   "cell_type": "markdown",
   "id": "e2e5f207-e53d-485f-b456-b78575dcd2eb",
   "metadata": {},
   "source": [
    "<hr>"
   ]
  },
  {
   "cell_type": "markdown",
   "id": "bc0ca9dc-ff28-409b-985e-2e8e70f46ebe",
   "metadata": {},
   "source": [
    "# 1 What species has the highest population?"
   ]
  },
  {
   "cell_type": "code",
   "execution_count": 33,
   "id": "ec64c70c-4478-4cec-9644-fc2820c635c3",
   "metadata": {},
   "outputs": [
    {
     "data": {
      "text/plain": [
       "species\n",
       "Adelie       152\n",
       "Gentoo       124\n",
       "Chinstrap     68\n",
       "Name: count, dtype: int64"
      ]
     },
     "execution_count": 33,
     "metadata": {},
     "output_type": "execute_result"
    }
   ],
   "source": [
    "penguins[\"species\"].value_counts()"
   ]
  },
  {
   "cell_type": "markdown",
   "id": "d20efd4b-e1dd-45bc-a6ea-2d3f1c3844dd",
   "metadata": {},
   "source": [
    "<h2>Results:</h2>\n",
    "<li>Adelie has the highest population in compared to the rest</li>\n",
    "<li>Chinstrap has the lowest population</li>\n",
    "<hr>"
   ]
  },
  {
   "cell_type": "markdown",
   "id": "74aec599-c2d4-411a-b5b5-0be20c6eda79",
   "metadata": {},
   "source": [
    "# 2 What species occurs more often in every island?"
   ]
  },
  {
   "cell_type": "markdown",
   "id": "cd82194a-0768-467d-a324-c1ff0ca263d2",
   "metadata": {},
   "source": [
    "<h2>The Adelia species in each island</h2>"
   ]
  },
  {
   "cell_type": "code",
   "execution_count": 34,
   "id": "9bb05712-1bb6-4f54-8973-3ca18ad80ba5",
   "metadata": {},
   "outputs": [
    {
     "data": {
      "text/plain": [
       "island\n",
       "Dream        56\n",
       "Torgersen    52\n",
       "Biscoe       44\n",
       "Name: count, dtype: int64"
      ]
     },
     "execution_count": 34,
     "metadata": {},
     "output_type": "execute_result"
    }
   ],
   "source": [
    "Adelie = penguins[penguins[\"species\"] == \"Adelie\"]\n",
    "Adelie[\"island\"].value_counts()"
   ]
  },
  {
   "cell_type": "markdown",
   "id": "bba9dbdf-ab06-44f8-aff7-21c5c242504c",
   "metadata": {},
   "source": [
    "<h2>The Chinstrap species in each island</h2>"
   ]
  },
  {
   "cell_type": "code",
   "execution_count": 35,
   "id": "40e794f8-3e09-4464-9bf5-f79043ed0799",
   "metadata": {},
   "outputs": [
    {
     "data": {
      "text/plain": [
       "island\n",
       "Dream        68\n",
       "Biscoe        0\n",
       "Torgersen     0\n",
       "Name: count, dtype: int64"
      ]
     },
     "execution_count": 35,
     "metadata": {},
     "output_type": "execute_result"
    }
   ],
   "source": [
    "Chinstrap = penguins[penguins[\"species\"] == \"Chinstrap\"]\n",
    "Chinstrap[\"island\"].value_counts()"
   ]
  },
  {
   "cell_type": "markdown",
   "id": "3b04a89e-ecc5-46d0-886f-676a546b5c86",
   "metadata": {},
   "source": [
    "<h2>The Gentoo species in each island</h2>"
   ]
  },
  {
   "cell_type": "code",
   "execution_count": 36,
   "id": "59dbff3c-e0fa-4500-b511-ea03b0e63121",
   "metadata": {},
   "outputs": [
    {
     "data": {
      "text/plain": [
       "island\n",
       "Biscoe       124\n",
       "Dream          0\n",
       "Torgersen      0\n",
       "Name: count, dtype: int64"
      ]
     },
     "execution_count": 36,
     "metadata": {},
     "output_type": "execute_result"
    }
   ],
   "source": [
    "Gentoo = penguins[penguins[\"species\"] == \"Gentoo\"]\n",
    "Gentoo[\"island\"].value_counts()"
   ]
  },
  {
   "cell_type": "markdown",
   "id": "4ad99b05-6ddc-41c0-903b-07c80128aa2e",
   "metadata": {},
   "source": [
    "<h2>Results:</h2>\n",
    "<li>Adelie has the highest population in Dream island</li>\n",
    "<li>Chinstrap has the highest population in Dream island since it is the only species there</li>\n",
    "<li>Gentoo has the highest population in Biscoe island since it is the only species there</li>\n",
    "<hr>"
   ]
  },
  {
   "cell_type": "markdown",
   "id": "1834c4c6-0827-4e23-8361-c27a898b95af",
   "metadata": {},
   "source": [
    "# 3 What island has the most Crinstrap?"
   ]
  },
  {
   "cell_type": "code",
   "execution_count": 37,
   "id": "a9dcfcba-8dc9-40b9-9433-849392134e9b",
   "metadata": {},
   "outputs": [
    {
     "data": {
      "text/plain": [
       "np.int64(344)"
      ]
     },
     "execution_count": 37,
     "metadata": {},
     "output_type": "execute_result"
    }
   ],
   "source": [
    "penguins[\"island\"].value_counts().sum()"
   ]
  },
  {
   "cell_type": "markdown",
   "id": "c10a9ec5-c5ad-45fc-99d1-5c3e71a84c7b",
   "metadata": {},
   "source": [
    "<h2>Chinstrap in Dream island</h2>"
   ]
  },
  {
   "cell_type": "code",
   "execution_count": 38,
   "id": "10dc39af-80fe-404d-95fe-1ea976348a60",
   "metadata": {},
   "outputs": [
    {
     "data": {
      "text/plain": [
       "species\n",
       "Chinstrap    68\n",
       "Adelie        0\n",
       "Gentoo        0\n",
       "Name: count, dtype: int64"
      ]
     },
     "execution_count": 38,
     "metadata": {},
     "output_type": "execute_result"
    }
   ],
   "source": [
    "Chinstrap_1 = penguins[penguins[\"species\"] == \"Chinstrap\"]\n",
    "common_Chinstrap_1 = Chinstrap_1[Chinstrap_1[\"island\"] == \"Dream\"]  \n",
    "common_Chinstrap_1[\"species\"].value_counts()"
   ]
  },
  {
   "cell_type": "markdown",
   "id": "7d435172-c53c-4f6a-a1e4-71ef16bdb364",
   "metadata": {},
   "source": [
    "<h2>Chinstrap in Torgersen island</h2>"
   ]
  },
  {
   "cell_type": "code",
   "execution_count": 39,
   "id": "e75e3d0c-7b58-4b4e-9746-42ae6dc2ac2b",
   "metadata": {},
   "outputs": [
    {
     "data": {
      "text/plain": [
       "species\n",
       "Adelie       0\n",
       "Chinstrap    0\n",
       "Gentoo       0\n",
       "Name: count, dtype: int64"
      ]
     },
     "execution_count": 39,
     "metadata": {},
     "output_type": "execute_result"
    }
   ],
   "source": [
    "Chinstrap_2 = penguins[penguins[\"species\"] == \"Chinstrap\"]\n",
    "common_Chinstrap_2 = Chinstrap_2[Chinstrap_2[\"island\"] == \"Torgersen\"]  \n",
    "common_Chinstrap_2[\"species\"].value_counts()"
   ]
  },
  {
   "cell_type": "markdown",
   "id": "e1c116d5-cbf0-4fde-a158-3256fe0b3fc8",
   "metadata": {},
   "source": [
    "<h2>Chinstrap in Biscoe island</h2>"
   ]
  },
  {
   "cell_type": "code",
   "execution_count": 40,
   "id": "a336cac9-5b30-4f03-b065-d28b61c49b80",
   "metadata": {},
   "outputs": [
    {
     "data": {
      "text/plain": [
       "species\n",
       "Adelie       0\n",
       "Chinstrap    0\n",
       "Gentoo       0\n",
       "Name: count, dtype: int64"
      ]
     },
     "execution_count": 40,
     "metadata": {},
     "output_type": "execute_result"
    }
   ],
   "source": [
    "Chinstrap_3 = penguins[penguins[\"species\"] == \"Chinstrap\"]\n",
    "common_Chinstrap_3 = Chinstrap_3[Chinstrap_3[\"island\"] == \"Biscoe\"]  \n",
    "common_Chinstrap_3[\"species\"].value_counts()"
   ]
  },
  {
   "cell_type": "markdown",
   "id": "7b30f55d-19c1-4bd0-833c-bc0b9054c5b4",
   "metadata": {},
   "source": [
    "<h3>Results:</h3>\n",
    "<li>We found out that there are no Chinstrap in Torgersen and Biscoe island</li>\n",
    "<li>We found out that Chinstrap is abundant in Dream island</li>\n",
    "<hr>"
   ]
  },
  {
   "cell_type": "markdown",
   "id": "844f5bfb-2ce0-46d3-8227-1840dcfd94d4",
   "metadata": {},
   "source": [
    "# 4 What is the average size of flippers for all the species?"
   ]
  },
  {
   "cell_type": "code",
   "execution_count": 41,
   "id": "540e2b68-e080-4988-937e-df36ee72359a",
   "metadata": {},
   "outputs": [
    {
     "name": "stdout",
     "output_type": "stream",
     "text": [
      "The average flipper size of the Chinstrap species 195.8\n",
      "The average flipper size of the Adelie species 190.0\n",
      "The average flipper size of the Gentoo species 217.1\n"
     ]
    }
   ],
   "source": [
    "Chinstrap = penguins[penguins[\"species\"] == \"Chinstrap\"][\"flipper_length_mm\"].mean()\n",
    "Adelie = penguins[penguins[\"species\"] == \"Adelie\"][\"flipper_length_mm\"].mean()\n",
    "Gentoo = penguins[penguins[\"species\"] == \"Gentoo\"][\"flipper_length_mm\"].mean()\n",
    "\n",
    "print(\"The average flipper size of the Chinstrap species\", round(Chinstrap,1))\n",
    "print(\"The average flipper size of the Adelie species\", round(Adelie,1))\n",
    "print(\"The average flipper size of the Gentoo species\", round(Gentoo,1))"
   ]
  },
  {
   "cell_type": "markdown",
   "id": "7ccffb55-6506-4e94-8436-c94b0cf912f4",
   "metadata": {},
   "source": [
    "<h2>Results:</h2>\n",
    "<li>The average size of flippers for each species range from 190 to 217 in lenght</li>\n",
    "<li>Gentoo has the largest average size compare to the other species</li>\n",
    "<li>Adelie has the smallest average size compared to the other species</li>\n",
    "<hr>"
   ]
  },
  {
   "cell_type": "markdown",
   "id": "c655a4b4-6cfc-48a2-ac2a-6eca92a4cf12",
   "metadata": {},
   "source": [
    "# 5 What island has the most occuring penguin with the weight over 4.5 Kg above?"
   ]
  },
  {
   "cell_type": "markdown",
   "id": "3b2051f3-3403-4159-9392-05b19840c050",
   "metadata": {},
   "source": [
    "<h2>The weight of penguins above 4.5 Kg in Dream island</h2>"
   ]
  },
  {
   "cell_type": "code",
   "execution_count": 42,
   "id": "65097eef-d8c6-40ea-b2bd-ddc8278e7bd1",
   "metadata": {},
   "outputs": [
    {
     "data": {
      "text/plain": [
       "island\n",
       "Dream        6\n",
       "Biscoe       0\n",
       "Torgersen    0\n",
       "Name: count, dtype: int64"
      ]
     },
     "execution_count": 42,
     "metadata": {},
     "output_type": "execute_result"
    }
   ],
   "source": [
    "dream_mass = penguins[(penguins[\"island\"] == \"Dream\") & (penguins[\"mass_kg\"] >= 4.5)]\n",
    "dream_mass[\"island\"].value_counts()"
   ]
  },
  {
   "cell_type": "markdown",
   "id": "53000a0f-4c92-4928-934f-5be7f2c30614",
   "metadata": {},
   "source": [
    "<h2>The weight of penguins above 4.5 Kg in Torgersen island</h2>"
   ]
  },
  {
   "cell_type": "code",
   "execution_count": 43,
   "id": "23c69781-0139-4aa8-b6b4-177cdfb55404",
   "metadata": {},
   "outputs": [
    {
     "data": {
      "text/plain": [
       "island\n",
       "Torgersen    3\n",
       "Biscoe       0\n",
       "Dream        0\n",
       "Name: count, dtype: int64"
      ]
     },
     "execution_count": 43,
     "metadata": {},
     "output_type": "execute_result"
    }
   ],
   "source": [
    "Torgersen_mass = penguins[(penguins[\"island\"] == \"Torgersen\") & (penguins[\"mass_kg\"] >= 4.5)]\n",
    "Torgersen_mass[\"island\"].value_counts()"
   ]
  },
  {
   "cell_type": "markdown",
   "id": "0db45d22-4626-4102-8f01-d02130e6ac09",
   "metadata": {},
   "source": [
    "<h2>The weight of penguins above 4.5 Kg in Biscoe island</h2>"
   ]
  },
  {
   "cell_type": "code",
   "execution_count": 44,
   "id": "c5e7766b-3c64-4c16-9e47-c5dbc0bc82e2",
   "metadata": {},
   "outputs": [
    {
     "data": {
      "text/plain": [
       "island\n",
       "Biscoe       110\n",
       "Dream          0\n",
       "Torgersen      0\n",
       "Name: count, dtype: int64"
      ]
     },
     "execution_count": 44,
     "metadata": {},
     "output_type": "execute_result"
    }
   ],
   "source": [
    "Biscoe_mass = penguins[(penguins[\"island\"] == \"Biscoe\") & (penguins[\"mass_kg\"] >= 4.5)]\n",
    "Biscoe_mass[\"island\"].value_counts()"
   ]
  },
  {
   "cell_type": "markdown",
   "id": "9eceac89-ff78-41af-a054-88185a47f531",
   "metadata": {},
   "source": [
    "<h2>Results:</h2>\n",
    "<li>Biscoe island has the most amount of penguins above 4.5 Kg</li>\n",
    "<li>Torgersen has the lowest among the other islands</li>\n",
    "<hr>"
   ]
  },
  {
   "cell_type": "markdown",
   "id": "2e5e3a87-9e6b-44f7-81f5-7a7353c24d92",
   "metadata": {},
   "source": [
    "# 6 how many penguins are there in dream island?"
   ]
  },
  {
   "cell_type": "code",
   "execution_count": 45,
   "id": "e2b2879c-60c7-4ce2-9101-9b56941b2446",
   "metadata": {},
   "outputs": [
    {
     "name": "stdout",
     "output_type": "stream",
     "text": [
      "species\n",
      "Chinstrap    68\n",
      "Adelie       56\n",
      "Gentoo        0\n",
      "Name: count, dtype: int64\n",
      "Total penguins in Dream island 124\n"
     ]
    }
   ],
   "source": [
    "dream_penguins = penguins[penguins[\"island\"] == \"Dream\"]\n",
    "species = dream_penguins[\"species\"].value_counts()\n",
    "total = species.sum()\n",
    "\n",
    "print(species)\n",
    "print(\"Total penguins in Dream island\", total)"
   ]
  },
  {
   "cell_type": "markdown",
   "id": "6200a454-da74-4855-9b80-75f9478ceac0",
   "metadata": {},
   "source": [
    "<h2>Results:</h2>\n",
    "<li>There are no Gentoo in Dream island</li>\n",
    "<li>There are a total of 124 penguins in Dream island</li>\n",
    "<hr>"
   ]
  },
  {
   "cell_type": "markdown",
   "id": "ceadc4c4-22ad-45d8-8734-82fb82d7858e",
   "metadata": {},
   "source": [
    "# 7 What is the most common sex on each island??"
   ]
  },
  {
   "cell_type": "markdown",
   "id": "e93fc281-972f-4e60-8632-95e9b4b95901",
   "metadata": {},
   "source": [
    "<h2>Number of males and females on Dream Island</h2>"
   ]
  },
  {
   "cell_type": "code",
   "execution_count": 46,
   "id": "0f2dc131-2038-417e-b9eb-16b09c697fed",
   "metadata": {},
   "outputs": [
    {
     "data": {
      "text/plain": [
       "sex\n",
       "male      63\n",
       "female    61\n",
       "Name: count, dtype: int64"
      ]
     },
     "execution_count": 46,
     "metadata": {},
     "output_type": "execute_result"
    }
   ],
   "source": [
    "dream_penguins = penguins[penguins[\"island\"] == \"Dream\"]\n",
    "dream_penguins[\"sex\"].value_counts()"
   ]
  },
  {
   "cell_type": "markdown",
   "id": "60c26d0d-78a4-476a-9270-58096f2145ba",
   "metadata": {},
   "source": [
    "<h2>Number of males and females on Torgersen Island</h2>"
   ]
  },
  {
   "cell_type": "code",
   "execution_count": 47,
   "id": "f18fc68d-86b9-40b5-b7fc-6e6377b3cd5a",
   "metadata": {},
   "outputs": [
    {
     "data": {
      "text/plain": [
       "sex\n",
       "male      28\n",
       "female    24\n",
       "Name: count, dtype: int64"
      ]
     },
     "execution_count": 47,
     "metadata": {},
     "output_type": "execute_result"
    }
   ],
   "source": [
    "dream_penguins = penguins[penguins[\"island\"] == \"Torgersen\"]\n",
    "dream_penguins[\"sex\"].value_counts()"
   ]
  },
  {
   "cell_type": "markdown",
   "id": "03be2fb0-c517-471d-b6a8-089ad4b3492d",
   "metadata": {},
   "source": [
    "<h2>Number of males and females on Biscoe Island</h2>"
   ]
  },
  {
   "cell_type": "code",
   "execution_count": 48,
   "id": "7f5a4c27-73a4-4d0e-9b54-87dac287e1be",
   "metadata": {},
   "outputs": [
    {
     "data": {
      "text/plain": [
       "sex\n",
       "male      88\n",
       "female    80\n",
       "Name: count, dtype: int64"
      ]
     },
     "execution_count": 48,
     "metadata": {},
     "output_type": "execute_result"
    }
   ],
   "source": [
    "dream_penguins = penguins[penguins[\"island\"] == \"Biscoe\"]\n",
    "dream_penguins[\"sex\"].value_counts()"
   ]
  },
  {
   "cell_type": "markdown",
   "id": "5bde3cd9-5a3c-488b-9f57-07ab9eed26c0",
   "metadata": {},
   "source": [
    "<h2>Results:</h2>\n",
    "<li>There are more male penguins in each islands</li>\n",
    "<li>Biscoe island has the highest male count compare to the onther islands</li>\n",
    "<li>Torgersen island has the lowest male count among the other islands</li>\n",
    "<hr>"
   ]
  },
  {
   "cell_type": "markdown",
   "id": "f6ae6470-99c8-4e81-800b-f08f73dd8de9",
   "metadata": {},
   "source": [
    "# DATA AGGREGATION\n"
   ]
  },
  {
   "cell_type": "markdown",
   "id": "eef9be82-3edf-4b0f-8751-a35547306009",
   "metadata": {},
   "source": [
    "<H1>Ilang species per island and nakatira?</H1>"
   ]
  },
  {
   "cell_type": "code",
   "execution_count": 49,
   "id": "7a8cd93b-a8f6-46f2-b593-b0a744f1a97e",
   "metadata": {},
   "outputs": [
    {
     "data": {
      "text/plain": [
       "species    island     sex   \n",
       "Adelie     Biscoe     female    22\n",
       "                      male      22\n",
       "           Dream      female    27\n",
       "                      male      29\n",
       "           Torgersen  female    24\n",
       "                      male      28\n",
       "Chinstrap  Biscoe     female     0\n",
       "                      male       0\n",
       "           Dream      female    34\n",
       "                      male      34\n",
       "           Torgersen  female     0\n",
       "                      male       0\n",
       "Gentoo     Biscoe     female    58\n",
       "                      male      66\n",
       "           Dream      female     0\n",
       "                      male       0\n",
       "           Torgersen  female     0\n",
       "                      male       0\n",
       "dtype: int64"
      ]
     },
     "execution_count": 49,
     "metadata": {},
     "output_type": "execute_result"
    }
   ],
   "source": [
    "PerIsland = penguins.groupby([\"species\", \"island\", \"sex\"]).size()\n",
    "PerIsland"
   ]
  },
  {
   "cell_type": "code",
   "execution_count": 50,
   "id": "521dbbb8-e12d-4538-b06f-65e5f8e91416",
   "metadata": {},
   "outputs": [
    {
     "data": {
      "text/plain": [
       "species  body_mass_g\n",
       "Adelie   2700.0         0\n",
       "         2850.0         2\n",
       "         2900.0         3\n",
       "         2925.0         1\n",
       "         2975.0         1\n",
       "                       ..\n",
       "Gentoo   5850.0         3\n",
       "         5950.0         2\n",
       "         6000.0         2\n",
       "         6050.0         1\n",
       "         6300.0         1\n",
       "Length: 285, dtype: int64"
      ]
     },
     "execution_count": 50,
     "metadata": {},
     "output_type": "execute_result"
    }
   ],
   "source": [
    "mass_species = penguins.groupby(['species', 'body_mass_g']).size()\n",
    "mass_species\n"
   ]
  },
  {
   "cell_type": "markdown",
   "id": "8e9f94ea-5917-4b71-bff0-c1f37a0ca6ab",
   "metadata": {},
   "source": [
    "# More questions"
   ]
  },
  {
   "cell_type": "markdown",
   "id": "62d864c9-12f6-42a9-a3fb-ade9a4558520",
   "metadata": {},
   "source": [
    "<h1>How manny female penguins are there in in each island</h1>"
   ]
  },
  {
   "cell_type": "markdown",
   "id": "a28b1e5f-d5f7-41ca-a33c-6aa7a46ea619",
   "metadata": {},
   "source": [
    "# TESTING CORRRELATION"
   ]
  },
  {
   "cell_type": "markdown",
   "id": "f63b7381-634a-4a0d-883b-173b5e43436e",
   "metadata": {},
   "source": [
    "<h1>Person R Correlation</h1>\n",
    "<hr>\n",
    "<p>Used for testing correlation between two <b>NUMEBRICAL VALUES</b></p>"
   ]
  },
  {
   "cell_type": "code",
   "execution_count": 51,
   "id": "16985d89-0211-491b-bc08-6e60bfa936b2",
   "metadata": {},
   "outputs": [
    {
     "data": {
      "text/plain": [
       "np.float64(0.8712017673060114)"
      ]
     },
     "execution_count": 51,
     "metadata": {},
     "output_type": "execute_result"
    }
   ],
   "source": [
    "weight_flipper_cor = penguins[\"body_mass_g\"].corr(penguins['flipper_length_mm'])\n",
    "weight_flipper_cor"
   ]
  },
  {
   "cell_type": "markdown",
   "id": "be71d7ec-65d0-4769-9c87-eb152d67d668",
   "metadata": {},
   "source": [
    "# NUMERICAL TO CATEGORICAL CORRELATION TEST"
   ]
  },
  {
   "cell_type": "markdown",
   "id": "9b118d87-c9df-4b15-b1fc-940371b0e068",
   "metadata": {},
   "source": [
    "<H1><b>Library -SciPy (Scientific Python)</b></H1>\n",
    "<hr>\n",
    "<h2>from scipy.stats import for oneway</h2>"
   ]
  },
  {
   "cell_type": "code",
   "execution_count": 52,
   "id": "e9d7cd08-febe-4370-ad92-b82f9cedb462",
   "metadata": {},
   "outputs": [],
   "source": [
    "from scipy.stats import f_oneway "
   ]
  },
  {
   "cell_type": "code",
   "execution_count": 53,
   "id": "426040b7-beea-4abd-b79e-e4e20c1a1ffb",
   "metadata": {},
   "outputs": [
    {
     "data": {
      "text/plain": [
       "0      3750.000000\n",
       "3      4201.754386\n",
       "5      3650.000000\n",
       "7      4675.000000\n",
       "8      3475.000000\n",
       "          ...     \n",
       "334    3800.000000\n",
       "336    3950.000000\n",
       "339    4000.000000\n",
       "341    3775.000000\n",
       "342    4100.000000\n",
       "Name: body_mass_g, Length: 179, dtype: float64"
      ]
     },
     "execution_count": 53,
     "metadata": {},
     "output_type": "execute_result"
    }
   ],
   "source": [
    "penguins[penguins['sex'] == 'male']['body_mass_g']\n",
    "# or use this"
   ]
  },
  {
   "cell_type": "code",
   "execution_count": 54,
   "id": "0f9b7cce-86fb-4684-82fa-0088f4d0eae9",
   "metadata": {},
   "outputs": [
    {
     "data": {
      "text/plain": [
       "0      3750.000000\n",
       "3      4201.754386\n",
       "5      3650.000000\n",
       "7      4675.000000\n",
       "8      3475.000000\n",
       "          ...     \n",
       "334    3800.000000\n",
       "336    3950.000000\n",
       "339    4000.000000\n",
       "341    3775.000000\n",
       "342    4100.000000\n",
       "Name: body_mass_g, Length: 179, dtype: float64"
      ]
     },
     "execution_count": 54,
     "metadata": {},
     "output_type": "execute_result"
    }
   ],
   "source": [
    "x_df = penguins[penguins['sex'] == 'male']\n",
    "x_df['body_mass_g']"
   ]
  },
  {
   "cell_type": "code",
   "execution_count": 55,
   "id": "89a78d0d-9a9a-4e43-accc-e6fbe188ff3e",
   "metadata": {},
   "outputs": [
    {
     "data": {
      "text/plain": [
       "F_onewayResult(statistic=np.float64(68.38476171974526), pvalue=np.float64(3.0226600487050246e-15))"
      ]
     },
     "execution_count": 55,
     "metadata": {},
     "output_type": "execute_result"
    }
   ],
   "source": [
    "f_oneway(penguins[penguins['sex'] == 'male']['body_mass_g'],penguins[penguins['sex'] == 'female']['body_mass_g'])"
   ]
  },
  {
   "cell_type": "code",
   "execution_count": 56,
   "id": "ea9d8478-8e99-4863-b7f8-c187580262f3",
   "metadata": {},
   "outputs": [
    {
     "data": {
      "text/plain": [
       "np.float64(3.0226600487050246e-15)"
      ]
     },
     "execution_count": 56,
     "metadata": {},
     "output_type": "execute_result"
    }
   ],
   "source": [
    "result, pvalue = f_oneway(penguins[penguins['sex'] == 'male']['body_mass_g'],penguins[penguins['sex'] == 'female']['body_mass_g'])\n",
    "pvalue"
   ]
  },
  {
   "cell_type": "code",
   "execution_count": 57,
   "id": "74f5d161-8df6-4316-8cd8-920eae3205e1",
   "metadata": {},
   "outputs": [
    {
     "data": {
      "text/plain": [
       "F_onewayResult(statistic=np.float64(338.57291007822204), pvalue=np.float64(1.0069770504490732e-81))"
      ]
     },
     "execution_count": 57,
     "metadata": {},
     "output_type": "execute_result"
    }
   ],
   "source": [
    "f_oneway(penguins[penguins['species'] == 'Adelie']['body_mass_g'],\n",
    "         penguins[penguins['species'] == 'Chinstrap']['body_mass_g'],\n",
    "         penguins[penguins['species'] == 'Gentoo']['body_mass_g'])"
   ]
  },
  {
   "cell_type": "markdown",
   "id": "91000f7d-937f-477e-8ea2-b2f73ccedd51",
   "metadata": {},
   "source": [
    "<h1>12 Insights</h1>"
   ]
  },
  {
   "cell_type": "markdown",
   "id": "30f5ef31-2ca4-4090-aee3-e4ac375c1e9d",
   "metadata": {},
   "source": [
    "<hr>\n",
    "<h1>1. Is there a correlation between species and their body mass?</h1>"
   ]
  },
  {
   "cell_type": "code",
   "execution_count": 58,
   "id": "770ea4e6-1721-404a-bd44-8cdbf1e15ead",
   "metadata": {},
   "outputs": [
    {
     "data": {
      "text/plain": [
       "np.float64(1.0069770504490732e-81)"
      ]
     },
     "execution_count": 58,
     "metadata": {},
     "output_type": "execute_result"
    }
   ],
   "source": [
    "f_oneway(penguins[penguins['species'] == 'Adelie']['body_mass_g'],\n",
    "                         penguins[penguins['species'] == 'Chinstrap']['body_mass_g'],\n",
    "                        penguins[penguins['species'] == 'Gentoo']['body_mass_g']).pvalue"
   ]
  },
  {
   "cell_type": "markdown",
   "id": "07743b5a-de3e-4b5a-b84b-65cb98d4b187",
   "metadata": {},
   "source": [
    "<h1>Insights:</h1>\n",
    "<li>There is a correlation between species and body mass</li>"
   ]
  },
  {
   "cell_type": "markdown",
   "id": "38493dec-d9b1-4765-a06a-2f255a02ea0d",
   "metadata": {},
   "source": [
    "<hr>\n",
    "<h1>2. Is there a correlation between their Island and flipper length?</h1>"
   ]
  },
  {
   "cell_type": "code",
   "execution_count": 59,
   "id": "9ea51dac-963c-4fa2-997b-7c0b82016f8c",
   "metadata": {},
   "outputs": [
    {
     "data": {
      "text/plain": [
       "np.float64(2.388459860537622e-35)"
      ]
     },
     "execution_count": 59,
     "metadata": {},
     "output_type": "execute_result"
    }
   ],
   "source": [
    "f_oneway(penguins[penguins['island'] == \"Torgersen\"]['flipper_length_mm'],\n",
    "        penguins[penguins['island'] == \"Dream\"]['flipper_length_mm'],\n",
    "        penguins[penguins['island'] == \"Biscoe\"]['flipper_length_mm']).pvalue"
   ]
  },
  {
   "cell_type": "markdown",
   "id": "c522e76a-5dd6-42cb-85b6-54c46f653146",
   "metadata": {},
   "source": [
    "<h1>Insights:</h1>\n",
    "<li> There is a correlation between where they live to there flipper lenght</li>"
   ]
  },
  {
   "cell_type": "markdown",
   "id": "ad4c2c11-3186-4ac0-9ba8-2acdb8f5c9f3",
   "metadata": {},
   "source": [
    "<hr>\n",
    "<h1>3. Is there a significant difference in bill length between penguins on Biscoe Island with body mass greater than or equal to the island’s average and those below it?</h1>"
   ]
  },
  {
   "cell_type": "code",
   "execution_count": 60,
   "id": "777f83df-e37a-40b6-bc26-492ca51dc6b6",
   "metadata": {},
   "outputs": [
    {
     "data": {
      "text/plain": [
       "np.float64(4.71489313561682)"
      ]
     },
     "execution_count": 60,
     "metadata": {},
     "output_type": "execute_result"
    }
   ],
   "source": [
    "Biscoe_body_mass_ave = penguins[penguins['island'] == 'Biscoe']['mass_kg'].mean()\n",
    "Biscoe_body_mass_ave"
   ]
  },
  {
   "cell_type": "code",
   "execution_count": 73,
   "id": "a23c52ce-2672-461f-8e5d-fde61c1861cf",
   "metadata": {},
   "outputs": [
    {
     "data": {
      "text/plain": [
       "np.float64(6.406911210966658e-26)"
      ]
     },
     "execution_count": 73,
     "metadata": {},
     "output_type": "execute_result"
    }
   ],
   "source": [
    "greater_average_penguins = penguins[(penguins['island'] == 'Biscoe') & (penguins['mass_kg'] >= Biscoe_body_mass_ave)]['bill_length_mm']\n",
    "\n",
    "below_average_penguins = penguins[(penguins['island'] == 'Biscoe') & (penguins['mass_kg'] <= Biscoe_body_mass_ave)]['bill_length_mm']\n",
    "\n",
    "result = f_oneway(greater_average_penguins, below_average_penguins).pvalue\n",
    "\n",
    "result"
   ]
  },
  {
   "cell_type": "markdown",
   "id": "6e685076-b7c9-40a4-9c8c-e40c6d045f6e",
   "metadata": {},
   "source": [
    "<h1>Insights:</h1>\n",
    "<li>There is a significant difference between body mass and bill length among penguins in Biscoe island </li>\n",
    "<hr>"
   ]
  },
  {
   "cell_type": "markdown",
   "id": "6283514a-ebb0-4c04-a2a0-82e40907b18b",
   "metadata": {},
   "source": [
    "# 4. Is there a relation between Islands and the average weight of penguins?"
   ]
  },
  {
   "cell_type": "code",
   "execution_count": 88,
   "id": "f9d8803c-20c8-450d-a867-5862984d1089",
   "metadata": {},
   "outputs": [
    {
     "data": {
      "text/plain": [
       "np.float64(1.1793733329967104e-37)"
      ]
     },
     "execution_count": 88,
     "metadata": {},
     "output_type": "execute_result"
    }
   ],
   "source": [
    "Biscoe_body_mass_ave = penguins[penguins['island'] == 'Biscoe']['mass_kg']\n",
    "Torgersen_body_mass_ave = penguins[penguins['island'] == 'Torgersen']['mass_kg']\n",
    "Dream_body_mass_ave = penguins[penguins['island'] == 'Dream']['mass_kg']\n",
    "\n",
    "result_islands = f_oneway(Biscoe_body_mass_ave , Torgersen_body_mass_ave , Dream_body_mass_ave).pvalue\n",
    "result_islands"
   ]
  },
  {
   "cell_type": "markdown",
   "id": "04b151b8-a941-40df-bf87-ee67c28c2017",
   "metadata": {},
   "source": [
    "<h1>Insights:</h1>\n",
    "<li>The result shows that there is a relation between the average weight of various penguins from different islands</li>\n",
    "<hr>"
   ]
  },
  {
   "cell_type": "markdown",
   "id": "47da21aa-305c-476b-8bfd-2e25fd198e0f",
   "metadata": {},
   "source": [
    "# 5. Is there a relation between Species and the average weight of penguins?"
   ]
  },
  {
   "cell_type": "code",
   "execution_count": 87,
   "id": "9df7a3ba-8734-42d2-b70a-5c765c907172",
   "metadata": {},
   "outputs": [
    {
     "data": {
      "text/plain": [
       "np.float64(2.443218973028842e-81)"
      ]
     },
     "execution_count": 87,
     "metadata": {},
     "output_type": "execute_result"
    }
   ],
   "source": [
    "Adelie_body_mass_ave = penguins[penguins['species'] == 'Adelie']['mass_kg']\n",
    "Chinstrap_body_mass_ave = penguins[penguins['species'] == 'Chinstrap']['mass_kg']\n",
    "Gentoo_body_mass_ave = penguins[penguins['species'] == 'Gentoo']['mass_kg']\n",
    "\n",
    "result_species = f_oneway(Adelie_body_mass_ave , Chinstrap_body_mass_ave , Gentoo_body_mass_ave).pvalue\n",
    "result_species"
   ]
  },
  {
   "cell_type": "markdown",
   "id": "ccf4fbc2-5e65-4db5-8668-900b6d9c33bc",
   "metadata": {},
   "source": [
    "<h1>Insights:</h1>\n",
    "<li>The result shows that there is a relation between the average weight of various penguins from different species</li>\n",
    "<hr>"
   ]
  },
  {
   "cell_type": "markdown",
   "id": "aae19a8f-90f4-4b29-ae0a-ac90a7fd648b",
   "metadata": {},
   "source": [
    "# 6. Has the the average flipper length of the penguins changed from 2007, 2008 and 2009 the years?"
   ]
  },
  {
   "cell_type": "code",
   "execution_count": 100,
   "id": "1567517a-6591-4a37-969f-e9206ac361d7",
   "metadata": {},
   "outputs": [
    {
     "data": {
      "text/plain": [
       "np.float64(0.0012761391137243161)"
      ]
     },
     "execution_count": 100,
     "metadata": {},
     "output_type": "execute_result"
    }
   ],
   "source": [
    "mass_ave_2007 = penguins[penguins['year'] == 2007]['flipper_length_mm']\n",
    "mass_ave_2008 = penguins[penguins['year'] == 2008]['flipper_length_mm']\n",
    "mass_ave_2009 = penguins[penguins['year'] == 2009]['flipper_length_mm']\n",
    "\n",
    "flipper_result = f_oneway(mass_ave_2007 , mass_ave_2008 , mass_ave_2009).pvalue\n",
    "flipper_result"
   ]
  },
  {
   "cell_type": "markdown",
   "id": "9b457042-35de-489f-a14a-b2eba6241aa8",
   "metadata": {},
   "source": [
    "<h1>Insights:</h1>\n",
    "<li>There is no significant change over the years from the size of their flipper length</li>\n",
    "<hr>"
   ]
  },
  {
   "cell_type": "markdown",
   "id": "18ad3766-ace8-4eb2-9c7c-48e090daf902",
   "metadata": {},
   "source": [
    "# 7. Do male and female penguins differ significantly from their bill depth? "
   ]
  },
  {
   "cell_type": "code",
   "execution_count": 101,
   "id": "70b49ff2-12e1-4e91-a8e2-2b93b33d7e56",
   "metadata": {},
   "outputs": [
    {
     "data": {
      "text/plain": [
       "np.float64(1.2906481751545917e-11)"
      ]
     },
     "execution_count": 101,
     "metadata": {},
     "output_type": "execute_result"
    }
   ],
   "source": [
    "male_bill_depth = penguins[penguins['sex'] == \"male\"]['bill_depth_mm']\n",
    "female_bill_depth = penguins[penguins['sex'] == \"female\"]['bill_depth_mm']\n",
    "\n",
    "sex_result = f_oneway(male_bill_depth, female_bill_depth).pvalue\n",
    "sex_result"
   ]
  },
  {
   "cell_type": "markdown",
   "id": "ae608799-49a3-4116-9a44-75ee29581382",
   "metadata": {},
   "source": [
    "<h1>Insights:</h1>\n",
    "<li>There is a significant change from male and female penguins when it comes with there sex</li>\n",
    "<hr>"
   ]
  },
  {
   "cell_type": "markdown",
   "id": "a9eb1905-5689-48ed-b408-1765396ad3d1",
   "metadata": {},
   "source": [
    "# 8. Do male penguins from the year 2007 differ significantly from the year 2009 in body mass? "
   ]
  },
  {
   "cell_type": "code",
   "execution_count": 116,
   "id": "c28d0538-a936-409c-829a-400f5478c848",
   "metadata": {},
   "outputs": [
    {
     "data": {
      "text/plain": [
       "np.float64(0.3711930759025889)"
      ]
     },
     "execution_count": 116,
     "metadata": {},
     "output_type": "execute_result"
    }
   ],
   "source": [
    "male_penguins_2007 = penguins[(penguins['sex'] == \"male\") & (penguins['year'] == 2007)]['mass_kg']\n",
    "male_penguins_2009 = penguins[(penguins['sex'] == \"male\") & (penguins['year'] == 2009)]['mass_kg']\n",
    "\n",
    "result = f_oneway(male_penguins_2007, male_penguins_2009).pvalue\n",
    "result"
   ]
  },
  {
   "cell_type": "markdown",
   "id": "ddcc23fc-f79c-466c-a01f-8059c0786955",
   "metadata": {},
   "source": [
    "<h1>Insights:</h1>\n",
    "<li>There was a significant change from male penguins in the year 2007 and 2009 when it comes with their body mass</li>\n",
    "<hr>"
   ]
  },
  {
   "cell_type": "markdown",
   "id": "5c60a881-89f4-4ed9-83ab-04ffb2e408be",
   "metadata": {},
   "source": [
    "# 9. Does male penguins bill length and flipper length correlate to one another?"
   ]
  },
  {
   "cell_type": "code",
   "execution_count": 120,
   "id": "01dc3ad3-87cf-4e46-b37f-c6680ecf08b3",
   "metadata": {},
   "outputs": [
    {
     "data": {
      "text/plain": [
       "np.float64(0.6711843498471304)"
      ]
     },
     "execution_count": 120,
     "metadata": {},
     "output_type": "execute_result"
    }
   ],
   "source": [
    "male_penguins = penguins[penguins['sex'] == 'male']\n",
    "\n",
    "male_result = male_penguins[\"bill_length_mm\"].corr(male_penguins['flipper_length_mm'])\n",
    "male_result"
   ]
  },
  {
   "cell_type": "markdown",
   "id": "d403e7ef-2071-4075-b3be-f17552d60765",
   "metadata": {},
   "source": [
    "<h1>Insights:</h1>\n",
    "<li>Bill length and flipper lenght do correlate to one another when it comes to male penguins</li>\n",
    "<hr>"
   ]
  },
  {
   "cell_type": "markdown",
   "id": "08ef4c95-1a33-41a0-bf6a-62df047cba8d",
   "metadata": {},
   "source": [
    "# 10. Does female penguins bill length and flipper length correlate to one another?"
   ]
  },
  {
   "cell_type": "code",
   "execution_count": 121,
   "id": "acbfd823-b6f8-4ec0-9e1a-1c7811d38863",
   "metadata": {},
   "outputs": [
    {
     "data": {
      "text/plain": [
       "np.float64(0.5714736752416979)"
      ]
     },
     "execution_count": 121,
     "metadata": {},
     "output_type": "execute_result"
    }
   ],
   "source": [
    "female_penguins = penguins[penguins['sex'] == 'female']\n",
    "\n",
    "female_result = female_penguins[\"bill_length_mm\"].corr(female_penguins['flipper_length_mm'])\n",
    "female_result"
   ]
  },
  {
   "cell_type": "markdown",
   "id": "ef89273f-ce2c-4de6-b1f1-ba0f7334f039",
   "metadata": {},
   "source": [
    "<h1>Insights:</h1>\n",
    "<li>Bill length and flipper lenght do correlate to one another when it comes to female penguins</li>\n",
    "<hr>"
   ]
  },
  {
   "cell_type": "markdown",
   "id": "40385ff6-1975-4f57-886d-581695c34fd8",
   "metadata": {},
   "source": [
    "# 11. Do female and male penguins differ to one another when it comes to their bill length and flipper length?"
   ]
  },
  {
   "cell_type": "code",
   "execution_count": 133,
   "id": "504c508e-795f-4fab-b1fc-e1fe13b10d89",
   "metadata": {},
   "outputs": [
    {
     "data": {
      "text/plain": [
       "np.float64(9.307501289283404e-10)"
      ]
     },
     "execution_count": 133,
     "metadata": {},
     "output_type": "execute_result"
    }
   ],
   "source": [
    "\n",
    "male_bill = male_penguins['bill_length_mm']\n",
    "female_bill = female_penguins['bill_length_mm']\n",
    "\n",
    "final_result = f_oneway(male_bill, female_bill).pvalue\n",
    "final_result"
   ]
  },
  {
   "cell_type": "code",
   "execution_count": 134,
   "id": "f5e5e335-4885-4d95-933e-ef32a60f76cf",
   "metadata": {},
   "outputs": [
    {
     "data": {
      "text/plain": [
       "np.float64(4.88065474065626e-06)"
      ]
     },
     "execution_count": 134,
     "metadata": {},
     "output_type": "execute_result"
    }
   ],
   "source": [
    "male_flipper = male_penguins['flipper_length_mm']\n",
    "female_flipper = female_penguins['flipper_length_mm']\n",
    "\n",
    "final_result = f_oneway(male_flipper, female_flipper).pvalue\n",
    "final_result"
   ]
  },
  {
   "cell_type": "markdown",
   "id": "40bdb50b-79fc-4abe-ab87-b9b5b64b2657",
   "metadata": {},
   "source": [
    "<h1>Insights:</h1>\n",
    "<li>The results shows that there is a significant difference between their flipper length and bill length from male and female </li>\n",
    "<hr>"
   ]
  },
  {
   "cell_type": "markdown",
   "id": "91bb828a-b290-44ad-a072-9a6933a45b2f",
   "metadata": {},
   "source": [
    "# 12. Does the body mass and bill depth correlate to one another?"
   ]
  },
  {
   "cell_type": "code",
   "execution_count": 140,
   "id": "94893715-1a9a-43cb-878a-481e7488f709",
   "metadata": {},
   "outputs": [
    {
     "data": {
      "text/plain": [
       "np.float64(-0.47191562118606645)"
      ]
     },
     "execution_count": 140,
     "metadata": {},
     "output_type": "execute_result"
    }
   ],
   "source": [
    "\n",
    "result = penguins[\"body_mass_g\"].corr(penguins['bill_depth_mm'])\n",
    "result"
   ]
  },
  {
   "cell_type": "markdown",
   "id": "2dc06822-586f-4399-8aa0-00a6a9ab972d",
   "metadata": {},
   "source": [
    "<h1>Insights:</h1>\n",
    "<li>It seems like their are penguins with a huge body mass but they have small bills </li>\n",
    "<hr>"
   ]
  },
  {
   "cell_type": "code",
   "execution_count": 92,
   "id": "d6a343b4-ea87-4eab-9b87-7fc2200c5317",
   "metadata": {},
   "outputs": [
    {
     "data": {
      "text/html": [
       "<div>\n",
       "<style scoped>\n",
       "    .dataframe tbody tr th:only-of-type {\n",
       "        vertical-align: middle;\n",
       "    }\n",
       "\n",
       "    .dataframe tbody tr th {\n",
       "        vertical-align: top;\n",
       "    }\n",
       "\n",
       "    .dataframe thead th {\n",
       "        text-align: right;\n",
       "    }\n",
       "</style>\n",
       "<table border=\"1\" class=\"dataframe\">\n",
       "  <thead>\n",
       "    <tr style=\"text-align: right;\">\n",
       "      <th></th>\n",
       "      <th>species</th>\n",
       "      <th>island</th>\n",
       "      <th>bill_length_mm</th>\n",
       "      <th>bill_depth_mm</th>\n",
       "      <th>flipper_length_mm</th>\n",
       "      <th>body_mass_g</th>\n",
       "      <th>sex</th>\n",
       "      <th>year</th>\n",
       "      <th>mass_kg</th>\n",
       "    </tr>\n",
       "  </thead>\n",
       "  <tbody>\n",
       "    <tr>\n",
       "      <th>0</th>\n",
       "      <td>Adelie</td>\n",
       "      <td>Torgersen</td>\n",
       "      <td>39.10000</td>\n",
       "      <td>18.70000</td>\n",
       "      <td>181.000000</td>\n",
       "      <td>3750.000000</td>\n",
       "      <td>male</td>\n",
       "      <td>2007</td>\n",
       "      <td>3.800000</td>\n",
       "    </tr>\n",
       "    <tr>\n",
       "      <th>1</th>\n",
       "      <td>Adelie</td>\n",
       "      <td>Torgersen</td>\n",
       "      <td>39.50000</td>\n",
       "      <td>17.40000</td>\n",
       "      <td>186.000000</td>\n",
       "      <td>3800.000000</td>\n",
       "      <td>female</td>\n",
       "      <td>2007</td>\n",
       "      <td>3.800000</td>\n",
       "    </tr>\n",
       "    <tr>\n",
       "      <th>2</th>\n",
       "      <td>Adelie</td>\n",
       "      <td>Torgersen</td>\n",
       "      <td>40.30000</td>\n",
       "      <td>18.00000</td>\n",
       "      <td>195.000000</td>\n",
       "      <td>3250.000000</td>\n",
       "      <td>female</td>\n",
       "      <td>2007</td>\n",
       "      <td>3.200000</td>\n",
       "    </tr>\n",
       "    <tr>\n",
       "      <th>3</th>\n",
       "      <td>Adelie</td>\n",
       "      <td>Torgersen</td>\n",
       "      <td>43.92193</td>\n",
       "      <td>17.15117</td>\n",
       "      <td>200.915205</td>\n",
       "      <td>4201.754386</td>\n",
       "      <td>male</td>\n",
       "      <td>2007</td>\n",
       "      <td>4.202047</td>\n",
       "    </tr>\n",
       "    <tr>\n",
       "      <th>4</th>\n",
       "      <td>Adelie</td>\n",
       "      <td>Torgersen</td>\n",
       "      <td>36.70000</td>\n",
       "      <td>19.30000</td>\n",
       "      <td>193.000000</td>\n",
       "      <td>3450.000000</td>\n",
       "      <td>female</td>\n",
       "      <td>2007</td>\n",
       "      <td>3.400000</td>\n",
       "    </tr>\n",
       "    <tr>\n",
       "      <th>...</th>\n",
       "      <td>...</td>\n",
       "      <td>...</td>\n",
       "      <td>...</td>\n",
       "      <td>...</td>\n",
       "      <td>...</td>\n",
       "      <td>...</td>\n",
       "      <td>...</td>\n",
       "      <td>...</td>\n",
       "      <td>...</td>\n",
       "    </tr>\n",
       "    <tr>\n",
       "      <th>339</th>\n",
       "      <td>Chinstrap</td>\n",
       "      <td>Dream</td>\n",
       "      <td>55.80000</td>\n",
       "      <td>19.80000</td>\n",
       "      <td>207.000000</td>\n",
       "      <td>4000.000000</td>\n",
       "      <td>male</td>\n",
       "      <td>2009</td>\n",
       "      <td>4.000000</td>\n",
       "    </tr>\n",
       "    <tr>\n",
       "      <th>340</th>\n",
       "      <td>Chinstrap</td>\n",
       "      <td>Dream</td>\n",
       "      <td>43.50000</td>\n",
       "      <td>18.10000</td>\n",
       "      <td>202.000000</td>\n",
       "      <td>3400.000000</td>\n",
       "      <td>female</td>\n",
       "      <td>2009</td>\n",
       "      <td>3.400000</td>\n",
       "    </tr>\n",
       "    <tr>\n",
       "      <th>341</th>\n",
       "      <td>Chinstrap</td>\n",
       "      <td>Dream</td>\n",
       "      <td>49.60000</td>\n",
       "      <td>18.20000</td>\n",
       "      <td>193.000000</td>\n",
       "      <td>3775.000000</td>\n",
       "      <td>male</td>\n",
       "      <td>2009</td>\n",
       "      <td>3.800000</td>\n",
       "    </tr>\n",
       "    <tr>\n",
       "      <th>342</th>\n",
       "      <td>Chinstrap</td>\n",
       "      <td>Dream</td>\n",
       "      <td>50.80000</td>\n",
       "      <td>19.00000</td>\n",
       "      <td>210.000000</td>\n",
       "      <td>4100.000000</td>\n",
       "      <td>male</td>\n",
       "      <td>2009</td>\n",
       "      <td>4.100000</td>\n",
       "    </tr>\n",
       "    <tr>\n",
       "      <th>343</th>\n",
       "      <td>Chinstrap</td>\n",
       "      <td>Dream</td>\n",
       "      <td>50.20000</td>\n",
       "      <td>18.70000</td>\n",
       "      <td>198.000000</td>\n",
       "      <td>3775.000000</td>\n",
       "      <td>female</td>\n",
       "      <td>2009</td>\n",
       "      <td>3.800000</td>\n",
       "    </tr>\n",
       "  </tbody>\n",
       "</table>\n",
       "<p>344 rows × 9 columns</p>\n",
       "</div>"
      ],
      "text/plain": [
       "       species     island  bill_length_mm  bill_depth_mm  flipper_length_mm  \\\n",
       "0       Adelie  Torgersen        39.10000       18.70000         181.000000   \n",
       "1       Adelie  Torgersen        39.50000       17.40000         186.000000   \n",
       "2       Adelie  Torgersen        40.30000       18.00000         195.000000   \n",
       "3       Adelie  Torgersen        43.92193       17.15117         200.915205   \n",
       "4       Adelie  Torgersen        36.70000       19.30000         193.000000   \n",
       "..         ...        ...             ...            ...                ...   \n",
       "339  Chinstrap      Dream        55.80000       19.80000         207.000000   \n",
       "340  Chinstrap      Dream        43.50000       18.10000         202.000000   \n",
       "341  Chinstrap      Dream        49.60000       18.20000         193.000000   \n",
       "342  Chinstrap      Dream        50.80000       19.00000         210.000000   \n",
       "343  Chinstrap      Dream        50.20000       18.70000         198.000000   \n",
       "\n",
       "     body_mass_g     sex  year   mass_kg  \n",
       "0    3750.000000    male  2007  3.800000  \n",
       "1    3800.000000  female  2007  3.800000  \n",
       "2    3250.000000  female  2007  3.200000  \n",
       "3    4201.754386    male  2007  4.202047  \n",
       "4    3450.000000  female  2007  3.400000  \n",
       "..           ...     ...   ...       ...  \n",
       "339  4000.000000    male  2009  4.000000  \n",
       "340  3400.000000  female  2009  3.400000  \n",
       "341  3775.000000    male  2009  3.800000  \n",
       "342  4100.000000    male  2009  4.100000  \n",
       "343  3775.000000  female  2009  3.800000  \n",
       "\n",
       "[344 rows x 9 columns]"
      ]
     },
     "execution_count": 92,
     "metadata": {},
     "output_type": "execute_result"
    }
   ],
   "source": [
    "penguins"
   ]
  }
 ],
 "metadata": {
  "kernelspec": {
   "display_name": "Python 3 (ipykernel)",
   "language": "python",
   "name": "python3"
  },
  "language_info": {
   "codemirror_mode": {
    "name": "ipython",
    "version": 3
   },
   "file_extension": ".py",
   "mimetype": "text/x-python",
   "name": "python",
   "nbconvert_exporter": "python",
   "pygments_lexer": "ipython3",
   "version": "3.11.5"
  }
 },
 "nbformat": 4,
 "nbformat_minor": 5
}
