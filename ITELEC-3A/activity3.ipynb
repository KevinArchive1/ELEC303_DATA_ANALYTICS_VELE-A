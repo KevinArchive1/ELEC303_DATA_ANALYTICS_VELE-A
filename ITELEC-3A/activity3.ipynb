{
 "cells": [
  {
   "cell_type": "code",
   "execution_count": 1,
   "id": "27c19cac-36a8-4d86-9169-0aa9c49c5f1d",
   "metadata": {},
   "outputs": [],
   "source": [
    "import numpy as np\n",
    "import pandas as pd\n",
    "import matplotlib.pyplot as plt\n",
    "import seaborn as sns\n",
    "import warnings\n",
    "warnings.filterwarnings(\"ignore\")"
   ]
  },
  {
   "cell_type": "code",
   "execution_count": 2,
   "id": "996a3e01-c992-4e03-b0a4-561b701f2184",
   "metadata": {},
   "outputs": [
    {
     "data": {
      "text/html": [
       "<div>\n",
       "<style scoped>\n",
       "    .dataframe tbody tr th:only-of-type {\n",
       "        vertical-align: middle;\n",
       "    }\n",
       "\n",
       "    .dataframe tbody tr th {\n",
       "        vertical-align: top;\n",
       "    }\n",
       "\n",
       "    .dataframe thead th {\n",
       "        text-align: right;\n",
       "    }\n",
       "</style>\n",
       "<table border=\"1\" class=\"dataframe\">\n",
       "  <thead>\n",
       "    <tr style=\"text-align: right;\">\n",
       "      <th></th>\n",
       "      <th>Index</th>\n",
       "      <th>Accident_Severity</th>\n",
       "      <th>Accident Date</th>\n",
       "      <th>Latitude</th>\n",
       "      <th>Light_Conditions</th>\n",
       "      <th>District Area</th>\n",
       "      <th>Longitude</th>\n",
       "      <th>Number_of_Casualties</th>\n",
       "      <th>Number_of_Vehicles</th>\n",
       "      <th>Road_Surface_Conditions</th>\n",
       "      <th>Road_Type</th>\n",
       "      <th>Urban_or_Rural_Area</th>\n",
       "      <th>Weather_Conditions</th>\n",
       "      <th>Vehicle_Type</th>\n",
       "    </tr>\n",
       "  </thead>\n",
       "  <tbody>\n",
       "    <tr>\n",
       "      <th>0</th>\n",
       "      <td>200701BS64157</td>\n",
       "      <td>Serious</td>\n",
       "      <td>5/6/2019</td>\n",
       "      <td>51.506187</td>\n",
       "      <td>Darkness - lights lit</td>\n",
       "      <td>Kensington and Chelsea</td>\n",
       "      <td>-0.209082</td>\n",
       "      <td>1</td>\n",
       "      <td>2</td>\n",
       "      <td>Dry</td>\n",
       "      <td>Single carriageway</td>\n",
       "      <td>Urban</td>\n",
       "      <td>Fine no high winds</td>\n",
       "      <td>Car</td>\n",
       "    </tr>\n",
       "    <tr>\n",
       "      <th>1</th>\n",
       "      <td>200701BS65737</td>\n",
       "      <td>Serious</td>\n",
       "      <td>2/7/2019</td>\n",
       "      <td>51.495029</td>\n",
       "      <td>Daylight</td>\n",
       "      <td>Kensington and Chelsea</td>\n",
       "      <td>-0.173647</td>\n",
       "      <td>1</td>\n",
       "      <td>2</td>\n",
       "      <td>Wet or damp</td>\n",
       "      <td>Single carriageway</td>\n",
       "      <td>Urban</td>\n",
       "      <td>Raining no high winds</td>\n",
       "      <td>Car</td>\n",
       "    </tr>\n",
       "    <tr>\n",
       "      <th>2</th>\n",
       "      <td>200701BS66127</td>\n",
       "      <td>Serious</td>\n",
       "      <td>26-08-2019</td>\n",
       "      <td>51.517715</td>\n",
       "      <td>Darkness - lighting unknown</td>\n",
       "      <td>Kensington and Chelsea</td>\n",
       "      <td>-0.210215</td>\n",
       "      <td>1</td>\n",
       "      <td>3</td>\n",
       "      <td>Dry</td>\n",
       "      <td>NaN</td>\n",
       "      <td>Urban</td>\n",
       "      <td>NaN</td>\n",
       "      <td>Taxi/Private hire car</td>\n",
       "    </tr>\n",
       "    <tr>\n",
       "      <th>3</th>\n",
       "      <td>200701BS66128</td>\n",
       "      <td>Serious</td>\n",
       "      <td>16-08-2019</td>\n",
       "      <td>51.495478</td>\n",
       "      <td>Daylight</td>\n",
       "      <td>Kensington and Chelsea</td>\n",
       "      <td>-0.202731</td>\n",
       "      <td>1</td>\n",
       "      <td>4</td>\n",
       "      <td>Dry</td>\n",
       "      <td>Single carriageway</td>\n",
       "      <td>Urban</td>\n",
       "      <td>Fine no high winds</td>\n",
       "      <td>Bus or coach (17 or more pass seats)</td>\n",
       "    </tr>\n",
       "    <tr>\n",
       "      <th>4</th>\n",
       "      <td>200701BS66837</td>\n",
       "      <td>Slight</td>\n",
       "      <td>3/9/2019</td>\n",
       "      <td>51.488576</td>\n",
       "      <td>Darkness - lights lit</td>\n",
       "      <td>Kensington and Chelsea</td>\n",
       "      <td>-0.192487</td>\n",
       "      <td>1</td>\n",
       "      <td>2</td>\n",
       "      <td>Dry</td>\n",
       "      <td>NaN</td>\n",
       "      <td>Urban</td>\n",
       "      <td>NaN</td>\n",
       "      <td>Other vehicle</td>\n",
       "    </tr>\n",
       "    <tr>\n",
       "      <th>...</th>\n",
       "      <td>...</td>\n",
       "      <td>...</td>\n",
       "      <td>...</td>\n",
       "      <td>...</td>\n",
       "      <td>...</td>\n",
       "      <td>...</td>\n",
       "      <td>...</td>\n",
       "      <td>...</td>\n",
       "      <td>...</td>\n",
       "      <td>...</td>\n",
       "      <td>...</td>\n",
       "      <td>...</td>\n",
       "      <td>...</td>\n",
       "      <td>...</td>\n",
       "    </tr>\n",
       "    <tr>\n",
       "      <th>660674</th>\n",
       "      <td>201091NM01760</td>\n",
       "      <td>Slight</td>\n",
       "      <td>18-02-2022</td>\n",
       "      <td>57.374005</td>\n",
       "      <td>Daylight</td>\n",
       "      <td>Highland</td>\n",
       "      <td>-3.467828</td>\n",
       "      <td>2</td>\n",
       "      <td>1</td>\n",
       "      <td>Dry</td>\n",
       "      <td>Single carriageway</td>\n",
       "      <td>Rural</td>\n",
       "      <td>Fine no high winds</td>\n",
       "      <td>Car</td>\n",
       "    </tr>\n",
       "    <tr>\n",
       "      <th>660675</th>\n",
       "      <td>201091NM01881</td>\n",
       "      <td>Slight</td>\n",
       "      <td>21-02-2022</td>\n",
       "      <td>57.232273</td>\n",
       "      <td>Darkness - no lighting</td>\n",
       "      <td>Highland</td>\n",
       "      <td>-3.809281</td>\n",
       "      <td>1</td>\n",
       "      <td>1</td>\n",
       "      <td>Frost or ice</td>\n",
       "      <td>Single carriageway</td>\n",
       "      <td>Rural</td>\n",
       "      <td>Fine no high winds</td>\n",
       "      <td>Car</td>\n",
       "    </tr>\n",
       "    <tr>\n",
       "      <th>660676</th>\n",
       "      <td>201091NM01935</td>\n",
       "      <td>Slight</td>\n",
       "      <td>23-02-2022</td>\n",
       "      <td>57.585044</td>\n",
       "      <td>Daylight</td>\n",
       "      <td>Highland</td>\n",
       "      <td>-3.862727</td>\n",
       "      <td>1</td>\n",
       "      <td>3</td>\n",
       "      <td>Frost or ice</td>\n",
       "      <td>Single carriageway</td>\n",
       "      <td>Rural</td>\n",
       "      <td>Fine no high winds</td>\n",
       "      <td>Car</td>\n",
       "    </tr>\n",
       "    <tr>\n",
       "      <th>660677</th>\n",
       "      <td>201091NM01964</td>\n",
       "      <td>Serious</td>\n",
       "      <td>23-02-2022</td>\n",
       "      <td>57.214898</td>\n",
       "      <td>Darkness - no lighting</td>\n",
       "      <td>Highland</td>\n",
       "      <td>-3.823997</td>\n",
       "      <td>1</td>\n",
       "      <td>2</td>\n",
       "      <td>Wet or damp</td>\n",
       "      <td>Single carriageway</td>\n",
       "      <td>Rural</td>\n",
       "      <td>Fine no high winds</td>\n",
       "      <td>Motorcycle over 500cc</td>\n",
       "    </tr>\n",
       "    <tr>\n",
       "      <th>660678</th>\n",
       "      <td>201091NM02142</td>\n",
       "      <td>Serious</td>\n",
       "      <td>28-02-2022</td>\n",
       "      <td>57.575210</td>\n",
       "      <td>Daylight</td>\n",
       "      <td>Highland</td>\n",
       "      <td>-3.895673</td>\n",
       "      <td>1</td>\n",
       "      <td>1</td>\n",
       "      <td>Wet or damp</td>\n",
       "      <td>Dual carriageway</td>\n",
       "      <td>Rural</td>\n",
       "      <td>Snowing no high winds</td>\n",
       "      <td>Car</td>\n",
       "    </tr>\n",
       "  </tbody>\n",
       "</table>\n",
       "<p>660679 rows × 14 columns</p>\n",
       "</div>"
      ],
      "text/plain": [
       "                Index Accident_Severity Accident Date   Latitude  \\\n",
       "0       200701BS64157           Serious      5/6/2019  51.506187   \n",
       "1       200701BS65737           Serious      2/7/2019  51.495029   \n",
       "2       200701BS66127           Serious    26-08-2019  51.517715   \n",
       "3       200701BS66128           Serious    16-08-2019  51.495478   \n",
       "4       200701BS66837            Slight      3/9/2019  51.488576   \n",
       "...               ...               ...           ...        ...   \n",
       "660674  201091NM01760            Slight    18-02-2022  57.374005   \n",
       "660675  201091NM01881            Slight    21-02-2022  57.232273   \n",
       "660676  201091NM01935            Slight    23-02-2022  57.585044   \n",
       "660677  201091NM01964           Serious    23-02-2022  57.214898   \n",
       "660678  201091NM02142           Serious    28-02-2022  57.575210   \n",
       "\n",
       "                   Light_Conditions           District Area  Longitude  \\\n",
       "0             Darkness - lights lit  Kensington and Chelsea  -0.209082   \n",
       "1                          Daylight  Kensington and Chelsea  -0.173647   \n",
       "2       Darkness - lighting unknown  Kensington and Chelsea  -0.210215   \n",
       "3                          Daylight  Kensington and Chelsea  -0.202731   \n",
       "4             Darkness - lights lit  Kensington and Chelsea  -0.192487   \n",
       "...                             ...                     ...        ...   \n",
       "660674                     Daylight                Highland  -3.467828   \n",
       "660675       Darkness - no lighting                Highland  -3.809281   \n",
       "660676                     Daylight                Highland  -3.862727   \n",
       "660677       Darkness - no lighting                Highland  -3.823997   \n",
       "660678                     Daylight                Highland  -3.895673   \n",
       "\n",
       "        Number_of_Casualties  Number_of_Vehicles Road_Surface_Conditions  \\\n",
       "0                          1                   2                     Dry   \n",
       "1                          1                   2             Wet or damp   \n",
       "2                          1                   3                     Dry   \n",
       "3                          1                   4                     Dry   \n",
       "4                          1                   2                     Dry   \n",
       "...                      ...                 ...                     ...   \n",
       "660674                     2                   1                     Dry   \n",
       "660675                     1                   1            Frost or ice   \n",
       "660676                     1                   3            Frost or ice   \n",
       "660677                     1                   2             Wet or damp   \n",
       "660678                     1                   1             Wet or damp   \n",
       "\n",
       "                 Road_Type Urban_or_Rural_Area     Weather_Conditions  \\\n",
       "0       Single carriageway               Urban     Fine no high winds   \n",
       "1       Single carriageway               Urban  Raining no high winds   \n",
       "2                      NaN               Urban                    NaN   \n",
       "3       Single carriageway               Urban     Fine no high winds   \n",
       "4                      NaN               Urban                    NaN   \n",
       "...                    ...                 ...                    ...   \n",
       "660674  Single carriageway               Rural     Fine no high winds   \n",
       "660675  Single carriageway               Rural     Fine no high winds   \n",
       "660676  Single carriageway               Rural     Fine no high winds   \n",
       "660677  Single carriageway               Rural     Fine no high winds   \n",
       "660678    Dual carriageway               Rural  Snowing no high winds   \n",
       "\n",
       "                                Vehicle_Type  \n",
       "0                                        Car  \n",
       "1                                        Car  \n",
       "2                      Taxi/Private hire car  \n",
       "3       Bus or coach (17 or more pass seats)  \n",
       "4                              Other vehicle  \n",
       "...                                      ...  \n",
       "660674                                   Car  \n",
       "660675                                   Car  \n",
       "660676                                   Car  \n",
       "660677                 Motorcycle over 500cc  \n",
       "660678                                   Car  \n",
       "\n",
       "[660679 rows x 14 columns]"
      ]
     },
     "execution_count": 2,
     "metadata": {},
     "output_type": "execute_result"
    }
   ],
   "source": [
    "uk_road_accident = pd.read_csv(\"uk_road_accident.csv\")\n",
    "uk_road_accident"
   ]
  },
  {
   "cell_type": "code",
   "execution_count": 3,
   "id": "f0bdb0c0-81d2-47bf-a65f-c8e8b8d25ac6",
   "metadata": {},
   "outputs": [
    {
     "name": "stdout",
     "output_type": "stream",
     "text": [
      "<class 'pandas.core.frame.DataFrame'>\n",
      "RangeIndex: 660679 entries, 0 to 660678\n",
      "Data columns (total 14 columns):\n",
      " #   Column                   Non-Null Count   Dtype  \n",
      "---  ------                   --------------   -----  \n",
      " 0   Index                    660679 non-null  object \n",
      " 1   Accident_Severity        660679 non-null  object \n",
      " 2   Accident Date            660679 non-null  object \n",
      " 3   Latitude                 660654 non-null  float64\n",
      " 4   Light_Conditions         660679 non-null  object \n",
      " 5   District Area            660679 non-null  object \n",
      " 6   Longitude                660653 non-null  float64\n",
      " 7   Number_of_Casualties     660679 non-null  int64  \n",
      " 8   Number_of_Vehicles       660679 non-null  int64  \n",
      " 9   Road_Surface_Conditions  659953 non-null  object \n",
      " 10  Road_Type                656159 non-null  object \n",
      " 11  Urban_or_Rural_Area      660664 non-null  object \n",
      " 12  Weather_Conditions       646551 non-null  object \n",
      " 13  Vehicle_Type             660679 non-null  object \n",
      "dtypes: float64(2), int64(2), object(10)\n",
      "memory usage: 70.6+ MB\n"
     ]
    }
   ],
   "source": [
    "uk_road_accident.info()"
   ]
  },
  {
   "cell_type": "code",
   "execution_count": 4,
   "id": "ec9c24c9-7612-47d7-b997-88f5e054f4c9",
   "metadata": {},
   "outputs": [
    {
     "data": {
      "text/html": [
       "<div>\n",
       "<style scoped>\n",
       "    .dataframe tbody tr th:only-of-type {\n",
       "        vertical-align: middle;\n",
       "    }\n",
       "\n",
       "    .dataframe tbody tr th {\n",
       "        vertical-align: top;\n",
       "    }\n",
       "\n",
       "    .dataframe thead th {\n",
       "        text-align: right;\n",
       "    }\n",
       "</style>\n",
       "<table border=\"1\" class=\"dataframe\">\n",
       "  <thead>\n",
       "    <tr style=\"text-align: right;\">\n",
       "      <th></th>\n",
       "      <th>Latitude</th>\n",
       "      <th>Longitude</th>\n",
       "      <th>Number_of_Casualties</th>\n",
       "      <th>Number_of_Vehicles</th>\n",
       "    </tr>\n",
       "  </thead>\n",
       "  <tbody>\n",
       "    <tr>\n",
       "      <th>count</th>\n",
       "      <td>660654.000000</td>\n",
       "      <td>660653.000000</td>\n",
       "      <td>660679.000000</td>\n",
       "      <td>660679.000000</td>\n",
       "    </tr>\n",
       "    <tr>\n",
       "      <th>mean</th>\n",
       "      <td>52.553866</td>\n",
       "      <td>-1.431210</td>\n",
       "      <td>1.357040</td>\n",
       "      <td>1.831255</td>\n",
       "    </tr>\n",
       "    <tr>\n",
       "      <th>std</th>\n",
       "      <td>1.406922</td>\n",
       "      <td>1.383330</td>\n",
       "      <td>0.824847</td>\n",
       "      <td>0.715269</td>\n",
       "    </tr>\n",
       "    <tr>\n",
       "      <th>min</th>\n",
       "      <td>49.914430</td>\n",
       "      <td>-7.516225</td>\n",
       "      <td>1.000000</td>\n",
       "      <td>1.000000</td>\n",
       "    </tr>\n",
       "    <tr>\n",
       "      <th>25%</th>\n",
       "      <td>51.490690</td>\n",
       "      <td>-2.332291</td>\n",
       "      <td>1.000000</td>\n",
       "      <td>1.000000</td>\n",
       "    </tr>\n",
       "    <tr>\n",
       "      <th>50%</th>\n",
       "      <td>52.315641</td>\n",
       "      <td>-1.411667</td>\n",
       "      <td>1.000000</td>\n",
       "      <td>2.000000</td>\n",
       "    </tr>\n",
       "    <tr>\n",
       "      <th>75%</th>\n",
       "      <td>53.453452</td>\n",
       "      <td>-0.232869</td>\n",
       "      <td>1.000000</td>\n",
       "      <td>2.000000</td>\n",
       "    </tr>\n",
       "    <tr>\n",
       "      <th>max</th>\n",
       "      <td>60.757544</td>\n",
       "      <td>1.762010</td>\n",
       "      <td>68.000000</td>\n",
       "      <td>32.000000</td>\n",
       "    </tr>\n",
       "  </tbody>\n",
       "</table>\n",
       "</div>"
      ],
      "text/plain": [
       "            Latitude      Longitude  Number_of_Casualties  Number_of_Vehicles\n",
       "count  660654.000000  660653.000000         660679.000000       660679.000000\n",
       "mean       52.553866      -1.431210              1.357040            1.831255\n",
       "std         1.406922       1.383330              0.824847            0.715269\n",
       "min        49.914430      -7.516225              1.000000            1.000000\n",
       "25%        51.490690      -2.332291              1.000000            1.000000\n",
       "50%        52.315641      -1.411667              1.000000            2.000000\n",
       "75%        53.453452      -0.232869              1.000000            2.000000\n",
       "max        60.757544       1.762010             68.000000           32.000000"
      ]
     },
     "execution_count": 4,
     "metadata": {},
     "output_type": "execute_result"
    }
   ],
   "source": [
    "uk_road_accident.describe()"
   ]
  },
  {
   "cell_type": "markdown",
   "id": "8e15ba65-0b46-4579-a58d-265948db5b2e",
   "metadata": {},
   "source": [
    "# Checking for Null Values"
   ]
  },
  {
   "cell_type": "code",
   "execution_count": 5,
   "id": "b7f99c08-07a4-47ce-b450-7e4379f307b7",
   "metadata": {},
   "outputs": [
    {
     "data": {
      "text/plain": [
       "Index                          0\n",
       "Accident_Severity              0\n",
       "Accident Date                  0\n",
       "Latitude                      25\n",
       "Light_Conditions               0\n",
       "District Area                  0\n",
       "Longitude                     26\n",
       "Number_of_Casualties           0\n",
       "Number_of_Vehicles             0\n",
       "Road_Surface_Conditions      726\n",
       "Road_Type                   4520\n",
       "Urban_or_Rural_Area           15\n",
       "Weather_Conditions         14128\n",
       "Vehicle_Type                   0\n",
       "dtype: int64"
      ]
     },
     "execution_count": 5,
     "metadata": {},
     "output_type": "execute_result"
    }
   ],
   "source": [
    "uk_road_accident.isnull().sum()"
   ]
  },
  {
   "cell_type": "markdown",
   "id": "54365cd4-877b-4b90-a084-1112d2cca31a",
   "metadata": {},
   "source": [
    "# Removing Null Values"
   ]
  },
  {
   "cell_type": "markdown",
   "id": "088ddc0f-cffe-42c3-8ce4-28141167b824",
   "metadata": {},
   "source": [
    "# for Numerical Values"
   ]
  },
  {
   "cell_type": "code",
   "execution_count": 6,
   "id": "fd2dbe92-9f3b-49e1-bf75-d1155d653cd6",
   "metadata": {},
   "outputs": [],
   "source": [
    "uk_road_accident[\"Latitude\"] = uk_road_accident[\"Latitude\"].fillna(uk_road_accident[\"Latitude\"].mean())"
   ]
  },
  {
   "cell_type": "code",
   "execution_count": 7,
   "id": "be8086bb-dbc1-4301-8c09-7d1a93257ca8",
   "metadata": {},
   "outputs": [],
   "source": [
    "uk_road_accident[\"Longitude\"] = uk_road_accident[\"Longitude\"].fillna(uk_road_accident[\"Longitude\"].mean())"
   ]
  },
  {
   "cell_type": "markdown",
   "id": "91b15a29-752c-4462-9c99-a5f51d1f2e4f",
   "metadata": {},
   "source": [
    "# for Categorical Values"
   ]
  },
  {
   "cell_type": "code",
   "execution_count": 8,
   "id": "98ab3415-f6a4-4feb-be9d-4ad11093137e",
   "metadata": {},
   "outputs": [],
   "source": [
    "uk_road_accident[\"Road_Surface_Conditions\"] = uk_road_accident[\"Road_Surface_Conditions\"].fillna(uk_road_accident[\"Road_Surface_Conditions\"].mode()[0])"
   ]
  },
  {
   "cell_type": "code",
   "execution_count": 9,
   "id": "cfe3e599-e2f7-48fe-8906-448c4131db4b",
   "metadata": {},
   "outputs": [],
   "source": [
    "uk_road_accident[\"Road_Type\"] = uk_road_accident[\"Road_Type\"].fillna(uk_road_accident[\"Road_Type\"].mode()[0])"
   ]
  },
  {
   "cell_type": "code",
   "execution_count": 10,
   "id": "8f514777-12e2-4b12-b0f6-e07cef2abf91",
   "metadata": {},
   "outputs": [],
   "source": [
    "uk_road_accident[\"Urban_or_Rural_Area\"] = uk_road_accident[\"Urban_or_Rural_Area\"].fillna(uk_road_accident[\"Urban_or_Rural_Area\"].mode()[0])"
   ]
  },
  {
   "cell_type": "code",
   "execution_count": 11,
   "id": "b6b8f121-2cfb-46aa-91c2-283a2db2d2b5",
   "metadata": {},
   "outputs": [],
   "source": [
    "uk_road_accident[\"Weather_Conditions\"] = uk_road_accident[\"Weather_Conditions\"].fillna(uk_road_accident[\"Weather_Conditions\"].mode()[0])"
   ]
  },
  {
   "cell_type": "markdown",
   "id": "a7d6f60e-e0c7-4646-9c71-8f056ef30f74",
   "metadata": {},
   "source": [
    "# Filtered data"
   ]
  },
  {
   "cell_type": "code",
   "execution_count": 12,
   "id": "d81ef09d-5348-4450-a2bc-1d1fba4f63f8",
   "metadata": {},
   "outputs": [
    {
     "data": {
      "text/plain": [
       "Index                      0\n",
       "Accident_Severity          0\n",
       "Accident Date              0\n",
       "Latitude                   0\n",
       "Light_Conditions           0\n",
       "District Area              0\n",
       "Longitude                  0\n",
       "Number_of_Casualties       0\n",
       "Number_of_Vehicles         0\n",
       "Road_Surface_Conditions    0\n",
       "Road_Type                  0\n",
       "Urban_or_Rural_Area        0\n",
       "Weather_Conditions         0\n",
       "Vehicle_Type               0\n",
       "dtype: int64"
      ]
     },
     "execution_count": 12,
     "metadata": {},
     "output_type": "execute_result"
    }
   ],
   "source": [
    "uk_road_accident.isnull().sum()"
   ]
  },
  {
   "cell_type": "markdown",
   "id": "29188942-3dc1-49d4-ab27-b68d14ca2fa7",
   "metadata": {},
   "source": [
    "# Changing the data types of the columns"
   ]
  },
  {
   "cell_type": "code",
   "execution_count": 13,
   "id": "785f0779-d679-421f-b694-304e5e328bcd",
   "metadata": {},
   "outputs": [],
   "source": [
    "uk_road_accident[\"Index\"] = uk_road_accident[\"Index\"].astype(\"category\")"
   ]
  },
  {
   "cell_type": "code",
   "execution_count": 14,
   "id": "871bd176-ea75-4997-9f3e-2bf6f88bbe9c",
   "metadata": {},
   "outputs": [],
   "source": [
    "uk_road_accident[\"Accident_Severity\"] = uk_road_accident[\"Accident_Severity\"].astype(\"category\")"
   ]
  },
  {
   "cell_type": "code",
   "execution_count": 15,
   "id": "17980c3c-8501-4fe9-bf9b-c825e8458bfb",
   "metadata": {},
   "outputs": [],
   "source": [
    "uk_road_accident[\"Light_Conditions\"] = uk_road_accident[\"Light_Conditions\"].astype(\"category\")"
   ]
  },
  {
   "cell_type": "code",
   "execution_count": 16,
   "id": "2002e6d9-5867-4489-8d1a-bb26182eb585",
   "metadata": {},
   "outputs": [],
   "source": [
    "uk_road_accident[\"District Area\"] = uk_road_accident[\"District Area\"].astype(\"category\")"
   ]
  },
  {
   "cell_type": "code",
   "execution_count": 17,
   "id": "a5cba7d9-c7b7-45fc-89e5-2e173655e337",
   "metadata": {},
   "outputs": [],
   "source": [
    "uk_road_accident[\"Road_Surface_Conditions\"] = uk_road_accident[\"Road_Surface_Conditions\"].astype(\"category\")"
   ]
  },
  {
   "cell_type": "code",
   "execution_count": 18,
   "id": "63404038-b4e7-4c6d-aa78-c5dee6c645a9",
   "metadata": {},
   "outputs": [],
   "source": [
    "uk_road_accident[\"Road_Type\"] = uk_road_accident[\"Road_Type\"].astype(\"category\")"
   ]
  },
  {
   "cell_type": "code",
   "execution_count": 19,
   "id": "89a0d924-f724-4eb4-85da-6b982e832ff3",
   "metadata": {},
   "outputs": [],
   "source": [
    "uk_road_accident[\"Urban_or_Rural_Area\"] = uk_road_accident[\"Urban_or_Rural_Area\"].astype(\"category\")"
   ]
  },
  {
   "cell_type": "code",
   "execution_count": 20,
   "id": "bb462d78-9f4c-409b-bd04-fdadc6df1684",
   "metadata": {},
   "outputs": [],
   "source": [
    "uk_road_accident[\"Weather_Conditions\"] = uk_road_accident[\"Weather_Conditions\"].astype(\"category\")"
   ]
  },
  {
   "cell_type": "code",
   "execution_count": 21,
   "id": "027a5a50-3f8f-47ca-b0c2-1d0b3c039bb2",
   "metadata": {},
   "outputs": [],
   "source": [
    "uk_road_accident[\"Vehicle_Type\"] = uk_road_accident[\"Vehicle_Type\"].astype(\"category\")"
   ]
  },
  {
   "cell_type": "code",
   "execution_count": 22,
   "id": "ad8ee1b9-0598-4712-af22-9325b8792b26",
   "metadata": {},
   "outputs": [
    {
     "name": "stdout",
     "output_type": "stream",
     "text": [
      "<class 'pandas.core.frame.DataFrame'>\n",
      "RangeIndex: 660679 entries, 0 to 660678\n",
      "Data columns (total 14 columns):\n",
      " #   Column                   Non-Null Count   Dtype   \n",
      "---  ------                   --------------   -----   \n",
      " 0   Index                    660679 non-null  category\n",
      " 1   Accident_Severity        660679 non-null  category\n",
      " 2   Accident Date            660679 non-null  object  \n",
      " 3   Latitude                 660679 non-null  float64 \n",
      " 4   Light_Conditions         660679 non-null  category\n",
      " 5   District Area            660679 non-null  category\n",
      " 6   Longitude                660679 non-null  float64 \n",
      " 7   Number_of_Casualties     660679 non-null  int64   \n",
      " 8   Number_of_Vehicles       660679 non-null  int64   \n",
      " 9   Road_Surface_Conditions  660679 non-null  category\n",
      " 10  Road_Type                660679 non-null  category\n",
      " 11  Urban_or_Rural_Area      660679 non-null  category\n",
      " 12  Weather_Conditions       660679 non-null  category\n",
      " 13  Vehicle_Type             660679 non-null  category\n",
      "dtypes: category(9), float64(2), int64(2), object(1)\n",
      "memory usage: 52.8+ MB\n"
     ]
    }
   ],
   "source": [
    "uk_road_accident.info()"
   ]
  },
  {
   "cell_type": "markdown",
   "id": "25e24089-5df5-40e4-bf80-ef7de578e71c",
   "metadata": {},
   "source": [
    "<h2>Library -SciPy (Scientific Python)\n",
    "from scipy.stats import for oneway</h2>"
   ]
  },
  {
   "cell_type": "code",
   "execution_count": 23,
   "id": "de98e324-724c-42d9-baff-3555f4c95f52",
   "metadata": {},
   "outputs": [],
   "source": [
    "from scipy.stats import f_oneway"
   ]
  },
  {
   "cell_type": "markdown",
   "id": "20144e6a-883b-4490-a0ee-64effc378b69",
   "metadata": {},
   "source": [
    "<h2>Split the Accident date to there own categories</h2>"
   ]
  },
  {
   "cell_type": "code",
   "execution_count": 24,
   "id": "53a7418e-ea60-4436-ac0e-04b274ee3e53",
   "metadata": {},
   "outputs": [],
   "source": [
    "uk_road_accident[\"Accident Date\"] = uk_road_accident[\"Accident Date\"].astype(\"str\")\n",
    "uk_road_accident[\"Accident Date\"] = uk_road_accident[\"Accident Date\"].str.strip()\n",
    "uk_road_accident[\"Accident Date\"] = uk_road_accident[\"Accident Date\"].str.replace('/','-')"
   ]
  },
  {
   "cell_type": "code",
   "execution_count": 25,
   "id": "e6e33c3a-bf93-44fb-8224-f7845f63dec6",
   "metadata": {},
   "outputs": [],
   "source": [
    "uk_road_accident[\"Accident Date\"] = pd.to_datetime(uk_road_accident[\"Accident Date\"], dayfirst=True, errors=\"coerce\")"
   ]
  },
  {
   "cell_type": "code",
   "execution_count": 26,
   "id": "2d75929f-f799-4b4c-9490-06d26ba620ea",
   "metadata": {},
   "outputs": [],
   "source": [
    "uk_road_accident[\"Year\"] = uk_road_accident[\"Accident Date\"].dt.year\n",
    "uk_road_accident[\"Month\"] = uk_road_accident[\"Accident Date\"].dt.month\n",
    "uk_road_accident[\"Day\"] = uk_road_accident[\"Accident Date\"].dt.day\n",
    "uk_road_accident[\"DayOfWeek\"] = uk_road_accident[\"Accident Date\"].dt.dayofweek"
   ]
  },
  {
   "cell_type": "code",
   "execution_count": 27,
   "id": "e9436048-1725-41ac-b185-30a8d54be406",
   "metadata": {},
   "outputs": [
    {
     "data": {
      "text/plain": [
       "Index                      0\n",
       "Accident_Severity          0\n",
       "Accident Date              0\n",
       "Latitude                   0\n",
       "Light_Conditions           0\n",
       "District Area              0\n",
       "Longitude                  0\n",
       "Number_of_Casualties       0\n",
       "Number_of_Vehicles         0\n",
       "Road_Surface_Conditions    0\n",
       "Road_Type                  0\n",
       "Urban_or_Rural_Area        0\n",
       "Weather_Conditions         0\n",
       "Vehicle_Type               0\n",
       "Year                       0\n",
       "Month                      0\n",
       "Day                        0\n",
       "DayOfWeek                  0\n",
       "dtype: int64"
      ]
     },
     "execution_count": 27,
     "metadata": {},
     "output_type": "execute_result"
    }
   ],
   "source": [
    "uk_road_accident.isnull().sum()"
   ]
  },
  {
   "cell_type": "code",
   "execution_count": 28,
   "id": "d9d8c351-cfc1-40c8-a86f-8611bc814803",
   "metadata": {},
   "outputs": [
    {
     "data": {
      "text/plain": [
       "Accident Date\n",
       "2019-11-30    704\n",
       "2019-01-31    697\n",
       "2019-07-13    692\n",
       "2021-11-13    692\n",
       "2019-08-14    688\n",
       "             ... \n",
       "2022-12-30    171\n",
       "2019-12-25    157\n",
       "2022-12-25    145\n",
       "2022-01-10    123\n",
       "2020-12-25    118\n",
       "Name: count, Length: 1461, dtype: int64"
      ]
     },
     "execution_count": 28,
     "metadata": {},
     "output_type": "execute_result"
    }
   ],
   "source": [
    "uk_road_accident[\"Accident Date\"].value_counts()"
   ]
  },
  {
   "cell_type": "code",
   "execution_count": 29,
   "id": "86fa5009-ca37-4822-957f-7db006df9d79",
   "metadata": {},
   "outputs": [
    {
     "data": {
      "text/plain": [
       "Weather_Conditions\n",
       "Fine no high winds       535013\n",
       "Raining no high winds     79696\n",
       "Other                     17150\n",
       "Raining + high winds       9615\n",
       "Fine + high winds          8554\n",
       "Snowing no high winds      6238\n",
       "Fog or mist                3528\n",
       "Snowing + high winds        885\n",
       "Name: count, dtype: int64"
      ]
     },
     "execution_count": 29,
     "metadata": {},
     "output_type": "execute_result"
    }
   ],
   "source": [
    "uk_road_accident[\"Weather_Conditions\"].value_counts()"
   ]
  },
  {
   "cell_type": "markdown",
   "id": "3a289e60-abe6-4c07-91e9-5af3e8b2c31a",
   "metadata": {},
   "source": [
    "# 25 Insights Activity"
   ]
  },
  {
   "cell_type": "code",
   "execution_count": 30,
   "id": "b69435a5-61cc-40ce-a2ef-c822b478c18f",
   "metadata": {},
   "outputs": [
    {
     "data": {
      "text/plain": [
       "Index(['Index', 'Accident_Severity', 'Accident Date', 'Latitude',\n",
       "       'Light_Conditions', 'District Area', 'Longitude',\n",
       "       'Number_of_Casualties', 'Number_of_Vehicles', 'Road_Surface_Conditions',\n",
       "       'Road_Type', 'Urban_or_Rural_Area', 'Weather_Conditions',\n",
       "       'Vehicle_Type', 'Year', 'Month', 'Day', 'DayOfWeek'],\n",
       "      dtype='object')"
      ]
     },
     "execution_count": 30,
     "metadata": {},
     "output_type": "execute_result"
    }
   ],
   "source": [
    "uk_road_accident.columns"
   ]
  },
  {
   "cell_type": "markdown",
   "id": "97f00c30-db6e-4948-a6f4-2f081a2484f3",
   "metadata": {},
   "source": [
    "<hr>"
   ]
  },
  {
   "cell_type": "markdown",
   "id": "43f7a9cc-5b02-4e4b-bcac-59b9f9a4b5eb",
   "metadata": {},
   "source": [
    "<h2>1. On what month do accidents occur the most on a Fine with a no high winds weather conditon?</h2>"
   ]
  },
  {
   "cell_type": "code",
   "execution_count": 31,
   "id": "56f2da2c-7cb5-4240-af83-3fb1c1cda5f1",
   "metadata": {},
   "outputs": [
    {
     "data": {
      "text/plain": [
       "Month\n",
       "6     49465\n",
       "10    49132\n",
       "5     48732\n",
       "9     48536\n",
       "7     47689\n",
       "4     46870\n",
       "8     45251\n",
       "3     44754\n",
       "11    42244\n",
       "2     38759\n",
       "12    36827\n",
       "1     36754\n",
       "Name: Number_of_Casualties, dtype: int64"
      ]
     },
     "execution_count": 31,
     "metadata": {},
     "output_type": "execute_result"
    }
   ],
   "source": [
    "clear_weather = uk_road_accident[uk_road_accident[\"Weather_Conditions\"] == \"Fine no high winds\"]\n",
    "\n",
    "most_accidents_month = clear_weather.groupby(\"Month\")[\"Number_of_Casualties\"].size().sort_values(ascending=False)\n",
    "\n",
    "most_accidents_month"
   ]
  },
  {
   "cell_type": "markdown",
   "id": "e6853fdd-b542-4672-8bc2-26103004375e",
   "metadata": {},
   "source": [
    "<h2>Insights - 1:</h2>\n",
    "<h2>Result shows that June has the highest Casualties to occur even in fine weather condition</h2>\n",
    "<h2>Insights - 2:</h2>\n",
    "<h2>There might be other reason why accidents occur in this month other than weather condition</h2>\n",
    "<hr>"
   ]
  },
  {
   "cell_type": "markdown",
   "id": "8d1d45c2-034e-4e11-9718-713edbbc59eb",
   "metadata": {},
   "source": [
    "<h2>2. Does the number of casualties in the month of June has a significance to the number of casualties occuring on a Fine with a no high winds weather conditon?</h2>"
   ]
  },
  {
   "cell_type": "code",
   "execution_count": 32,
   "id": "6842c7dc-1c05-4745-83e5-1897a61b62af",
   "metadata": {},
   "outputs": [
    {
     "data": {
      "text/plain": [
       "np.float64(0.05970206849678255)"
      ]
     },
     "execution_count": 32,
     "metadata": {},
     "output_type": "execute_result"
    }
   ],
   "source": [
    "clear_weather_Casualties_on_June = clear_weather[clear_weather[\"Month\"] == 6][\"Number_of_Casualties\"]\n",
    "\n",
    "f_oneway(clear_weather_Casualties_on_June, clear_weather[\"Number_of_Casualties\"]).pvalue"
   ]
  },
  {
   "cell_type": "markdown",
   "id": "2011a230-50ff-4d87-9de3-8bb0b5a500d5",
   "metadata": {},
   "source": [
    "<h2>Insights - 1:</h2>\n",
    "<ul>\n",
    "  <li>The ANOVA test produced a p-value of ≈ 0.0597.</li>\n",
    "  <li>Since this is slightly above the common 0.05 threshold, we fail to reject the null hypothesis at the 5% level.</li>\n",
    "  <li>This means that the number of casualties in June is not significantly different from the overall casualties under clear weather conditions.</li>\n",
    "  <li>However, the result is close to the cutoff, suggesting there may be a weak or borderline effect worth exploring further.</li>\n",
    "</ul>\n",
    "<hr>"
   ]
  },
  {
   "cell_type": "markdown",
   "id": "db654f97-9e83-4788-a7d7-8c8ed808c56c",
   "metadata": {},
   "source": [
    "<h2>3. Is there a correlation between the month of the year and number of casulaties?</h2>"
   ]
  },
  {
   "cell_type": "code",
   "execution_count": 33,
   "id": "ffa5201c-b527-4e47-b9cb-9c31b3241d54",
   "metadata": {},
   "outputs": [
    {
     "data": {
      "text/plain": [
       "np.float64(0.003218450219128147)"
      ]
     },
     "execution_count": 33,
     "metadata": {},
     "output_type": "execute_result"
    }
   ],
   "source": [
    "Month_to_Casualties = uk_road_accident[\"Month\"].corr(uk_road_accident[\"Number_of_Casualties\"])\n",
    "\n",
    "Month_to_Casualties"
   ]
  },
  {
   "cell_type": "markdown",
   "id": "67a68506-88fa-48dc-b8ea-0060f3395a70",
   "metadata": {},
   "source": [
    "<h2>Insights - 1:</h2>\n",
    "<h2>The correlation coenfficient (0.0032) is close to zero, meaning that there is no linear relationship between month and the number of casualties</h2>\n",
    "<h2>Insights - 2:</h2>        \n",
    "<h2>This suggests that accidents occur independently of the month of the year.</h2>\n",
    "<hr>"
   ]
  },
  {
   "cell_type": "markdown",
   "id": "c1e71973-78af-4bee-9738-fa8cc623ebfd",
   "metadata": {},
   "source": [
    "<h2>4. What is the most used vehicle when it comes to accidents recorded?</h2>"
   ]
  },
  {
   "cell_type": "code",
   "execution_count": 34,
   "id": "37c4aebd-7c8e-454b-81b4-9432158dbc9a",
   "metadata": {},
   "outputs": [
    {
     "data": {
      "text/plain": [
       "Vehicle_Type\n",
       "Car                                      497992\n",
       "Van / Goods 3.5 tonnes mgw or under       34160\n",
       "Bus or coach (17 or more pass seats)      25878\n",
       "Motorcycle over 500cc                     25657\n",
       "Goods 7.5 tonnes mgw and over             17307\n",
       "Motorcycle 125cc and under                15269\n",
       "Taxi/Private hire car                     13294\n",
       "Motorcycle over 125cc and up to 500cc      7656\n",
       "Motorcycle 50cc and under                  7603\n",
       "Goods over 3.5t. and under 7.5t            6096\n",
       "Other vehicle                              5637\n",
       "Minibus (8 - 16 passenger seats)           1976\n",
       "Agricultural vehicle                       1947\n",
       "Pedal cycle                                 197\n",
       "Data missing or out of range                  6\n",
       "Ridden horse                                  4\n",
       "Name: Number_of_Casualties, dtype: int64"
      ]
     },
     "execution_count": 34,
     "metadata": {},
     "output_type": "execute_result"
    }
   ],
   "source": [
    "vehicles = uk_road_accident.groupby(\"Vehicle_Type\")[\"Number_of_Casualties\"].size().sort_values(ascending=False)\n",
    "\n",
    "vehicles"
   ]
  },
  {
   "cell_type": "code",
   "execution_count": 35,
   "id": "649a6065-87ed-4f07-83b7-7c01bbbc84de",
   "metadata": {},
   "outputs": [
    {
     "data": {
      "image/png": "[encoded data removed]",
      "text/plain": [
       "<Figure size 1000x600 with 1 Axes>"
      ]
     },
     "metadata": {},
     "output_type": "display_data"
    }
   ],
   "source": [
    "vehicles = vehicles.drop(\"Car\")\n",
    "\n",
    "vehicles.plot(kind=\"bar\", figsize=(10,6))\n",
    "plt.title(\"Number of Casualties per Vehicle Type (Excluding Car)\")\n",
    "plt.xlabel(\"Vehicle Type\")\n",
    "plt.ylabel(\"Number of Casualties\")\n",
    "plt.xticks(rotation=45, ha=\"right\")\n",
    "plt.show()"
   ]
  },
  {
   "cell_type": "markdown",
   "id": "b4fa400f-7edc-4b2a-a3fd-9b45bf16cdcd",
   "metadata": {},
   "source": [
    "<p>Insights:</p>\n",
    "<ul>\n",
    "    <li>Cars has the most accidents recorded meaning it is the most used vihicle in the UK</li>\n",
    "    <li>Vans and coahes can load more passangers creating more casualties, there large size and weight causes collisions more dangerous</li>\n",
    "    <li>Two wheeled vehicles are prone to accidents since they are more vulnerable.</li>\n",
    "</ul>\n",
    "<hr>"
   ]
  },
  {
   "cell_type": "markdown",
   "id": "2c572614-bd12-4d0c-8272-79b6b72fb80f",
   "metadata": {},
   "source": [
    "<h2>5. What are the top 5 vehicle type that has fatal accidents</h2>"
   ]
  },
  {
   "cell_type": "code",
   "execution_count": 36,
   "id": "3e65bc05-5df9-4f98-a409-7db7582eaf72",
   "metadata": {},
   "outputs": [
    {
     "data": {
      "text/plain": [
       "Vehicle_Type\n",
       "Car                                     6577\n",
       "Van / Goods 3.5 tonnes mgw or under      467\n",
       "Motorcycle over 500cc                    339\n",
       "Bus or coach (17 or more pass seats)     325\n",
       "Goods 7.5 tonnes mgw and over            216\n",
       "Name: count, dtype: int64"
      ]
     },
     "execution_count": 36,
     "metadata": {},
     "output_type": "execute_result"
    }
   ],
   "source": [
    "fatal_accidents = uk_road_accident[uk_road_accident[\"Accident_Severity\"] == \"Fatal\"]\n",
    "\n",
    "fatal_accidents[\"Vehicle_Type\"].value_counts().head(5)"
   ]
  },
  {
   "cell_type": "markdown",
   "id": "a64fbae5-896d-4aba-a042-4a45aa969f59",
   "metadata": {
    "jp-MarkdownHeadingCollapsed": true
   },
   "source": [
    "<h2>Insight - 1:</h2>\n",
    "<h2>Cars has the most fatal accidents since they have the most population</h2>\n",
    "<h2>Insight - 2:</h2>\n",
    "<h2>Commercial vehicle contribute to the significantly, their large size and weight causes collisions more dangereous</h2>\n",
    "<h2>Insight - 3:</h2>\n",
    "<h2>With 339 fatal accidents, Motorcycles show high vulnerability to fatal accidents despite being less numerous  than cars</h2>\n",
    "<hr>"
   ]
  },
  {
   "cell_type": "markdown",
   "id": "9c9b1466-b65b-4d68-af99-5909b8b8e2ae",
   "metadata": {},
   "source": [
    "<h2>6. Is there a significance to these types of viehicles such as a Bus, Car and a Pedal cycle to the number of casualties ?</h2>"
   ]
  },
  {
   "cell_type": "code",
   "execution_count": 37,
   "id": "a91a0d1a-d121-4a5e-a1be-522ff071b184",
   "metadata": {},
   "outputs": [
    {
     "data": {
      "text/plain": [
       "np.float64(0.1854118104388273)"
      ]
     },
     "execution_count": 37,
     "metadata": {},
     "output_type": "execute_result"
    }
   ],
   "source": [
    "cars = uk_road_accident[uk_road_accident[\"Vehicle_Type\"] == \"Car\"][\"Number_of_Casualties\"]\n",
    "busses = uk_road_accident[uk_road_accident[\"Vehicle_Type\"] == \"Bus or coach (17 or more pass seats)\"][\"Number_of_Casualties\"]\n",
    "bicycles = uk_road_accident[uk_road_accident[\"Vehicle_Type\"] == \"Pedal cycle\"][\"Number_of_Casualties\"]\n",
    "\n",
    "results = f_oneway(cars, busses, bicycles).pvalue\n",
    "results"
   ]
  },
  {
   "cell_type": "markdown",
   "id": "a38ca09e-ec2e-4480-bd45-b75530081d3b",
   "metadata": {},
   "source": [
    "<p>Insights:</p>\n",
    "<ul>\n",
    "    <li>the ANOVA test shows that there is a significant relation when it comes to the following vehicles when it comes to casualties</li>\n",
    "<li>It also means that they have there own vulnerabilites, Cars is the most abundant, Busses can load more passangers and bikes are the most vulnerable to accidents</li>\n",
    "</ul>\n",
    "<hr>"
   ]
  },
  {
   "cell_type": "markdown",
   "id": "814541b6-b402-4e33-bab2-412b86630f0b",
   "metadata": {},
   "source": [
    "<h2>7. Does a district area matter to the amount of accidents happening to cars</h2>"
   ]
  },
  {
   "cell_type": "code",
   "execution_count": 38,
   "id": "de10aa38-c350-40aa-a688-01130937f00b",
   "metadata": {},
   "outputs": [
    {
     "data": {
      "text/plain": [
       "District Area\n",
       "Birmingham                   13309\n",
       "Leeds                         9610\n",
       "Manchester                    7420\n",
       "Bradford                      7091\n",
       "Liverpool                     6431\n",
       "                             ...  \n",
       "Teesdale                       160\n",
       "Shetland Islands               142\n",
       "London Airport (Heathrow)      135\n",
       "Orkney Islands                 117\n",
       "Clackmannanshire                87\n",
       "Name: Number_of_Casualties, Length: 422, dtype: int64"
      ]
     },
     "execution_count": 38,
     "metadata": {},
     "output_type": "execute_result"
    }
   ],
   "source": [
    "car_accidents = uk_road_accident[uk_road_accident[\"Vehicle_Type\"] == \"Car\"]\n",
    "car_district_accidents = car_accidents.groupby(\"District Area\")[\"Number_of_Casualties\"].sum().sort_values(ascending=False)\n",
    "\n",
    "car_district_accidents"
   ]
  },
  {
   "cell_type": "markdown",
   "id": "cc0fa95b-0129-4b9f-ae11-abe46ef6cbd1",
   "metadata": {},
   "source": [
    "<h2>Insights - 1:</h2>\n",
    "    <h2>\n",
    "        This shows that district are matters when it comes to car accidents\n",
    "    </h2>\n",
    "<h2>Insights - 2:</h2>\n",
    "    <h2>\n",
    "        Birmingham has the highest accidents occuring when it comes to cars\n",
    "    </h2>\n",
    "<hr>"
   ]
  },
  {
   "cell_type": "markdown",
   "id": "74ac7c3d-fc1b-4517-bdbf-1ddff16f7cb4",
   "metadata": {},
   "source": [
    "<h2>8. What month are the vehicles most used?</h2>"
   ]
  },
  {
   "cell_type": "code",
   "execution_count": 39,
   "id": "1009545e-1d14-47da-9300-dfb0730819e3",
   "metadata": {},
   "outputs": [
    {
     "data": {
      "text/html": [
       "<div>\n",
       "<style scoped>\n",
       "    .dataframe tbody tr th:only-of-type {\n",
       "        vertical-align: middle;\n",
       "    }\n",
       "\n",
       "    .dataframe tbody tr th {\n",
       "        vertical-align: top;\n",
       "    }\n",
       "\n",
       "    .dataframe thead th {\n",
       "        text-align: right;\n",
       "    }\n",
       "</style>\n",
       "<table border=\"1\" class=\"dataframe\">\n",
       "  <thead>\n",
       "    <tr style=\"text-align: right;\">\n",
       "      <th></th>\n",
       "      <th>Vehicle_Type</th>\n",
       "      <th>Month</th>\n",
       "      <th>Count</th>\n",
       "    </tr>\n",
       "  </thead>\n",
       "  <tbody>\n",
       "    <tr>\n",
       "      <th>4</th>\n",
       "      <td>Agricultural vehicle</td>\n",
       "      <td>5</td>\n",
       "      <td>184</td>\n",
       "    </tr>\n",
       "    <tr>\n",
       "      <th>22</th>\n",
       "      <td>Bus or coach (17 or more pass seats)</td>\n",
       "      <td>11</td>\n",
       "      <td>2375</td>\n",
       "    </tr>\n",
       "    <tr>\n",
       "      <th>34</th>\n",
       "      <td>Car</td>\n",
       "      <td>11</td>\n",
       "      <td>45641</td>\n",
       "    </tr>\n",
       "    <tr>\n",
       "      <th>45</th>\n",
       "      <td>Data missing or out of range</td>\n",
       "      <td>10</td>\n",
       "      <td>4</td>\n",
       "    </tr>\n",
       "    <tr>\n",
       "      <th>57</th>\n",
       "      <td>Goods 7.5 tonnes mgw and over</td>\n",
       "      <td>10</td>\n",
       "      <td>1571</td>\n",
       "    </tr>\n",
       "    <tr>\n",
       "      <th>66</th>\n",
       "      <td>Goods over 3.5t. and under 7.5t</td>\n",
       "      <td>7</td>\n",
       "      <td>574</td>\n",
       "    </tr>\n",
       "    <tr>\n",
       "      <th>76</th>\n",
       "      <td>Minibus (8 - 16 passenger seats)</td>\n",
       "      <td>5</td>\n",
       "      <td>185</td>\n",
       "    </tr>\n",
       "    <tr>\n",
       "      <th>93</th>\n",
       "      <td>Motorcycle 125cc and under</td>\n",
       "      <td>10</td>\n",
       "      <td>1401</td>\n",
       "    </tr>\n",
       "    <tr>\n",
       "      <th>98</th>\n",
       "      <td>Motorcycle 50cc and under</td>\n",
       "      <td>3</td>\n",
       "      <td>695</td>\n",
       "    </tr>\n",
       "    <tr>\n",
       "      <th>117</th>\n",
       "      <td>Motorcycle over 125cc and up to 500cc</td>\n",
       "      <td>10</td>\n",
       "      <td>702</td>\n",
       "    </tr>\n",
       "    <tr>\n",
       "      <th>130</th>\n",
       "      <td>Motorcycle over 500cc</td>\n",
       "      <td>11</td>\n",
       "      <td>2391</td>\n",
       "    </tr>\n",
       "    <tr>\n",
       "      <th>142</th>\n",
       "      <td>Other vehicle</td>\n",
       "      <td>11</td>\n",
       "      <td>581</td>\n",
       "    </tr>\n",
       "    <tr>\n",
       "      <th>144</th>\n",
       "      <td>Pedal cycle</td>\n",
       "      <td>1</td>\n",
       "      <td>21</td>\n",
       "    </tr>\n",
       "    <tr>\n",
       "      <th>156</th>\n",
       "      <td>Ridden horse</td>\n",
       "      <td>1</td>\n",
       "      <td>2</td>\n",
       "    </tr>\n",
       "    <tr>\n",
       "      <th>177</th>\n",
       "      <td>Taxi/Private hire car</td>\n",
       "      <td>10</td>\n",
       "      <td>1238</td>\n",
       "    </tr>\n",
       "    <tr>\n",
       "      <th>189</th>\n",
       "      <td>Van / Goods 3.5 tonnes mgw or under</td>\n",
       "      <td>10</td>\n",
       "      <td>3108</td>\n",
       "    </tr>\n",
       "  </tbody>\n",
       "</table>\n",
       "</div>"
      ],
      "text/plain": [
       "                              Vehicle_Type  Month  Count\n",
       "4                     Agricultural vehicle      5    184\n",
       "22    Bus or coach (17 or more pass seats)     11   2375\n",
       "34                                     Car     11  45641\n",
       "45            Data missing or out of range     10      4\n",
       "57           Goods 7.5 tonnes mgw and over     10   1571\n",
       "66         Goods over 3.5t. and under 7.5t      7    574\n",
       "76        Minibus (8 - 16 passenger seats)      5    185\n",
       "93              Motorcycle 125cc and under     10   1401\n",
       "98               Motorcycle 50cc and under      3    695\n",
       "117  Motorcycle over 125cc and up to 500cc     10    702\n",
       "130                  Motorcycle over 500cc     11   2391\n",
       "142                          Other vehicle     11    581\n",
       "144                            Pedal cycle      1     21\n",
       "156                           Ridden horse      1      2\n",
       "177                  Taxi/Private hire car     10   1238\n",
       "189    Van / Goods 3.5 tonnes mgw or under     10   3108"
      ]
     },
     "execution_count": 39,
     "metadata": {},
     "output_type": "execute_result"
    }
   ],
   "source": [
    "most_used_vehicle_per_month = (uk_road_accident.groupby([\"Vehicle_Type\",\"Month\"]).size().reset_index(name=\"Count\")\n",
    "    .sort_values([\"Vehicle_Type\", \"Count\"], ascending=[True, False]).groupby(\"Vehicle_Type\").head(1))\n",
    "\n",
    "most_used_vehicle_per_month"
   ]
  },
  {
   "cell_type": "markdown",
   "id": "e83e3874-80aa-4a71-b639-6d03828e240a",
   "metadata": {},
   "source": [
    "<h2>Insight - 1:</h2>\n",
    "<h2>Cars contribute the majority of the accidents on the month of November having 45641 accidents. It is due to the seasonal factor like the weather</h2>\n",
    "<h2>Insight - 2:</h2>\n",
    "<h2>There are specific month for small categories of vehicles such as Motorcycle 50cc and under peaking during March, Motorcycle over 125cc–500cc and Taxi/Private hire cars peaking during October This suggest that there are seasonal trends from different vehicles</h2>\n",
    "\n",
    "<hr>"
   ]
  },
  {
   "cell_type": "markdown",
   "id": "1bff8f79-d273-4fd2-a8eb-b83106b41a4a",
   "metadata": {},
   "source": [
    "<h2>9. How many accidents occured based on there severity from every vehicle types</h2>"
   ]
  },
  {
   "cell_type": "code",
   "execution_count": 40,
   "id": "991fcff0-aec5-4f88-921a-832249bb64fe",
   "metadata": {},
   "outputs": [
    {
     "data": {
      "text/html": [
       "<div>\n",
       "<style scoped>\n",
       "    .dataframe tbody tr th:only-of-type {\n",
       "        vertical-align: middle;\n",
       "    }\n",
       "\n",
       "    .dataframe tbody tr th {\n",
       "        vertical-align: top;\n",
       "    }\n",
       "\n",
       "    .dataframe thead th {\n",
       "        text-align: right;\n",
       "    }\n",
       "</style>\n",
       "<table border=\"1\" class=\"dataframe\">\n",
       "  <thead>\n",
       "    <tr style=\"text-align: right;\">\n",
       "      <th>Accident_Severity</th>\n",
       "      <th>Fatal</th>\n",
       "      <th>Serious</th>\n",
       "      <th>Slight</th>\n",
       "    </tr>\n",
       "    <tr>\n",
       "      <th>Vehicle_Type</th>\n",
       "      <th></th>\n",
       "      <th></th>\n",
       "      <th></th>\n",
       "    </tr>\n",
       "  </thead>\n",
       "  <tbody>\n",
       "    <tr>\n",
       "      <th>Agricultural vehicle</th>\n",
       "      <td>21</td>\n",
       "      <td>282</td>\n",
       "      <td>1644</td>\n",
       "    </tr>\n",
       "    <tr>\n",
       "      <th>Bus or coach (17 or more pass seats)</th>\n",
       "      <td>325</td>\n",
       "      <td>3373</td>\n",
       "      <td>22180</td>\n",
       "    </tr>\n",
       "    <tr>\n",
       "      <th>Car</th>\n",
       "      <td>6577</td>\n",
       "      <td>66461</td>\n",
       "      <td>424954</td>\n",
       "    </tr>\n",
       "    <tr>\n",
       "      <th>Data missing or out of range</th>\n",
       "      <td>0</td>\n",
       "      <td>0</td>\n",
       "      <td>6</td>\n",
       "    </tr>\n",
       "    <tr>\n",
       "      <th>Goods 7.5 tonnes mgw and over</th>\n",
       "      <td>216</td>\n",
       "      <td>2321</td>\n",
       "      <td>14770</td>\n",
       "    </tr>\n",
       "    <tr>\n",
       "      <th>Goods over 3.5t. and under 7.5t</th>\n",
       "      <td>67</td>\n",
       "      <td>857</td>\n",
       "      <td>5172</td>\n",
       "    </tr>\n",
       "    <tr>\n",
       "      <th>Minibus (8 - 16 passenger seats)</th>\n",
       "      <td>29</td>\n",
       "      <td>276</td>\n",
       "      <td>1671</td>\n",
       "    </tr>\n",
       "    <tr>\n",
       "      <th>Motorcycle 125cc and under</th>\n",
       "      <td>189</td>\n",
       "      <td>2031</td>\n",
       "      <td>13049</td>\n",
       "    </tr>\n",
       "    <tr>\n",
       "      <th>Motorcycle 50cc and under</th>\n",
       "      <td>95</td>\n",
       "      <td>1014</td>\n",
       "      <td>6494</td>\n",
       "    </tr>\n",
       "    <tr>\n",
       "      <th>Motorcycle over 125cc and up to 500cc</th>\n",
       "      <td>105</td>\n",
       "      <td>1014</td>\n",
       "      <td>6537</td>\n",
       "    </tr>\n",
       "    <tr>\n",
       "      <th>Motorcycle over 500cc</th>\n",
       "      <td>339</td>\n",
       "      <td>3457</td>\n",
       "      <td>21861</td>\n",
       "    </tr>\n",
       "    <tr>\n",
       "      <th>Other vehicle</th>\n",
       "      <td>70</td>\n",
       "      <td>767</td>\n",
       "      <td>4800</td>\n",
       "    </tr>\n",
       "    <tr>\n",
       "      <th>Pedal cycle</th>\n",
       "      <td>6</td>\n",
       "      <td>39</td>\n",
       "      <td>152</td>\n",
       "    </tr>\n",
       "    <tr>\n",
       "      <th>Ridden horse</th>\n",
       "      <td>0</td>\n",
       "      <td>0</td>\n",
       "      <td>4</td>\n",
       "    </tr>\n",
       "    <tr>\n",
       "      <th>Taxi/Private hire car</th>\n",
       "      <td>155</td>\n",
       "      <td>1771</td>\n",
       "      <td>11368</td>\n",
       "    </tr>\n",
       "    <tr>\n",
       "      <th>Van / Goods 3.5 tonnes mgw or under</th>\n",
       "      <td>467</td>\n",
       "      <td>4554</td>\n",
       "      <td>29139</td>\n",
       "    </tr>\n",
       "  </tbody>\n",
       "</table>\n",
       "</div>"
      ],
      "text/plain": [
       "Accident_Severity                      Fatal  Serious  Slight\n",
       "Vehicle_Type                                                 \n",
       "Agricultural vehicle                      21      282    1644\n",
       "Bus or coach (17 or more pass seats)     325     3373   22180\n",
       "Car                                     6577    66461  424954\n",
       "Data missing or out of range               0        0       6\n",
       "Goods 7.5 tonnes mgw and over            216     2321   14770\n",
       "Goods over 3.5t. and under 7.5t           67      857    5172\n",
       "Minibus (8 - 16 passenger seats)          29      276    1671\n",
       "Motorcycle 125cc and under               189     2031   13049\n",
       "Motorcycle 50cc and under                 95     1014    6494\n",
       "Motorcycle over 125cc and up to 500cc    105     1014    6537\n",
       "Motorcycle over 500cc                    339     3457   21861\n",
       "Other vehicle                             70      767    4800\n",
       "Pedal cycle                                6       39     152\n",
       "Ridden horse                               0        0       4\n",
       "Taxi/Private hire car                    155     1771   11368\n",
       "Van / Goods 3.5 tonnes mgw or under      467     4554   29139"
      ]
     },
     "execution_count": 40,
     "metadata": {},
     "output_type": "execute_result"
    }
   ],
   "source": [
    "uk_road_accident.groupby([\"Vehicle_Type\",\"Accident_Severity\"]).size().unstack()"
   ]
  },
  {
   "cell_type": "markdown",
   "id": "066eac46-7638-41d8-a481-1fad931857b8",
   "metadata": {},
   "source": [
    "<h2>Insight - 1:</h2>\n",
    "<h2>Cars dominate the accident count having 424,954 slight, 66,461 serious, 6,577 fatal. Cars share make up the large number of accidents but most of them are slight</h2>\n",
    "<h2>Insight - 2:</h2>\n",
    "<h2>A motorcycles over 500cc has 339 fatal accidents compared to 21,861 slight. Adding them all 25,657 and getting the fraction of fatal accidents we get 1.32%</h2>\n",
    "<h2>Insight - 3:</h2>\n",
    "<h2>Motorcycles and cars have the same fatality rate of 1.32%</h2>\n",
    "<hr>"
   ]
  },
  {
   "cell_type": "markdown",
   "id": "ed2db209-58dc-481b-b4b0-f2b69c60d266",
   "metadata": {},
   "source": [
    "<h2>10. Is there a correlation to the month with highest fatal accidents happening to cars?</h2>"
   ]
  },
  {
   "cell_type": "code",
   "execution_count": 41,
   "id": "3d938494-d20e-4a16-91a8-69310c35f70a",
   "metadata": {},
   "outputs": [
    {
     "data": {
      "text/plain": [
       "np.float64(0.9999999999999998)"
      ]
     },
     "execution_count": 41,
     "metadata": {},
     "output_type": "execute_result"
    }
   ],
   "source": [
    "fatal_accidents_june = uk_road_accident[(uk_road_accident[\"Month\"] == 6) & (uk_road_accident[\"Accident_Severity\"] == \"Fatal\")]\n",
    "\n",
    "result = fatal_accidents_june[\"Number_of_Casualties\"].corr(car_accidents[\"Number_of_Casualties\"])\n",
    "\n",
    "result"
   ]
  },
  {
   "cell_type": "markdown",
   "id": "a9502f8b-807a-4d94-aa0b-a816c6e8ea85",
   "metadata": {},
   "source": [
    "<h2>Insight - 1:</h2>\n",
    "<h2>The analysis reveals a noticeable concentration of fatal casualties in June, suggesting a potential seasonal pattern.</h2>\n",
    "<hr>"
   ]
  },
  {
   "cell_type": "markdown",
   "id": "75f52744-c62e-4122-8624-9bbacf3752f6",
   "metadata": {},
   "source": [
    "<h2>11. On which specific date did vehicles have the most accidents occured during a rainy day</h2>"
   ]
  },
  {
   "cell_type": "markdown",
   "id": "c25d1f30-31c9-4eee-9b3a-177a22c13d57",
   "metadata": {},
   "source": [
    "<p>\n",
    "    Get the accidents with the rainy days\n",
    "</p>"
   ]
  },
  {
   "cell_type": "code",
   "execution_count": 56,
   "id": "c2d5892c-8643-44f2-a455-4a5abf6be8fb",
   "metadata": {},
   "outputs": [],
   "source": [
    "rainy_days = uk_road_accident[(uk_road_accident[\"Weather_Conditions\"] == \"Raining no high winds\") | (uk_road_accident[\"Weather_Conditions\"] == \"Raining + high winds\")] "
   ]
  },
  {
   "cell_type": "markdown",
   "id": "bbcae082-2bd1-47d5-97f5-8869f78761b9",
   "metadata": {},
   "source": [
    "<p>Get the highest casualties</p>"
   ]
  },
  {
   "cell_type": "code",
   "execution_count": 43,
   "id": "b491052d-182a-4983-b859-72a0c63e054c",
   "metadata": {},
   "outputs": [
    {
     "data": {
      "text/plain": [
       "np.int64(68)"
      ]
     },
     "execution_count": 43,
     "metadata": {},
     "output_type": "execute_result"
    }
   ],
   "source": [
    "rainy_days[\"Number_of_Casualties\"].max() "
   ]
  },
  {
   "cell_type": "code",
   "execution_count": 44,
   "id": "0de2ff8c-e92e-47cc-8efa-a2164e0bf27e",
   "metadata": {},
   "outputs": [
    {
     "data": {
      "text/html": [
       "<div>\n",
       "<style scoped>\n",
       "    .dataframe tbody tr th:only-of-type {\n",
       "        vertical-align: middle;\n",
       "    }\n",
       "\n",
       "    .dataframe tbody tr th {\n",
       "        vertical-align: top;\n",
       "    }\n",
       "\n",
       "    .dataframe thead th {\n",
       "        text-align: right;\n",
       "    }\n",
       "</style>\n",
       "<table border=\"1\" class=\"dataframe\">\n",
       "  <thead>\n",
       "    <tr style=\"text-align: right;\">\n",
       "      <th></th>\n",
       "      <th>Index</th>\n",
       "      <th>Accident_Severity</th>\n",
       "      <th>Accident Date</th>\n",
       "      <th>Latitude</th>\n",
       "      <th>Light_Conditions</th>\n",
       "      <th>District Area</th>\n",
       "      <th>Longitude</th>\n",
       "      <th>Number_of_Casualties</th>\n",
       "      <th>Number_of_Vehicles</th>\n",
       "      <th>Road_Surface_Conditions</th>\n",
       "      <th>Road_Type</th>\n",
       "      <th>Urban_or_Rural_Area</th>\n",
       "      <th>Weather_Conditions</th>\n",
       "      <th>Vehicle_Type</th>\n",
       "      <th>Year</th>\n",
       "      <th>Month</th>\n",
       "      <th>Day</th>\n",
       "      <th>DayOfWeek</th>\n",
       "    </tr>\n",
       "  </thead>\n",
       "  <tbody>\n",
       "    <tr>\n",
       "      <th>117980</th>\n",
       "      <td>200743N002017</td>\n",
       "      <td>Fatal</td>\n",
       "      <td>2019-01-03</td>\n",
       "      <td>51.497547</td>\n",
       "      <td>Darkness - lights lit</td>\n",
       "      <td>South Bucks</td>\n",
       "      <td>-0.496697</td>\n",
       "      <td>68</td>\n",
       "      <td>1</td>\n",
       "      <td>Wet or damp</td>\n",
       "      <td>Slip road</td>\n",
       "      <td>Rural</td>\n",
       "      <td>Raining no high winds</td>\n",
       "      <td>Car</td>\n",
       "      <td>2019</td>\n",
       "      <td>1</td>\n",
       "      <td>3</td>\n",
       "      <td>3</td>\n",
       "    </tr>\n",
       "  </tbody>\n",
       "</table>\n",
       "</div>"
      ],
      "text/plain": [
       "                Index Accident_Severity Accident Date   Latitude  \\\n",
       "117980  200743N002017             Fatal    2019-01-03  51.497547   \n",
       "\n",
       "             Light_Conditions District Area  Longitude  Number_of_Casualties  \\\n",
       "117980  Darkness - lights lit   South Bucks  -0.496697                    68   \n",
       "\n",
       "        Number_of_Vehicles Road_Surface_Conditions  Road_Type  \\\n",
       "117980                   1             Wet or damp  Slip road   \n",
       "\n",
       "       Urban_or_Rural_Area     Weather_Conditions Vehicle_Type  Year  Month  \\\n",
       "117980               Rural  Raining no high winds          Car  2019      1   \n",
       "\n",
       "        Day  DayOfWeek  \n",
       "117980    3          3  "
      ]
     },
     "execution_count": 44,
     "metadata": {},
     "output_type": "execute_result"
    }
   ],
   "source": [
    "rainy_days[rainy_days[\"Number_of_Casualties\"] == 68]"
   ]
  },
  {
   "cell_type": "markdown",
   "id": "23cd344c-9f06-4d67-be25-18a9d0555b4e",
   "metadata": {},
   "source": [
    "<h2>Insight - 1:</h2>\n",
    "<h2>The highest number of casualties on a rainy day occured on 3/1/2019</h2>\n",
    "<h2>It also shows that there were a lot of fatal accidents since there are a lot of variables being considered such as light condition, road surface condition, road type, and weather condition</h2>\n",
    "\n",
    "<hr>"
   ]
  },
  {
   "cell_type": "markdown",
   "id": "9dda9b96-2bd9-48bf-95fe-018edf7aee7d",
   "metadata": {},
   "source": [
    "<h2>12. Where do accidents occur often on Rural areas or Urban areas </h2>"
   ]
  },
  {
   "cell_type": "code",
   "execution_count": 59,
   "id": "2b664df5-ccba-41b0-8991-f0c706e07c90",
   "metadata": {},
   "outputs": [
    {
     "data": {
      "text/plain": [
       "Urban_or_Rural_Area\n",
       "Urban          421678\n",
       "Rural          238990\n",
       "Unallocated        11\n",
       "Name: count, dtype: int64"
      ]
     },
     "execution_count": 59,
     "metadata": {},
     "output_type": "execute_result"
    }
   ],
   "source": [
    "urban_and_rural = uk_road_accident[\"Urban_or_Rural_Area\"]\n",
    "urban_and_rural.value_counts()"
   ]
  },
  {
   "cell_type": "markdown",
   "id": "ab2350b9-c543-4fed-805a-2a3164d788ad",
   "metadata": {},
   "source": [
    "<h2>Insight - 1:</h2>\n",
    "<h2>Urban places has more accidents meaning that urban areas has 63.8% more vehicles while 36.1% are from Rural areas</h2>\n",
    "<hr>"
   ]
  },
  {
   "cell_type": "markdown",
   "id": "2bc48623-bf98-480c-a44d-d9a34474a4e4",
   "metadata": {},
   "source": [
    "<h2>13. What type of surface condition has the highest cause of death in urban areas?</h2>"
   ]
  },
  {
   "cell_type": "markdown",
   "id": "e6a10562-2ba7-410d-b75a-2146609cf045",
   "metadata": {},
   "source": [
    "<p>first get the fatal accidents occuring on urban areas</p>"
   ]
  },
  {
   "cell_type": "code",
   "execution_count": 57,
   "id": "b68e147d-8e78-4b37-a78f-484182fc89fe",
   "metadata": {},
   "outputs": [],
   "source": [
    "fatal_accidents = uk_road_accident[(uk_road_accident[\"Accident_Severity\"] == \"Fatal\") & (urban_and_rural == \"Urban\")]"
   ]
  },
  {
   "cell_type": "code",
   "execution_count": 61,
   "id": "90a94581-f2e4-4208-8e1b-30f0b6fa3e13",
   "metadata": {},
   "outputs": [],
   "source": [
    "output = fatal_accidents[\"Road_Surface_Conditions\"].value_counts()"
   ]
  },
  {
   "cell_type": "code",
   "execution_count": 63,
   "id": "0e51a522-3d0c-470a-9612-baaf9dcfe14d",
   "metadata": {},
   "outputs": [
    {
     "data": {
      "image/png": "[encoded data removed]",
      "text/plain": [
       "<Figure size 1000x600 with 1 Axes>"
      ]
     },
     "metadata": {},
     "output_type": "display_data"
    }
   ],
   "source": [
    "output.plot(kind=\"bar\", figsize=(10,6))\n",
    "plt.title(\"Number of Casualties per Surface Conditions\")\n",
    "plt.xlabel(\"Road Surface Conditions\")\n",
    "plt.ylabel(\"Number of Casualties\")\n",
    "plt.xticks(rotation=45, ha=\"right\")\n",
    "plt.show()"
   ]
  },
  {
   "cell_type": "markdown",
   "id": "e8cadd02-0348-4676-9953-38b825d024a6",
   "metadata": {},
   "source": [
    "<h2>Insight - 1:</h2>\n",
    "<h2>The data suggests that accidents occur more frequently on dry road surfaces in urban areas, likely due to higher traffic volumes and increased vehicle speeds under such conditions.</h2>\n",
    "<hr>"
   ]
  },
  {
   "cell_type": "markdown",
   "id": "637e0eb3-11f0-4624-8c6a-96a9d82f584c",
   "metadata": {},
   "source": [
    "<h2>14. Is there a significance to fatal accidence occuring on a fine and no wind condition to rainy days</h2>"
   ]
  },
  {
   "cell_type": "code",
   "execution_count": 48,
   "id": "815292e8-d974-4e08-99dc-933582a7b368",
   "metadata": {},
   "outputs": [
    {
     "data": {
      "text/plain": [
       "np.float64(0.9964512108980974)"
      ]
     },
     "execution_count": 48,
     "metadata": {},
     "output_type": "execute_result"
    }
   ],
   "source": [
    "f_oneway(fatal_accidents[fatal_accidents[\"Weather_Conditions\"] == \"Fine no high winds\"][\"Number_of_Casualties\"],\n",
    "         fatal_accidents[fatal_accidents[\"Weather_Conditions\"] == \"Raining no high winds\"][\"Number_of_Casualties\"],\n",
    "        fatal_accidents[fatal_accidents[\"Weather_Conditions\"] == \"Raining + high winds\"][\"Number_of_Casualties\"]).pvalue"
   ]
  },
  {
   "cell_type": "markdown",
   "id": "fc678050-daee-4975-b063-4453a9b0819c",
   "metadata": {},
   "source": [
    "<h2>Insight - 1:</h2>\n",
    "<h2>There is a significance on the number of fatal casualties on during clear days and rainy days</h2>\n",
    "<hr>"
   ]
  },
  {
   "cell_type": "markdown",
   "id": "c586551c-6e91-4b02-a9ba-26db9572b6cd",
   "metadata": {},
   "source": [
    "<h2>15. How many slightest casualties occurder durring a normal weather conditon on a dry road</h2>"
   ]
  },
  {
   "cell_type": "code",
   "execution_count": 49,
   "id": "b754a6ee-10b1-4a57-ad87-30cd2bd83faf",
   "metadata": {},
   "outputs": [
    {
     "data": {
      "text/plain": [
       "np.int64(373539)"
      ]
     },
     "execution_count": 49,
     "metadata": {},
     "output_type": "execute_result"
    }
   ],
   "source": [
    "result = uk_road_accident[(uk_road_accident[\"Accident_Severity\"] == \"Slight\") \n",
    "            & (uk_road_accident[\"Weather_Conditions\"] == \"Fine no high winds\") \n",
    "            & (uk_road_accident[\"Road_Surface_Conditions\"] == \"Dry\")]\n",
    "\n",
    "result[\"Number_of_Casualties\"].value_counts().sum()"
   ]
  },
  {
   "cell_type": "markdown",
   "id": "b2b555da-fc66-4f0e-a011-5de2096d7cc4",
   "metadata": {},
   "source": [
    "<h2>Insight - 1:</h2>\n",
    "<h2>This means that there is still a high chance to accidents to occur with the safest conditons</h2>\n",
    "<h2>Insight - 2:</h2>\n",
    "<h2>This might mean that these accidents happend is becauese of human error</h2>\n",
    "<hr>"
   ]
  },
  {
   "cell_type": "markdown",
   "id": "b63147fe-147d-48b2-a125-5a72cc22a3b1",
   "metadata": {},
   "source": [
    "<h2>16. Is there a correlation between flooded roads and a normal weather when it comes to accidents that occured?</h2>"
   ]
  },
  {
   "cell_type": "code",
   "execution_count": 50,
   "id": "b2a5956c-4053-4639-814b-78018e943670",
   "metadata": {},
   "outputs": [
    {
     "data": {
      "text/plain": [
       "np.float64(0.9999999999999999)"
      ]
     },
     "execution_count": 50,
     "metadata": {},
     "output_type": "execute_result"
    }
   ],
   "source": [
    "flooded_roads = uk_road_accident[uk_road_accident[\"Road_Surface_Conditions\"] == \"Flood over 3cm. deep\"]\n",
    "normal_weather = uk_road_accident[uk_road_accident[\"Weather_Conditions\"] == \"Fine no high winds\"]\n",
    "\n",
    "result = flooded_roads[\"Number_of_Casualties\"].corr(normal_weather[\"Number_of_Casualties\"])\n",
    "result"
   ]
  },
  {
   "cell_type": "markdown",
   "id": "2bb25e75-1c5f-4c7a-868d-972c3d3be3e5",
   "metadata": {},
   "source": [
    "<h2>Insight - 1:</h2>\n",
    "<h2>This means that there is a correlation between flooded road while having a normal weather</h2>\n",
    "<h2>Insight - 2:</h2>\n",
    "<h2>This states that not all floods was caused by a rainy day</h2>\n",
    "<h2>Insight - 3:</h2>\n",
    "<h2>It is also possible that the accident occured after a rainy day</h2>\n",
    "\n",
    "<hr>"
   ]
  },
  {
   "cell_type": "markdown",
   "id": "24beb5bb-070b-40c1-9ad6-68202d8de4a6",
   "metadata": {},
   "source": [
    "<h2>17. Is there a correlation between the having no lights on rulal areas to urban areas with proper lighting with the number of casualties occuring at night? </h2>"
   ]
  },
  {
   "cell_type": "markdown",
   "id": "b68f17e6-cd7f-4b36-b3c2-0237b366e4db",
   "metadata": {},
   "source": [
    "<p>Get the data from no proper lights from rural and urban areas withproper lighting</p>"
   ]
  },
  {
   "cell_type": "code",
   "execution_count": 51,
   "id": "9eac54c7-1654-460c-a62f-d6435c30346f",
   "metadata": {},
   "outputs": [],
   "source": [
    "no_proper_lights = uk_road_accident[(uk_road_accident[\"Urban_or_Rural_Area\"] == \"Rural\") & (uk_road_accident[\"Light_Conditions\"] == \"Darkness - no lighting\")]\n",
    "proper_lights = uk_road_accident[(uk_road_accident[\"Urban_or_Rural_Area\"] == \"Urban\") & (uk_road_accident[\"Light_Conditions\"] == \"Darkness - lights lit\")]"
   ]
  },
  {
   "cell_type": "markdown",
   "id": "287f5dcc-1517-4ad4-bc32-e567bd8a52aa",
   "metadata": {},
   "source": [
    "<p>Aggregate the data from time</p>"
   ]
  },
  {
   "cell_type": "code",
   "execution_count": 52,
   "id": "bd3bf6de-fee3-4110-9ec6-51690195fcbc",
   "metadata": {},
   "outputs": [
    {
     "data": {
      "text/plain": [
       "np.float64(0.8454518568678125)"
      ]
     },
     "execution_count": 52,
     "metadata": {},
     "output_type": "execute_result"
    }
   ],
   "source": [
    "Rural_group = no_proper_lights.groupby(\"Accident Date\")[\"Number_of_Casualties\"].sum()\n",
    "Urban_group = proper_lights.groupby(\"Accident Date\")['Number_of_Casualties'].sum()\n",
    "\n",
    "\n",
    "result = Rural_group.corr(Urban_group)\n",
    "result"
   ]
  },
  {
   "cell_type": "markdown",
   "id": "7a337846-33d9-40fe-b809-5a95d5209c7a",
   "metadata": {},
   "source": [
    "<h2>Insight - 1:</h2>\n",
    "<h2>There is a measurable correlation between casualties from Urban areas with proper lighting and casualties in Rural areas having no proper lighting during nighttime conditions</h2>\n",
    "<hr>"
   ]
  },
  {
   "cell_type": "markdown",
   "id": "d81abfd1-43d3-435e-8aff-cb005320f5a6",
   "metadata": {},
   "source": [
    "<h2>18. Do road types affect the number of casualties during snowy conditions?</h2>"
   ]
  },
  {
   "cell_type": "markdown",
   "id": "f0c24e0c-eeaa-4900-93a1-df08a469afed",
   "metadata": {},
   "source": [
    "<p>Get the snowy weather condition</p>"
   ]
  },
  {
   "cell_type": "code",
   "execution_count": 53,
   "id": "ca862ff8-9d2e-4053-a004-2abb062457e4",
   "metadata": {},
   "outputs": [],
   "source": [
    "snowing_weather_condition = uk_road_accident[(uk_road_accident[\"Weather_Conditions\"] == \"Snowing no high winds\") | (uk_road_accident[\"Weather_Conditions\"] == \"Snowing + high winds\")]"
   ]
  },
  {
   "cell_type": "code",
   "execution_count": 54,
   "id": "14965c3c-e409-406f-9212-d2e5db1c3ff6",
   "metadata": {},
   "outputs": [
    {
     "data": {
      "text/plain": [
       "Road_Type\n",
       "Dual carriageway      1684\n",
       "One way street         111\n",
       "Roundabout             428\n",
       "Single carriageway    7304\n",
       "Slip road               98\n",
       "Name: Number_of_Casualties, dtype: int64"
      ]
     },
     "execution_count": 54,
     "metadata": {},
     "output_type": "execute_result"
    }
   ],
   "source": [
    "result = snowing_weather_condition.groupby(\"Road_Type\")[\"Number_of_Casualties\"].sum()\n",
    "result"
   ]
  },
  {
   "cell_type": "markdown",
   "id": "fc6624dc-02ec-4b78-9fc3-fcde023d8ba4",
   "metadata": {},
   "source": [
    "<h2>Insight - 1:</h2>\n",
    "<h2>Road types matter to the number of casualties occuring</h2>\n",
    "<h2>Insight - 2:</h2>\n",
    "<h2>Single carriageway has the highest number of casualties to occuring during a snowy weather meaning that a slippery road caueses accidents</h2>\n",
    "<hr>"
   ]
  },
  {
   "cell_type": "code",
   "execution_count": null,
   "id": "549f1cad-c3b0-4461-be77-a092ac0af671",
   "metadata": {},
   "outputs": [],
   "source": []
  }
 ],
 "metadata": {
  "kernelspec": {
   "display_name": "Python 3 (ipykernel)",
   "language": "python",
   "name": "python3"
  },
  "language_info": {
   "codemirror_mode": {
    "name": "ipython",
    "version": 3
   },
   "file_extension": ".py",
   "mimetype": "text/x-python",
   "name": "python",
   "nbconvert_exporter": "python",
   "pygments_lexer": "ipython3",
   "version": "3.11.5"
  }
 },
 "nbformat": 4,
 "nbformat_minor": 5
}
